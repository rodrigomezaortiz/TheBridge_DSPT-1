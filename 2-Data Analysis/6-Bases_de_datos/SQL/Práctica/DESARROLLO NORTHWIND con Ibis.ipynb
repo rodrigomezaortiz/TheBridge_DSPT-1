{
 "cells": [
  {
   "cell_type": "markdown",
   "metadata": {},
   "source": [
    "# NORTHWIND DATABASE"
   ]
  },
  {
   "cell_type": "markdown",
   "metadata": {},
   "source": [
    "El **objetivo** de este ejercicio es generar una serie de consultas SQL que permitan extraer información relevante de la base de datos y luego exportar los resultados para construir dashboards o visualizaciones que proporcionen insights valiosos para la toma de decisiones empresariales.\n",
    "\n",
    "La base de datos Northwind es una base de datos de ejemplo clásica que simula las operaciones de una empresa minorista. Contiene tablas relacionales que representan diferentes aspectos del negocio, como productos, clientes, pedidos y empleados. Utilizando consultas SQL, podrás explorar y analizar estos datos para comprender mejor el desempeño del negocio en diferentes áreas.\n",
    "\n",
    "Una vez que hayas realizado las consultas SQL y obtenido los resultados, podrás utilizarlos para herramientas de visualización de datos como Tableau, Power BI, Streamlit o cualquier otra herramienta de tu elección. "
   ]
  },
  {
   "cell_type": "code",
   "execution_count": 9,
   "metadata": {},
   "outputs": [
    {
     "name": "stderr",
     "output_type": "stream",
     "text": [
      "\"[imagen]\" no se reconoce como un comando interno o externo,\n",
      "programa o archivo por lotes ejecutable.\n"
     ]
    }
   ],
   "source": [
    "![imagen](./img/northwind-er-diagram.png) "
   ]
  },
  {
   "cell_type": "markdown",
   "metadata": {},
   "source": [
    "Tendrás que elegir uno de los retos a resolver:"
   ]
  },
  {
   "cell_type": "code",
   "execution_count": 10,
   "metadata": {},
   "outputs": [
    {
     "name": "stdout",
     "output_type": "stream",
     "text": [
      "Requirement already satisfied: ibis-framework[sqlite] in c:\\users\\rodri\\anaconda3\\lib\\site-packages (9.0.0)\n",
      "Requirement already satisfied: atpublic<5,>=2.3 in c:\\users\\rodri\\anaconda3\\lib\\site-packages (from ibis-framework[sqlite]) (4.1.0)\n",
      "Requirement already satisfied: bidict<1,>=0.22.1 in c:\\users\\rodri\\anaconda3\\lib\\site-packages (from ibis-framework[sqlite]) (0.23.1)\n",
      "Requirement already satisfied: numpy<2,>=1.23.2 in c:\\users\\rodri\\anaconda3\\lib\\site-packages (from ibis-framework[sqlite]) (1.26.4)\n",
      "Requirement already satisfied: pandas<3,>=1.5.3 in c:\\users\\rodri\\anaconda3\\lib\\site-packages (from ibis-framework[sqlite]) (2.1.4)\n",
      "Requirement already satisfied: parsy<3,>=2 in c:\\users\\rodri\\anaconda3\\lib\\site-packages (from ibis-framework[sqlite]) (2.1)\n",
      "Requirement already satisfied: pyarrow<17,>=10.0.1 in c:\\users\\rodri\\anaconda3\\lib\\site-packages (from ibis-framework[sqlite]) (14.0.2)\n",
      "Requirement already satisfied: pyarrow-hotfix<1,>=0.4 in c:\\users\\rodri\\anaconda3\\lib\\site-packages (from ibis-framework[sqlite]) (0.6)\n",
      "Requirement already satisfied: python-dateutil<3,>=2.8.2 in c:\\users\\rodri\\anaconda3\\lib\\site-packages (from ibis-framework[sqlite]) (2.8.2)\n",
      "Requirement already satisfied: pytz>=2022.7 in c:\\users\\rodri\\anaconda3\\lib\\site-packages (from ibis-framework[sqlite]) (2023.3.post1)\n",
      "Requirement already satisfied: regex>=2021.7.6 in c:\\users\\rodri\\anaconda3\\lib\\site-packages (from ibis-framework[sqlite]) (2023.10.3)\n",
      "Requirement already satisfied: rich<14,>=12.4.4 in c:\\users\\rodri\\anaconda3\\lib\\site-packages (from ibis-framework[sqlite]) (13.3.5)\n",
      "Requirement already satisfied: sqlglot<23.13,>=23.4 in c:\\users\\rodri\\anaconda3\\lib\\site-packages (from ibis-framework[sqlite]) (23.12.2)\n",
      "Requirement already satisfied: toolz<1,>=0.11 in c:\\users\\rodri\\anaconda3\\lib\\site-packages (from ibis-framework[sqlite]) (0.12.0)\n",
      "Requirement already satisfied: typing-extensions<5,>=4.3.0 in c:\\users\\rodri\\anaconda3\\lib\\site-packages (from ibis-framework[sqlite]) (4.9.0)\n",
      "Requirement already satisfied: tzdata>=2022.1 in c:\\users\\rodri\\anaconda3\\lib\\site-packages (from pandas<3,>=1.5.3->ibis-framework[sqlite]) (2023.3)\n",
      "Requirement already satisfied: six>=1.5 in c:\\users\\rodri\\anaconda3\\lib\\site-packages (from python-dateutil<3,>=2.8.2->ibis-framework[sqlite]) (1.16.0)\n",
      "Requirement already satisfied: markdown-it-py<3.0.0,>=2.2.0 in c:\\users\\rodri\\anaconda3\\lib\\site-packages (from rich<14,>=12.4.4->ibis-framework[sqlite]) (2.2.0)\n",
      "Requirement already satisfied: pygments<3.0.0,>=2.13.0 in c:\\users\\rodri\\anaconda3\\lib\\site-packages (from rich<14,>=12.4.4->ibis-framework[sqlite]) (2.15.1)\n",
      "Requirement already satisfied: mdurl~=0.1 in c:\\users\\rodri\\anaconda3\\lib\\site-packages (from markdown-it-py<3.0.0,>=2.2.0->rich<14,>=12.4.4->ibis-framework[sqlite]) (0.1.0)\n",
      "Note: you may need to restart the kernel to use updated packages.\n"
     ]
    }
   ],
   "source": [
    "pip install ibis-framework[sqlite]"
   ]
  },
  {
   "cell_type": "code",
   "execution_count": 11,
   "metadata": {},
   "outputs": [],
   "source": [
    "from sqlalchemy import create_engine \n",
    "\n",
    "engine = create_engine('sqlite:///C:/Users/rodri/OneDrive/Escritorio/DATA_SCIENCE/CODIGO_CLASES/TheBridge_DSPT-1/2-Data_Analysis/6-Bases_de_datos/SQL/Práctica/Northwind/data/northwind.db', echo=False)\n",
    "connection = engine.connect() "
   ]
  },
  {
   "cell_type": "code",
   "execution_count": 12,
   "metadata": {},
   "outputs": [],
   "source": [
    "# 1.- CON 'SELECT' SELECCIONO TODOS LOS CAMPOS QUE VOY A NECESITAR \n",
    "# 2.- LUEGO, CON 'FROM' COMIENZO LA ORDER DE JUNTAR LAS TABLAS QUE CONTIENEN LOS CAMPOS QUE NECESITO Y LUEGO 'INNER JOIN' "
   ]
  },
  {
   "cell_type": "code",
   "execution_count": 13,
   "metadata": {},
   "outputs": [
    {
     "data": {
      "text/html": [
       "<div>\n",
       "<style scoped>\n",
       "    .dataframe tbody tr th:only-of-type {\n",
       "        vertical-align: middle;\n",
       "    }\n",
       "\n",
       "    .dataframe tbody tr th {\n",
       "        vertical-align: top;\n",
       "    }\n",
       "\n",
       "    .dataframe thead th {\n",
       "        text-align: right;\n",
       "    }\n",
       "</style>\n",
       "<table border=\"1\" class=\"dataframe\">\n",
       "  <thead>\n",
       "    <tr style=\"text-align: right;\">\n",
       "      <th></th>\n",
       "      <th>OrderDate</th>\n",
       "      <th>ShipRegion</th>\n",
       "      <th>Total</th>\n",
       "      <th>ProductName</th>\n",
       "    </tr>\n",
       "  </thead>\n",
       "  <tbody>\n",
       "    <tr>\n",
       "      <th>0</th>\n",
       "      <td>2016-07-04 00:00:00</td>\n",
       "      <td>Western Europe</td>\n",
       "      <td>168.00</td>\n",
       "      <td>Queso Cabrales</td>\n",
       "    </tr>\n",
       "    <tr>\n",
       "      <th>1</th>\n",
       "      <td>2016-07-04 00:00:00</td>\n",
       "      <td>Western Europe</td>\n",
       "      <td>98.00</td>\n",
       "      <td>Singaporean Hokkien Fried Mee</td>\n",
       "    </tr>\n",
       "    <tr>\n",
       "      <th>2</th>\n",
       "      <td>2016-07-04 00:00:00</td>\n",
       "      <td>Western Europe</td>\n",
       "      <td>174.00</td>\n",
       "      <td>Mozzarella di Giovanni</td>\n",
       "    </tr>\n",
       "    <tr>\n",
       "      <th>3</th>\n",
       "      <td>2016-07-05 00:00:00</td>\n",
       "      <td>Western Europe</td>\n",
       "      <td>167.40</td>\n",
       "      <td>Tofu</td>\n",
       "    </tr>\n",
       "    <tr>\n",
       "      <th>4</th>\n",
       "      <td>2016-07-05 00:00:00</td>\n",
       "      <td>Western Europe</td>\n",
       "      <td>1696.00</td>\n",
       "      <td>Manjimup Dried Apples</td>\n",
       "    </tr>\n",
       "    <tr>\n",
       "      <th>...</th>\n",
       "      <td>...</td>\n",
       "      <td>...</td>\n",
       "      <td>...</td>\n",
       "      <td>...</td>\n",
       "    </tr>\n",
       "    <tr>\n",
       "      <th>609278</th>\n",
       "      <td>2023-01-10 05:40:51</td>\n",
       "      <td>British Isles</td>\n",
       "      <td>806.00</td>\n",
       "      <td>Ikura</td>\n",
       "    </tr>\n",
       "    <tr>\n",
       "      <th>609279</th>\n",
       "      <td>2023-01-10 05:40:51</td>\n",
       "      <td>British Isles</td>\n",
       "      <td>216.00</td>\n",
       "      <td>Spegesild</td>\n",
       "    </tr>\n",
       "    <tr>\n",
       "      <th>609280</th>\n",
       "      <td>2023-01-10 05:40:51</td>\n",
       "      <td>British Isles</td>\n",
       "      <td>93.69</td>\n",
       "      <td>Gumbär Gummibärchen</td>\n",
       "    </tr>\n",
       "    <tr>\n",
       "      <th>609281</th>\n",
       "      <td>2023-01-10 05:40:51</td>\n",
       "      <td>British Isles</td>\n",
       "      <td>1053.60</td>\n",
       "      <td>Schoggi Schokolade</td>\n",
       "    </tr>\n",
       "    <tr>\n",
       "      <th>609282</th>\n",
       "      <td>2023-01-10 05:40:51</td>\n",
       "      <td>British Isles</td>\n",
       "      <td>1014.00</td>\n",
       "      <td>Alice Mutton</td>\n",
       "    </tr>\n",
       "  </tbody>\n",
       "</table>\n",
       "<p>609283 rows × 4 columns</p>\n",
       "</div>"
      ],
      "text/plain": [
       "                  OrderDate      ShipRegion    Total  \\\n",
       "0       2016-07-04 00:00:00  Western Europe   168.00   \n",
       "1       2016-07-04 00:00:00  Western Europe    98.00   \n",
       "2       2016-07-04 00:00:00  Western Europe   174.00   \n",
       "3       2016-07-05 00:00:00  Western Europe   167.40   \n",
       "4       2016-07-05 00:00:00  Western Europe  1696.00   \n",
       "...                     ...             ...      ...   \n",
       "609278  2023-01-10 05:40:51   British Isles   806.00   \n",
       "609279  2023-01-10 05:40:51   British Isles   216.00   \n",
       "609280  2023-01-10 05:40:51   British Isles    93.69   \n",
       "609281  2023-01-10 05:40:51   British Isles  1053.60   \n",
       "609282  2023-01-10 05:40:51   British Isles  1014.00   \n",
       "\n",
       "                          ProductName  \n",
       "0                      Queso Cabrales  \n",
       "1       Singaporean Hokkien Fried Mee  \n",
       "2              Mozzarella di Giovanni  \n",
       "3                                Tofu  \n",
       "4               Manjimup Dried Apples  \n",
       "...                               ...  \n",
       "609278                          Ikura  \n",
       "609279                      Spegesild  \n",
       "609280            Gumbär Gummibärchen  \n",
       "609281             Schoggi Schokolade  \n",
       "609282                   Alice Mutton  \n",
       "\n",
       "[609283 rows x 4 columns]"
      ]
     },
     "execution_count": 13,
     "metadata": {},
     "output_type": "execute_result"
    }
   ],
   "source": [
    "import pandas as pd \n",
    "\n",
    "consulta = \"\"\"\n",
    "SELECT datetime(o.OrderDate) as OrderDate, o.ShipRegion, od.Quantity*od.UnitPrice*(1-od.Discount) AS Total, p.ProductName \n",
    "FROM Orders o\n",
    "INNER JOIN [Order Details] od ON od.OrderID == o.OrderID\n",
    "INNER JOIN Products p ON p.ProductID = od.ProductID\n",
    "\"\"\" \n",
    "\n",
    "data_df = pd.read_sql(consulta, con=connection)\n",
    "data_df "
   ]
  },
  {
   "cell_type": "code",
   "execution_count": 14,
   "metadata": {},
   "outputs": [
    {
     "data": {
      "text/plain": [
       "OrderDate       object\n",
       "ShipRegion      object\n",
       "Total          float64\n",
       "ProductName     object\n",
       "dtype: object"
      ]
     },
     "execution_count": 14,
     "metadata": {},
     "output_type": "execute_result"
    }
   ],
   "source": [
    "data_df.dtypes "
   ]
  },
  {
   "cell_type": "code",
   "execution_count": 15,
   "metadata": {},
   "outputs": [],
   "source": [
    "data_df[\"OrderDate\"] = pd.to_datetime(data_df['OrderDate']) # CON 'Pandas' CON 'to_datetime' CONVIERTE EL CAMPO 'OrderDate' A FORMATO 'datetime' \n",
    "data_df.set_index(\"OrderDate\", inplace=True) # PONE EL CAMPO 'OrderDate' COMO INDICE PORQUE LE PIDEN LOS PRODUCTOS POR FECHAS  "
   ]
  },
  {
   "cell_type": "code",
   "execution_count": 16,
   "metadata": {},
   "outputs": [
    {
     "data": {
      "text/plain": [
       "DatetimeIndex(['2016-07-04 00:00:00', '2016-07-04 00:00:00',\n",
       "               '2016-07-04 00:00:00', '2016-07-05 00:00:00',\n",
       "               '2016-07-05 00:00:00', '2016-07-08 00:00:00',\n",
       "               '2016-07-08 00:00:00', '2016-07-08 00:00:00',\n",
       "               '2016-07-08 00:00:00', '2016-07-08 00:00:00',\n",
       "               ...\n",
       "               '2023-01-10 05:40:51', '2023-01-10 05:40:51',\n",
       "               '2023-01-10 05:40:51', '2023-01-10 05:40:51',\n",
       "               '2023-01-10 05:40:51', '2023-01-10 05:40:51',\n",
       "               '2023-01-10 05:40:51', '2023-01-10 05:40:51',\n",
       "               '2023-01-10 05:40:51', '2023-01-10 05:40:51'],\n",
       "              dtype='datetime64[ns]', name='OrderDate', length=609283, freq=None)"
      ]
     },
     "execution_count": 16,
     "metadata": {},
     "output_type": "execute_result"
    }
   ],
   "source": [
    "data_df.index "
   ]
  },
  {
   "cell_type": "code",
   "execution_count": 17,
   "metadata": {},
   "outputs": [
    {
     "data": {
      "text/html": [
       "<div>\n",
       "<style scoped>\n",
       "    .dataframe tbody tr th:only-of-type {\n",
       "        vertical-align: middle;\n",
       "    }\n",
       "\n",
       "    .dataframe tbody tr th {\n",
       "        vertical-align: top;\n",
       "    }\n",
       "\n",
       "    .dataframe thead th {\n",
       "        text-align: right;\n",
       "    }\n",
       "</style>\n",
       "<table border=\"1\" class=\"dataframe\">\n",
       "  <thead>\n",
       "    <tr style=\"text-align: right;\">\n",
       "      <th></th>\n",
       "      <th>ShipRegion</th>\n",
       "      <th>Total</th>\n",
       "      <th>ProductName</th>\n",
       "    </tr>\n",
       "    <tr>\n",
       "      <th>OrderDate</th>\n",
       "      <th></th>\n",
       "      <th></th>\n",
       "      <th></th>\n",
       "    </tr>\n",
       "  </thead>\n",
       "  <tbody>\n",
       "    <tr>\n",
       "      <th>2016-07-04</th>\n",
       "      <td>Western Europe</td>\n",
       "      <td>168.0</td>\n",
       "      <td>Queso Cabrales</td>\n",
       "    </tr>\n",
       "    <tr>\n",
       "      <th>2016-07-04</th>\n",
       "      <td>Western Europe</td>\n",
       "      <td>98.0</td>\n",
       "      <td>Singaporean Hokkien Fried Mee</td>\n",
       "    </tr>\n",
       "    <tr>\n",
       "      <th>2016-07-04</th>\n",
       "      <td>Western Europe</td>\n",
       "      <td>174.0</td>\n",
       "      <td>Mozzarella di Giovanni</td>\n",
       "    </tr>\n",
       "    <tr>\n",
       "      <th>2016-07-05</th>\n",
       "      <td>Western Europe</td>\n",
       "      <td>167.4</td>\n",
       "      <td>Tofu</td>\n",
       "    </tr>\n",
       "    <tr>\n",
       "      <th>2016-07-05</th>\n",
       "      <td>Western Europe</td>\n",
       "      <td>1696.0</td>\n",
       "      <td>Manjimup Dried Apples</td>\n",
       "    </tr>\n",
       "  </tbody>\n",
       "</table>\n",
       "</div>"
      ],
      "text/plain": [
       "                ShipRegion   Total                    ProductName\n",
       "OrderDate                                                        \n",
       "2016-07-04  Western Europe   168.0                 Queso Cabrales\n",
       "2016-07-04  Western Europe    98.0  Singaporean Hokkien Fried Mee\n",
       "2016-07-04  Western Europe   174.0         Mozzarella di Giovanni\n",
       "2016-07-05  Western Europe   167.4                           Tofu\n",
       "2016-07-05  Western Europe  1696.0          Manjimup Dried Apples"
      ]
     },
     "execution_count": 17,
     "metadata": {},
     "output_type": "execute_result"
    }
   ],
   "source": [
    "data_df.head() # AQUI SE PUEDE VER QUE EL CAMPO 'OrderDate' ESTA CONVERTIDO EN EL INDICE DE LA TABLA DE DATOS "
   ]
  },
  {
   "cell_type": "code",
   "execution_count": 18,
   "metadata": {},
   "outputs": [
    {
     "data": {
      "text/plain": [
       "array(['Western Europe', 'South America', 'Central America',\n",
       "       'North America', 'Northern Europe', 'Scandinavia',\n",
       "       'Southern Europe', 'British Isles', 'Eastern Europe'], dtype=object)"
      ]
     },
     "execution_count": 18,
     "metadata": {},
     "output_type": "execute_result"
    }
   ],
   "source": [
    "data_df[\"ShipRegion\"].unique() "
   ]
  },
  {
   "cell_type": "code",
   "execution_count": 19,
   "metadata": {},
   "outputs": [
    {
     "data": {
      "text/html": [
       "<div>\n",
       "<style scoped>\n",
       "    .dataframe tbody tr th:only-of-type {\n",
       "        vertical-align: middle;\n",
       "    }\n",
       "\n",
       "    .dataframe tbody tr th {\n",
       "        vertical-align: top;\n",
       "    }\n",
       "\n",
       "    .dataframe thead th {\n",
       "        text-align: right;\n",
       "    }\n",
       "</style>\n",
       "<table border=\"1\" class=\"dataframe\">\n",
       "  <thead>\n",
       "    <tr style=\"text-align: right;\">\n",
       "      <th></th>\n",
       "      <th></th>\n",
       "      <th>Total</th>\n",
       "    </tr>\n",
       "    <tr>\n",
       "      <th>ShipRegion</th>\n",
       "      <th>OrderDate</th>\n",
       "      <th></th>\n",
       "    </tr>\n",
       "  </thead>\n",
       "  <tbody>\n",
       "    <tr>\n",
       "      <th rowspan=\"5\" valign=\"top\">British Isles</th>\n",
       "      <th>2012-12-31</th>\n",
       "      <td>1638348.80</td>\n",
       "    </tr>\n",
       "    <tr>\n",
       "      <th>2013-12-31</th>\n",
       "      <td>3187710.17</td>\n",
       "    </tr>\n",
       "    <tr>\n",
       "      <th>2014-12-31</th>\n",
       "      <td>3872600.66</td>\n",
       "    </tr>\n",
       "    <tr>\n",
       "      <th>2015-12-31</th>\n",
       "      <td>3479483.72</td>\n",
       "    </tr>\n",
       "    <tr>\n",
       "      <th>2016-12-30</th>\n",
       "      <td>3555466.03</td>\n",
       "    </tr>\n",
       "    <tr>\n",
       "      <th>...</th>\n",
       "      <th>...</th>\n",
       "      <td>...</td>\n",
       "    </tr>\n",
       "    <tr>\n",
       "      <th rowspan=\"5\" valign=\"top\">Western Europe</th>\n",
       "      <th>2019-12-31</th>\n",
       "      <td>11560187.87</td>\n",
       "    </tr>\n",
       "    <tr>\n",
       "      <th>2020-12-31</th>\n",
       "      <td>12029549.51</td>\n",
       "    </tr>\n",
       "    <tr>\n",
       "      <th>2021-12-31</th>\n",
       "      <td>11181004.58</td>\n",
       "    </tr>\n",
       "    <tr>\n",
       "      <th>2022-12-30</th>\n",
       "      <td>11075892.76</td>\n",
       "    </tr>\n",
       "    <tr>\n",
       "      <th>2023-12-29</th>\n",
       "      <td>9967003.48</td>\n",
       "    </tr>\n",
       "  </tbody>\n",
       "</table>\n",
       "<p>108 rows × 1 columns</p>\n",
       "</div>"
      ],
      "text/plain": [
       "                                 Total\n",
       "ShipRegion     OrderDate              \n",
       "British Isles  2012-12-31   1638348.80\n",
       "               2013-12-31   3187710.17\n",
       "               2014-12-31   3872600.66\n",
       "               2015-12-31   3479483.72\n",
       "               2016-12-30   3555466.03\n",
       "...                                ...\n",
       "Western Europe 2019-12-31  11560187.87\n",
       "               2020-12-31  12029549.51\n",
       "               2021-12-31  11181004.58\n",
       "               2022-12-30  11075892.76\n",
       "               2023-12-29   9967003.48\n",
       "\n",
       "[108 rows x 1 columns]"
      ]
     },
     "execution_count": 19,
     "metadata": {},
     "output_type": "execute_result"
    }
   ],
   "source": [
    "reg_prod_total = data_df.groupby([\"ShipRegion\"]).resample(\"BY\").sum(\"Total\")\n",
    "reg_prod_total # AGRUPA POR \"ShipRegion\", Y LA SUMA DEL CAMPO \"Total\" (DE LA TABLA ANTERIOR) LA HACE CONSIDERANDO TODOS LOS DATOS DEL AÑO 'resample(\"BY\")'  "
   ]
  },
  {
   "cell_type": "code",
   "execution_count": 20,
   "metadata": {},
   "outputs": [
    {
     "data": {
      "text/html": [
       "<div>\n",
       "<style scoped>\n",
       "    .dataframe tbody tr th:only-of-type {\n",
       "        vertical-align: middle;\n",
       "    }\n",
       "\n",
       "    .dataframe tbody tr th {\n",
       "        vertical-align: top;\n",
       "    }\n",
       "\n",
       "    .dataframe thead th {\n",
       "        text-align: right;\n",
       "    }\n",
       "</style>\n",
       "<table border=\"1\" class=\"dataframe\">\n",
       "  <thead>\n",
       "    <tr style=\"text-align: right;\">\n",
       "      <th></th>\n",
       "      <th>ShipRegion</th>\n",
       "      <th>OrderDate</th>\n",
       "      <th>Total</th>\n",
       "    </tr>\n",
       "  </thead>\n",
       "  <tbody>\n",
       "    <tr>\n",
       "      <th>0</th>\n",
       "      <td>British Isles</td>\n",
       "      <td>2012-12-31</td>\n",
       "      <td>1638348.80</td>\n",
       "    </tr>\n",
       "    <tr>\n",
       "      <th>1</th>\n",
       "      <td>British Isles</td>\n",
       "      <td>2013-12-31</td>\n",
       "      <td>3187710.17</td>\n",
       "    </tr>\n",
       "    <tr>\n",
       "      <th>2</th>\n",
       "      <td>British Isles</td>\n",
       "      <td>2014-12-31</td>\n",
       "      <td>3872600.66</td>\n",
       "    </tr>\n",
       "    <tr>\n",
       "      <th>3</th>\n",
       "      <td>British Isles</td>\n",
       "      <td>2015-12-31</td>\n",
       "      <td>3479483.72</td>\n",
       "    </tr>\n",
       "    <tr>\n",
       "      <th>4</th>\n",
       "      <td>British Isles</td>\n",
       "      <td>2016-12-30</td>\n",
       "      <td>3555466.03</td>\n",
       "    </tr>\n",
       "    <tr>\n",
       "      <th>...</th>\n",
       "      <td>...</td>\n",
       "      <td>...</td>\n",
       "      <td>...</td>\n",
       "    </tr>\n",
       "    <tr>\n",
       "      <th>103</th>\n",
       "      <td>Western Europe</td>\n",
       "      <td>2019-12-31</td>\n",
       "      <td>11560187.87</td>\n",
       "    </tr>\n",
       "    <tr>\n",
       "      <th>104</th>\n",
       "      <td>Western Europe</td>\n",
       "      <td>2020-12-31</td>\n",
       "      <td>12029549.51</td>\n",
       "    </tr>\n",
       "    <tr>\n",
       "      <th>105</th>\n",
       "      <td>Western Europe</td>\n",
       "      <td>2021-12-31</td>\n",
       "      <td>11181004.58</td>\n",
       "    </tr>\n",
       "    <tr>\n",
       "      <th>106</th>\n",
       "      <td>Western Europe</td>\n",
       "      <td>2022-12-30</td>\n",
       "      <td>11075892.76</td>\n",
       "    </tr>\n",
       "    <tr>\n",
       "      <th>107</th>\n",
       "      <td>Western Europe</td>\n",
       "      <td>2023-12-29</td>\n",
       "      <td>9967003.48</td>\n",
       "    </tr>\n",
       "  </tbody>\n",
       "</table>\n",
       "<p>108 rows × 3 columns</p>\n",
       "</div>"
      ],
      "text/plain": [
       "         ShipRegion  OrderDate        Total\n",
       "0     British Isles 2012-12-31   1638348.80\n",
       "1     British Isles 2013-12-31   3187710.17\n",
       "2     British Isles 2014-12-31   3872600.66\n",
       "3     British Isles 2015-12-31   3479483.72\n",
       "4     British Isles 2016-12-30   3555466.03\n",
       "..              ...        ...          ...\n",
       "103  Western Europe 2019-12-31  11560187.87\n",
       "104  Western Europe 2020-12-31  12029549.51\n",
       "105  Western Europe 2021-12-31  11181004.58\n",
       "106  Western Europe 2022-12-30  11075892.76\n",
       "107  Western Europe 2023-12-29   9967003.48\n",
       "\n",
       "[108 rows x 3 columns]"
      ]
     },
     "execution_count": 20,
     "metadata": {},
     "output_type": "execute_result"
    }
   ],
   "source": [
    "reg_prod_total.reset_index(inplace=True) \n",
    "reg_prod_total # QUITA EL INDICE QUE HABIA FIJADO PARA SACAR LA TABLA ANTERIOR "
   ]
  },
  {
   "cell_type": "code",
   "execution_count": 21,
   "metadata": {},
   "outputs": [
    {
     "data": {
      "text/html": [
       "<div>\n",
       "<style scoped>\n",
       "    .dataframe tbody tr th:only-of-type {\n",
       "        vertical-align: middle;\n",
       "    }\n",
       "\n",
       "    .dataframe tbody tr th {\n",
       "        vertical-align: top;\n",
       "    }\n",
       "\n",
       "    .dataframe thead th {\n",
       "        text-align: right;\n",
       "    }\n",
       "</style>\n",
       "<table border=\"1\" class=\"dataframe\">\n",
       "  <thead>\n",
       "    <tr style=\"text-align: right;\">\n",
       "      <th></th>\n",
       "      <th>ShipRegion</th>\n",
       "      <th>OrderDate</th>\n",
       "      <th>Total</th>\n",
       "      <th>Year</th>\n",
       "    </tr>\n",
       "  </thead>\n",
       "  <tbody>\n",
       "    <tr>\n",
       "      <th>0</th>\n",
       "      <td>British Isles</td>\n",
       "      <td>2012-12-31</td>\n",
       "      <td>1638348.80</td>\n",
       "      <td>2012</td>\n",
       "    </tr>\n",
       "    <tr>\n",
       "      <th>1</th>\n",
       "      <td>British Isles</td>\n",
       "      <td>2013-12-31</td>\n",
       "      <td>3187710.17</td>\n",
       "      <td>2013</td>\n",
       "    </tr>\n",
       "    <tr>\n",
       "      <th>2</th>\n",
       "      <td>British Isles</td>\n",
       "      <td>2014-12-31</td>\n",
       "      <td>3872600.66</td>\n",
       "      <td>2014</td>\n",
       "    </tr>\n",
       "    <tr>\n",
       "      <th>3</th>\n",
       "      <td>British Isles</td>\n",
       "      <td>2015-12-31</td>\n",
       "      <td>3479483.72</td>\n",
       "      <td>2015</td>\n",
       "    </tr>\n",
       "    <tr>\n",
       "      <th>4</th>\n",
       "      <td>British Isles</td>\n",
       "      <td>2016-12-30</td>\n",
       "      <td>3555466.03</td>\n",
       "      <td>2016</td>\n",
       "    </tr>\n",
       "    <tr>\n",
       "      <th>...</th>\n",
       "      <td>...</td>\n",
       "      <td>...</td>\n",
       "      <td>...</td>\n",
       "      <td>...</td>\n",
       "    </tr>\n",
       "    <tr>\n",
       "      <th>103</th>\n",
       "      <td>Western Europe</td>\n",
       "      <td>2019-12-31</td>\n",
       "      <td>11560187.87</td>\n",
       "      <td>2019</td>\n",
       "    </tr>\n",
       "    <tr>\n",
       "      <th>104</th>\n",
       "      <td>Western Europe</td>\n",
       "      <td>2020-12-31</td>\n",
       "      <td>12029549.51</td>\n",
       "      <td>2020</td>\n",
       "    </tr>\n",
       "    <tr>\n",
       "      <th>105</th>\n",
       "      <td>Western Europe</td>\n",
       "      <td>2021-12-31</td>\n",
       "      <td>11181004.58</td>\n",
       "      <td>2021</td>\n",
       "    </tr>\n",
       "    <tr>\n",
       "      <th>106</th>\n",
       "      <td>Western Europe</td>\n",
       "      <td>2022-12-30</td>\n",
       "      <td>11075892.76</td>\n",
       "      <td>2022</td>\n",
       "    </tr>\n",
       "    <tr>\n",
       "      <th>107</th>\n",
       "      <td>Western Europe</td>\n",
       "      <td>2023-12-29</td>\n",
       "      <td>9967003.48</td>\n",
       "      <td>2023</td>\n",
       "    </tr>\n",
       "  </tbody>\n",
       "</table>\n",
       "<p>108 rows × 4 columns</p>\n",
       "</div>"
      ],
      "text/plain": [
       "         ShipRegion  OrderDate        Total  Year\n",
       "0     British Isles 2012-12-31   1638348.80  2012\n",
       "1     British Isles 2013-12-31   3187710.17  2013\n",
       "2     British Isles 2014-12-31   3872600.66  2014\n",
       "3     British Isles 2015-12-31   3479483.72  2015\n",
       "4     British Isles 2016-12-30   3555466.03  2016\n",
       "..              ...        ...          ...   ...\n",
       "103  Western Europe 2019-12-31  11560187.87  2019\n",
       "104  Western Europe 2020-12-31  12029549.51  2020\n",
       "105  Western Europe 2021-12-31  11181004.58  2021\n",
       "106  Western Europe 2022-12-30  11075892.76  2022\n",
       "107  Western Europe 2023-12-29   9967003.48  2023\n",
       "\n",
       "[108 rows x 4 columns]"
      ]
     },
     "execution_count": 21,
     "metadata": {},
     "output_type": "execute_result"
    }
   ],
   "source": [
    "reg_prod_total[\"Year\"] = reg_prod_total[\"OrderDate\"].dt.year \n",
    "reg_prod_total # PARA SACAR EL AÑO Y COMO EL DATO ES DEL TIPO 'date' UTILIZA EL COMANDO 'dt' \n",
    "# ASÍ SE TRABAJA CON AÑOS COMPLETOS EN LUGAR DE FECHAS, QUE HAY MUCHAS DENTRO DE UN AÑO, SE CREA EL CAMPO 'Year' \n",
    "# '.str' SI ES CADENA DE TEXTO, "
   ]
  },
  {
   "cell_type": "code",
   "execution_count": 22,
   "metadata": {},
   "outputs": [
    {
     "data": {
      "application/vnd.plotly.v1+json": {
       "config": {
        "plotlyServerURL": "https://plot.ly"
       },
       "data": [
        {
         "hovertemplate": "ShipRegion=British Isles<br>Year=%{x}<br>Total=%{y}<extra></extra>",
         "legendgroup": "British Isles",
         "line": {
          "color": "#636efa",
          "dash": "solid"
         },
         "marker": {
          "symbol": "circle"
         },
         "mode": "lines",
         "name": "British Isles",
         "orientation": "v",
         "showlegend": true,
         "type": "scatter",
         "x": [
          2012,
          2013,
          2014,
          2015,
          2016,
          2017,
          2018,
          2019,
          2020,
          2021,
          2022,
          2023
         ],
         "xaxis": "x",
         "y": [
          1638348.8,
          3187710.17,
          3872600.66,
          3479483.72,
          3555466.03,
          3561179.99,
          3879084.365,
          3809746.77,
          3120160.24,
          4101053.79,
          3284142.23,
          3282923.93
         ],
         "yaxis": "y"
        },
        {
         "hovertemplate": "ShipRegion=Central America<br>Year=%{x}<br>Total=%{y}<extra></extra>",
         "legendgroup": "Central America",
         "line": {
          "color": "#EF553B",
          "dash": "solid"
         },
         "marker": {
          "symbol": "circle"
         },
         "mode": "lines",
         "name": "Central America",
         "orientation": "v",
         "showlegend": true,
         "type": "scatter",
         "x": [
          2012,
          2013,
          2014,
          2015,
          2016,
          2017,
          2018,
          2019,
          2020,
          2021,
          2022,
          2023
         ],
         "xaxis": "x",
         "y": [
          1188844.52,
          2599367.25,
          2370370.14,
          2074745.05,
          1966539.51,
          2603166.6475,
          1883164.94,
          2348145.63,
          1809759.2,
          2836588.32,
          2174732.56,
          1582689.75
         ],
         "yaxis": "y"
        },
        {
         "hovertemplate": "ShipRegion=Eastern Europe<br>Year=%{x}<br>Total=%{y}<extra></extra>",
         "legendgroup": "Eastern Europe",
         "line": {
          "color": "#00cc96",
          "dash": "solid"
         },
         "marker": {
          "symbol": "circle"
         },
         "mode": "lines",
         "name": "Eastern Europe",
         "orientation": "v",
         "showlegend": true,
         "type": "scatter",
         "x": [
          2012,
          2013,
          2014,
          2015,
          2016,
          2017,
          2018,
          2019,
          2020,
          2021,
          2022,
          2023
         ],
         "xaxis": "x",
         "y": [
          214231.87,
          594148.24,
          517857.47000000003,
          808368.46,
          311008.89,
          456789.54,
          450040.59,
          518189.62,
          433575.7,
          606804.82,
          680749.64,
          364418.09
         ],
         "yaxis": "y"
        },
        {
         "hovertemplate": "ShipRegion=North America<br>Year=%{x}<br>Total=%{y}<extra></extra>",
         "legendgroup": "North America",
         "line": {
          "color": "#ab63fa",
          "dash": "solid"
         },
         "marker": {
          "symbol": "circle"
         },
         "mode": "lines",
         "name": "North America",
         "orientation": "v",
         "showlegend": true,
         "type": "scatter",
         "x": [
          2012,
          2013,
          2014,
          2015,
          2016,
          2017,
          2018,
          2019,
          2020,
          2021,
          2022,
          2023
         ],
         "xaxis": "x",
         "y": [
          3629424.77,
          6527296.18,
          6122757.87,
          7388999.37,
          7114115.365,
          6698726.7425,
          6029403.813,
          6401113.7,
          7614092.06,
          7785302.8,
          7400120.12,
          5781613.35
         ],
         "yaxis": "y"
        },
        {
         "hovertemplate": "ShipRegion=Northern Europe<br>Year=%{x}<br>Total=%{y}<extra></extra>",
         "legendgroup": "Northern Europe",
         "line": {
          "color": "#FFA15A",
          "dash": "solid"
         },
         "marker": {
          "symbol": "circle"
         },
         "mode": "lines",
         "name": "Northern Europe",
         "orientation": "v",
         "showlegend": true,
         "type": "scatter",
         "x": [
          2012,
          2013,
          2014,
          2015,
          2016,
          2017,
          2018,
          2019,
          2020,
          2021,
          2022,
          2023
         ],
         "xaxis": "x",
         "y": [
          776357.56,
          2002563.67,
          1492496.2,
          1909463.62,
          1813239.025,
          1702063.1125,
          1918868.405,
          2004575.49,
          1403465.61,
          2093710.39,
          1870848.06,
          1583023.54
         ],
         "yaxis": "y"
        },
        {
         "hovertemplate": "ShipRegion=Scandinavia<br>Year=%{x}<br>Total=%{y}<extra></extra>",
         "legendgroup": "Scandinavia",
         "line": {
          "color": "#19d3f3",
          "dash": "solid"
         },
         "marker": {
          "symbol": "circle"
         },
         "mode": "lines",
         "name": "Scandinavia",
         "orientation": "v",
         "showlegend": true,
         "type": "scatter",
         "x": [
          2012,
          2013,
          2014,
          2015,
          2016,
          2017,
          2018,
          2019,
          2020,
          2021,
          2022,
          2023
         ],
         "xaxis": "x",
         "y": [
          626395.09,
          1219529.95,
          1280367.75,
          1305845.72,
          1270131.6,
          1445973.7325,
          1144117.2,
          1117744.51,
          905060.12,
          1546954.09,
          1340621.25,
          1213543.04
         ],
         "yaxis": "y"
        },
        {
         "hovertemplate": "ShipRegion=South America<br>Year=%{x}<br>Total=%{y}<extra></extra>",
         "legendgroup": "South America",
         "line": {
          "color": "#FF6692",
          "dash": "solid"
         },
         "marker": {
          "symbol": "circle"
         },
         "mode": "lines",
         "name": "South America",
         "orientation": "v",
         "showlegend": true,
         "type": "scatter",
         "x": [
          2012,
          2013,
          2014,
          2015,
          2016,
          2017,
          2018,
          2019,
          2020,
          2021,
          2022,
          2023
         ],
         "xaxis": "x",
         "y": [
          3066865.64,
          7458246.7,
          6709497.45,
          6939098.04,
          6763663.8,
          6950852.8565,
          6575140.269,
          7422092.89,
          8193290.78,
          7447833.63,
          7326917.71,
          6259756.26
         ],
         "yaxis": "y"
        },
        {
         "hovertemplate": "ShipRegion=Southern Europe<br>Year=%{x}<br>Total=%{y}<extra></extra>",
         "legendgroup": "Southern Europe",
         "line": {
          "color": "#B6E880",
          "dash": "solid"
         },
         "marker": {
          "symbol": "circle"
         },
         "mode": "lines",
         "name": "Southern Europe",
         "orientation": "v",
         "showlegend": true,
         "type": "scatter",
         "x": [
          2012,
          2013,
          2014,
          2015,
          2016,
          2017,
          2018,
          2019,
          2020,
          2021,
          2022,
          2023
         ],
         "xaxis": "x",
         "y": [
          2012197.99,
          3230816.53,
          3709424.92,
          4230915.31,
          4357272.7,
          3788126.4775,
          4121798.37,
          3439631.87,
          3408827.72,
          3690052.92,
          4548640.02,
          3161556.62
         ],
         "yaxis": "y"
        },
        {
         "hovertemplate": "ShipRegion=Western Europe<br>Year=%{x}<br>Total=%{y}<extra></extra>",
         "legendgroup": "Western Europe",
         "line": {
          "color": "#FF97FF",
          "dash": "solid"
         },
         "marker": {
          "symbol": "circle"
         },
         "mode": "lines",
         "name": "Western Europe",
         "orientation": "v",
         "showlegend": true,
         "type": "scatter",
         "x": [
          2012,
          2013,
          2014,
          2015,
          2016,
          2017,
          2018,
          2019,
          2020,
          2021,
          2022,
          2023
         ],
         "xaxis": "x",
         "y": [
          5311768.99,
          12172207.81,
          12667634.64,
          13248141.44,
          13337736.14,
          13047398.3445,
          12329468.114,
          11560187.87,
          12029549.51,
          11181004.58,
          11075892.76,
          9967003.48
         ],
         "yaxis": "y"
        }
       ],
       "layout": {
        "legend": {
         "title": {
          "text": "ShipRegion"
         },
         "tracegroupgap": 0
        },
        "margin": {
         "t": 60
        },
        "template": {
         "data": {
          "bar": [
           {
            "error_x": {
             "color": "#2a3f5f"
            },
            "error_y": {
             "color": "#2a3f5f"
            },
            "marker": {
             "line": {
              "color": "#E5ECF6",
              "width": 0.5
             },
             "pattern": {
              "fillmode": "overlay",
              "size": 10,
              "solidity": 0.2
             }
            },
            "type": "bar"
           }
          ],
          "barpolar": [
           {
            "marker": {
             "line": {
              "color": "#E5ECF6",
              "width": 0.5
             },
             "pattern": {
              "fillmode": "overlay",
              "size": 10,
              "solidity": 0.2
             }
            },
            "type": "barpolar"
           }
          ],
          "carpet": [
           {
            "aaxis": {
             "endlinecolor": "#2a3f5f",
             "gridcolor": "white",
             "linecolor": "white",
             "minorgridcolor": "white",
             "startlinecolor": "#2a3f5f"
            },
            "baxis": {
             "endlinecolor": "#2a3f5f",
             "gridcolor": "white",
             "linecolor": "white",
             "minorgridcolor": "white",
             "startlinecolor": "#2a3f5f"
            },
            "type": "carpet"
           }
          ],
          "choropleth": [
           {
            "colorbar": {
             "outlinewidth": 0,
             "ticks": ""
            },
            "type": "choropleth"
           }
          ],
          "contour": [
           {
            "colorbar": {
             "outlinewidth": 0,
             "ticks": ""
            },
            "colorscale": [
             [
              0,
              "#0d0887"
             ],
             [
              0.1111111111111111,
              "#46039f"
             ],
             [
              0.2222222222222222,
              "#7201a8"
             ],
             [
              0.3333333333333333,
              "#9c179e"
             ],
             [
              0.4444444444444444,
              "#bd3786"
             ],
             [
              0.5555555555555556,
              "#d8576b"
             ],
             [
              0.6666666666666666,
              "#ed7953"
             ],
             [
              0.7777777777777778,
              "#fb9f3a"
             ],
             [
              0.8888888888888888,
              "#fdca26"
             ],
             [
              1,
              "#f0f921"
             ]
            ],
            "type": "contour"
           }
          ],
          "contourcarpet": [
           {
            "colorbar": {
             "outlinewidth": 0,
             "ticks": ""
            },
            "type": "contourcarpet"
           }
          ],
          "heatmap": [
           {
            "colorbar": {
             "outlinewidth": 0,
             "ticks": ""
            },
            "colorscale": [
             [
              0,
              "#0d0887"
             ],
             [
              0.1111111111111111,
              "#46039f"
             ],
             [
              0.2222222222222222,
              "#7201a8"
             ],
             [
              0.3333333333333333,
              "#9c179e"
             ],
             [
              0.4444444444444444,
              "#bd3786"
             ],
             [
              0.5555555555555556,
              "#d8576b"
             ],
             [
              0.6666666666666666,
              "#ed7953"
             ],
             [
              0.7777777777777778,
              "#fb9f3a"
             ],
             [
              0.8888888888888888,
              "#fdca26"
             ],
             [
              1,
              "#f0f921"
             ]
            ],
            "type": "heatmap"
           }
          ],
          "heatmapgl": [
           {
            "colorbar": {
             "outlinewidth": 0,
             "ticks": ""
            },
            "colorscale": [
             [
              0,
              "#0d0887"
             ],
             [
              0.1111111111111111,
              "#46039f"
             ],
             [
              0.2222222222222222,
              "#7201a8"
             ],
             [
              0.3333333333333333,
              "#9c179e"
             ],
             [
              0.4444444444444444,
              "#bd3786"
             ],
             [
              0.5555555555555556,
              "#d8576b"
             ],
             [
              0.6666666666666666,
              "#ed7953"
             ],
             [
              0.7777777777777778,
              "#fb9f3a"
             ],
             [
              0.8888888888888888,
              "#fdca26"
             ],
             [
              1,
              "#f0f921"
             ]
            ],
            "type": "heatmapgl"
           }
          ],
          "histogram": [
           {
            "marker": {
             "pattern": {
              "fillmode": "overlay",
              "size": 10,
              "solidity": 0.2
             }
            },
            "type": "histogram"
           }
          ],
          "histogram2d": [
           {
            "colorbar": {
             "outlinewidth": 0,
             "ticks": ""
            },
            "colorscale": [
             [
              0,
              "#0d0887"
             ],
             [
              0.1111111111111111,
              "#46039f"
             ],
             [
              0.2222222222222222,
              "#7201a8"
             ],
             [
              0.3333333333333333,
              "#9c179e"
             ],
             [
              0.4444444444444444,
              "#bd3786"
             ],
             [
              0.5555555555555556,
              "#d8576b"
             ],
             [
              0.6666666666666666,
              "#ed7953"
             ],
             [
              0.7777777777777778,
              "#fb9f3a"
             ],
             [
              0.8888888888888888,
              "#fdca26"
             ],
             [
              1,
              "#f0f921"
             ]
            ],
            "type": "histogram2d"
           }
          ],
          "histogram2dcontour": [
           {
            "colorbar": {
             "outlinewidth": 0,
             "ticks": ""
            },
            "colorscale": [
             [
              0,
              "#0d0887"
             ],
             [
              0.1111111111111111,
              "#46039f"
             ],
             [
              0.2222222222222222,
              "#7201a8"
             ],
             [
              0.3333333333333333,
              "#9c179e"
             ],
             [
              0.4444444444444444,
              "#bd3786"
             ],
             [
              0.5555555555555556,
              "#d8576b"
             ],
             [
              0.6666666666666666,
              "#ed7953"
             ],
             [
              0.7777777777777778,
              "#fb9f3a"
             ],
             [
              0.8888888888888888,
              "#fdca26"
             ],
             [
              1,
              "#f0f921"
             ]
            ],
            "type": "histogram2dcontour"
           }
          ],
          "mesh3d": [
           {
            "colorbar": {
             "outlinewidth": 0,
             "ticks": ""
            },
            "type": "mesh3d"
           }
          ],
          "parcoords": [
           {
            "line": {
             "colorbar": {
              "outlinewidth": 0,
              "ticks": ""
             }
            },
            "type": "parcoords"
           }
          ],
          "pie": [
           {
            "automargin": true,
            "type": "pie"
           }
          ],
          "scatter": [
           {
            "fillpattern": {
             "fillmode": "overlay",
             "size": 10,
             "solidity": 0.2
            },
            "type": "scatter"
           }
          ],
          "scatter3d": [
           {
            "line": {
             "colorbar": {
              "outlinewidth": 0,
              "ticks": ""
             }
            },
            "marker": {
             "colorbar": {
              "outlinewidth": 0,
              "ticks": ""
             }
            },
            "type": "scatter3d"
           }
          ],
          "scattercarpet": [
           {
            "marker": {
             "colorbar": {
              "outlinewidth": 0,
              "ticks": ""
             }
            },
            "type": "scattercarpet"
           }
          ],
          "scattergeo": [
           {
            "marker": {
             "colorbar": {
              "outlinewidth": 0,
              "ticks": ""
             }
            },
            "type": "scattergeo"
           }
          ],
          "scattergl": [
           {
            "marker": {
             "colorbar": {
              "outlinewidth": 0,
              "ticks": ""
             }
            },
            "type": "scattergl"
           }
          ],
          "scattermapbox": [
           {
            "marker": {
             "colorbar": {
              "outlinewidth": 0,
              "ticks": ""
             }
            },
            "type": "scattermapbox"
           }
          ],
          "scatterpolar": [
           {
            "marker": {
             "colorbar": {
              "outlinewidth": 0,
              "ticks": ""
             }
            },
            "type": "scatterpolar"
           }
          ],
          "scatterpolargl": [
           {
            "marker": {
             "colorbar": {
              "outlinewidth": 0,
              "ticks": ""
             }
            },
            "type": "scatterpolargl"
           }
          ],
          "scatterternary": [
           {
            "marker": {
             "colorbar": {
              "outlinewidth": 0,
              "ticks": ""
             }
            },
            "type": "scatterternary"
           }
          ],
          "surface": [
           {
            "colorbar": {
             "outlinewidth": 0,
             "ticks": ""
            },
            "colorscale": [
             [
              0,
              "#0d0887"
             ],
             [
              0.1111111111111111,
              "#46039f"
             ],
             [
              0.2222222222222222,
              "#7201a8"
             ],
             [
              0.3333333333333333,
              "#9c179e"
             ],
             [
              0.4444444444444444,
              "#bd3786"
             ],
             [
              0.5555555555555556,
              "#d8576b"
             ],
             [
              0.6666666666666666,
              "#ed7953"
             ],
             [
              0.7777777777777778,
              "#fb9f3a"
             ],
             [
              0.8888888888888888,
              "#fdca26"
             ],
             [
              1,
              "#f0f921"
             ]
            ],
            "type": "surface"
           }
          ],
          "table": [
           {
            "cells": {
             "fill": {
              "color": "#EBF0F8"
             },
             "line": {
              "color": "white"
             }
            },
            "header": {
             "fill": {
              "color": "#C8D4E3"
             },
             "line": {
              "color": "white"
             }
            },
            "type": "table"
           }
          ]
         },
         "layout": {
          "annotationdefaults": {
           "arrowcolor": "#2a3f5f",
           "arrowhead": 0,
           "arrowwidth": 1
          },
          "autotypenumbers": "strict",
          "coloraxis": {
           "colorbar": {
            "outlinewidth": 0,
            "ticks": ""
           }
          },
          "colorscale": {
           "diverging": [
            [
             0,
             "#8e0152"
            ],
            [
             0.1,
             "#c51b7d"
            ],
            [
             0.2,
             "#de77ae"
            ],
            [
             0.3,
             "#f1b6da"
            ],
            [
             0.4,
             "#fde0ef"
            ],
            [
             0.5,
             "#f7f7f7"
            ],
            [
             0.6,
             "#e6f5d0"
            ],
            [
             0.7,
             "#b8e186"
            ],
            [
             0.8,
             "#7fbc41"
            ],
            [
             0.9,
             "#4d9221"
            ],
            [
             1,
             "#276419"
            ]
           ],
           "sequential": [
            [
             0,
             "#0d0887"
            ],
            [
             0.1111111111111111,
             "#46039f"
            ],
            [
             0.2222222222222222,
             "#7201a8"
            ],
            [
             0.3333333333333333,
             "#9c179e"
            ],
            [
             0.4444444444444444,
             "#bd3786"
            ],
            [
             0.5555555555555556,
             "#d8576b"
            ],
            [
             0.6666666666666666,
             "#ed7953"
            ],
            [
             0.7777777777777778,
             "#fb9f3a"
            ],
            [
             0.8888888888888888,
             "#fdca26"
            ],
            [
             1,
             "#f0f921"
            ]
           ],
           "sequentialminus": [
            [
             0,
             "#0d0887"
            ],
            [
             0.1111111111111111,
             "#46039f"
            ],
            [
             0.2222222222222222,
             "#7201a8"
            ],
            [
             0.3333333333333333,
             "#9c179e"
            ],
            [
             0.4444444444444444,
             "#bd3786"
            ],
            [
             0.5555555555555556,
             "#d8576b"
            ],
            [
             0.6666666666666666,
             "#ed7953"
            ],
            [
             0.7777777777777778,
             "#fb9f3a"
            ],
            [
             0.8888888888888888,
             "#fdca26"
            ],
            [
             1,
             "#f0f921"
            ]
           ]
          },
          "colorway": [
           "#636efa",
           "#EF553B",
           "#00cc96",
           "#ab63fa",
           "#FFA15A",
           "#19d3f3",
           "#FF6692",
           "#B6E880",
           "#FF97FF",
           "#FECB52"
          ],
          "font": {
           "color": "#2a3f5f"
          },
          "geo": {
           "bgcolor": "white",
           "lakecolor": "white",
           "landcolor": "#E5ECF6",
           "showlakes": true,
           "showland": true,
           "subunitcolor": "white"
          },
          "hoverlabel": {
           "align": "left"
          },
          "hovermode": "closest",
          "mapbox": {
           "style": "light"
          },
          "paper_bgcolor": "white",
          "plot_bgcolor": "#E5ECF6",
          "polar": {
           "angularaxis": {
            "gridcolor": "white",
            "linecolor": "white",
            "ticks": ""
           },
           "bgcolor": "#E5ECF6",
           "radialaxis": {
            "gridcolor": "white",
            "linecolor": "white",
            "ticks": ""
           }
          },
          "scene": {
           "xaxis": {
            "backgroundcolor": "#E5ECF6",
            "gridcolor": "white",
            "gridwidth": 2,
            "linecolor": "white",
            "showbackground": true,
            "ticks": "",
            "zerolinecolor": "white"
           },
           "yaxis": {
            "backgroundcolor": "#E5ECF6",
            "gridcolor": "white",
            "gridwidth": 2,
            "linecolor": "white",
            "showbackground": true,
            "ticks": "",
            "zerolinecolor": "white"
           },
           "zaxis": {
            "backgroundcolor": "#E5ECF6",
            "gridcolor": "white",
            "gridwidth": 2,
            "linecolor": "white",
            "showbackground": true,
            "ticks": "",
            "zerolinecolor": "white"
           }
          },
          "shapedefaults": {
           "line": {
            "color": "#2a3f5f"
           }
          },
          "ternary": {
           "aaxis": {
            "gridcolor": "white",
            "linecolor": "white",
            "ticks": ""
           },
           "baxis": {
            "gridcolor": "white",
            "linecolor": "white",
            "ticks": ""
           },
           "bgcolor": "#E5ECF6",
           "caxis": {
            "gridcolor": "white",
            "linecolor": "white",
            "ticks": ""
           }
          },
          "title": {
           "x": 0.05
          },
          "xaxis": {
           "automargin": true,
           "gridcolor": "white",
           "linecolor": "white",
           "ticks": "",
           "title": {
            "standoff": 15
           },
           "zerolinecolor": "white",
           "zerolinewidth": 2
          },
          "yaxis": {
           "automargin": true,
           "gridcolor": "white",
           "linecolor": "white",
           "ticks": "",
           "title": {
            "standoff": 15
           },
           "zerolinecolor": "white",
           "zerolinewidth": 2
          }
         }
        },
        "xaxis": {
         "anchor": "y",
         "domain": [
          0,
          1
         ],
         "title": {
          "text": "Year"
         }
        },
        "yaxis": {
         "anchor": "x",
         "domain": [
          0,
          1
         ],
         "title": {
          "text": "Total"
         }
        }
       }
      }
     },
     "metadata": {},
     "output_type": "display_data"
    }
   ],
   "source": [
    "import plotly.express as px \n",
    "\n",
    "fig = px.line(reg_prod_total, x=\"Year\", y='Total', color=\"ShipRegion\")\n",
    "fig.show() "
   ]
  },
  {
   "cell_type": "code",
   "execution_count": 23,
   "metadata": {},
   "outputs": [],
   "source": [
    "# AGRUPA LOS DATOS POR: AÑO, MES, REGION Y PRODUCTO; \n",
    "# SE LE SACA EL AÑO Y EL MES AL CAMPO 'OrderDate', ESO LA BASE DE DATOS LO SABE HACER\n",
    "# OBTIENE LOS CAMPOS 'Region' Y 'Product'\n",
    "# SUMA LOS PRECIOS UNITARIOS, LOS ORDENA DE FORMA DESCENDENTE    "
   ]
  },
  {
   "cell_type": "code",
   "execution_count": 24,
   "metadata": {},
   "outputs": [
    {
     "data": {
      "text/html": [
       "<div>\n",
       "<style scoped>\n",
       "    .dataframe tbody tr th:only-of-type {\n",
       "        vertical-align: middle;\n",
       "    }\n",
       "\n",
       "    .dataframe tbody tr th {\n",
       "        vertical-align: top;\n",
       "    }\n",
       "\n",
       "    .dataframe thead th {\n",
       "        text-align: right;\n",
       "    }\n",
       "</style>\n",
       "<table border=\"1\" class=\"dataframe\">\n",
       "  <thead>\n",
       "    <tr style=\"text-align: right;\">\n",
       "      <th></th>\n",
       "      <th>Year</th>\n",
       "      <th>Month</th>\n",
       "      <th>Region</th>\n",
       "      <th>Product</th>\n",
       "      <th>Total</th>\n",
       "    </tr>\n",
       "  </thead>\n",
       "  <tbody>\n",
       "    <tr>\n",
       "      <th>0</th>\n",
       "      <td>2014</td>\n",
       "      <td>12</td>\n",
       "      <td>Western Europe</td>\n",
       "      <td>Côte de Blaye</td>\n",
       "      <td>222130.5</td>\n",
       "    </tr>\n",
       "    <tr>\n",
       "      <th>1</th>\n",
       "      <td>2015</td>\n",
       "      <td>08</td>\n",
       "      <td>Western Europe</td>\n",
       "      <td>Côte de Blaye</td>\n",
       "      <td>220022.5</td>\n",
       "    </tr>\n",
       "    <tr>\n",
       "      <th>2</th>\n",
       "      <td>2016</td>\n",
       "      <td>12</td>\n",
       "      <td>Western Europe</td>\n",
       "      <td>Côte de Blaye</td>\n",
       "      <td>209746.0</td>\n",
       "    </tr>\n",
       "    <tr>\n",
       "      <th>3</th>\n",
       "      <td>2013</td>\n",
       "      <td>07</td>\n",
       "      <td>Western Europe</td>\n",
       "      <td>Côte de Blaye</td>\n",
       "      <td>209482.5</td>\n",
       "    </tr>\n",
       "    <tr>\n",
       "      <th>4</th>\n",
       "      <td>2018</td>\n",
       "      <td>08</td>\n",
       "      <td>Western Europe</td>\n",
       "      <td>Côte de Blaye</td>\n",
       "      <td>192882.0</td>\n",
       "    </tr>\n",
       "    <tr>\n",
       "      <th>...</th>\n",
       "      <td>...</td>\n",
       "      <td>...</td>\n",
       "      <td>...</td>\n",
       "      <td>...</td>\n",
       "      <td>...</td>\n",
       "    </tr>\n",
       "    <tr>\n",
       "      <th>86605</th>\n",
       "      <td>2018</td>\n",
       "      <td>09</td>\n",
       "      <td>Scandinavia</td>\n",
       "      <td>Guaraná Fantástica</td>\n",
       "      <td>4.5</td>\n",
       "    </tr>\n",
       "    <tr>\n",
       "      <th>86606</th>\n",
       "      <td>2018</td>\n",
       "      <td>10</td>\n",
       "      <td>Northern Europe</td>\n",
       "      <td>Guaraná Fantástica</td>\n",
       "      <td>4.5</td>\n",
       "    </tr>\n",
       "    <tr>\n",
       "      <th>86607</th>\n",
       "      <td>2021</td>\n",
       "      <td>05</td>\n",
       "      <td>Eastern Europe</td>\n",
       "      <td>Guaraná Fantástica</td>\n",
       "      <td>4.5</td>\n",
       "    </tr>\n",
       "    <tr>\n",
       "      <th>86608</th>\n",
       "      <td>2023</td>\n",
       "      <td>08</td>\n",
       "      <td>Scandinavia</td>\n",
       "      <td>Guaraná Fantástica</td>\n",
       "      <td>4.5</td>\n",
       "    </tr>\n",
       "    <tr>\n",
       "      <th>86609</th>\n",
       "      <td>2012</td>\n",
       "      <td>09</td>\n",
       "      <td>Northern Europe</td>\n",
       "      <td>Geitost</td>\n",
       "      <td>2.5</td>\n",
       "    </tr>\n",
       "  </tbody>\n",
       "</table>\n",
       "<p>86610 rows × 5 columns</p>\n",
       "</div>"
      ],
      "text/plain": [
       "       Year Month           Region             Product     Total\n",
       "0      2014    12   Western Europe       Côte de Blaye  222130.5\n",
       "1      2015    08   Western Europe       Côte de Blaye  220022.5\n",
       "2      2016    12   Western Europe       Côte de Blaye  209746.0\n",
       "3      2013    07   Western Europe       Côte de Blaye  209482.5\n",
       "4      2018    08   Western Europe       Côte de Blaye  192882.0\n",
       "...     ...   ...              ...                 ...       ...\n",
       "86605  2018    09      Scandinavia  Guaraná Fantástica       4.5\n",
       "86606  2018    10  Northern Europe  Guaraná Fantástica       4.5\n",
       "86607  2021    05   Eastern Europe  Guaraná Fantástica       4.5\n",
       "86608  2023    08      Scandinavia  Guaraná Fantástica       4.5\n",
       "86609  2012    09  Northern Europe             Geitost       2.5\n",
       "\n",
       "[86610 rows x 5 columns]"
      ]
     },
     "execution_count": 24,
     "metadata": {},
     "output_type": "execute_result"
    }
   ],
   "source": [
    "consulta = '''\n",
    "SELECT strftime('%Y', OrderDate) AS Year,\n",
    "       strftime('%m', OrderDate) AS Month,\n",
    "       ShipRegion AS Region,\n",
    "       ProductName AS Product,\n",
    "       SUM(Precio_Total) AS Total \n",
    "FROM (\n",
    "        SELECT datetime(o.OrderDate) as OrderDate, \n",
    "        o.ShipRegion, p.ProductName, \n",
    "        od.Quantity*od.UnitPrice*(1-od.Discount) AS Precio_total\n",
    "        FROM Orders o\n",
    "        INNER JOIN [Order Details] od ON od.OrderID = o.OrderID\n",
    "        INNER JOIN Products p ON p.ProductID = od.ProductID\n",
    ")\n",
    "GROUP BY Year, Month, Region, Product\n",
    "ORDER BY Total DESC \n",
    "'''\n",
    "\n",
    "data_df = pd.read_sql(consulta, con=connection) \n",
    "data_df "
   ]
  },
  {
   "cell_type": "code",
   "execution_count": 25,
   "metadata": {},
   "outputs": [
    {
     "data": {
      "text/plain": [
       "<bound method DataFrame.sort_values of                                   meanTotal     stdTotal\n",
       "Product       Region                                    \n",
       "Alice Mutton  British Isles     5179.287313  2787.205289\n",
       "              Central America   3407.300000  1868.169309\n",
       "              Eastern Europe    1425.478261   849.683568\n",
       "              North America    10596.377426  3591.610332\n",
       "              Northern Europe   3048.251908  1684.280592\n",
       "...                                     ...          ...\n",
       "Zaanse koeken Northern Europe    701.004264   441.279471\n",
       "              Scandinavia        541.913043   392.283532\n",
       "              South America     2527.635662   897.178087\n",
       "              Southern Europe   1351.514706   577.580365\n",
       "              Western Europe    4252.961397  1253.503667\n",
       "\n",
       "[693 rows x 2 columns]>"
      ]
     },
     "execution_count": 25,
     "metadata": {},
     "output_type": "execute_result"
    }
   ],
   "source": [
    "product_profit = data_df.groupby([\"Product\", \"Region\"]).agg(meanTotal=(\"Total\", \"mean\"), stdTotal=(\"Total\", \"std\")).sort_values \n",
    "product_profit \n",
    "\n",
    "# HACE UNA AGRUPACION POR 'Product' Y 'Region'\n",
    "# CALCULA LA MEDIA DEL PRECIO TOTAL Y LA DESVIACION ESTANDAR DEL PRECIO TOTAL "
   ]
  },
  {
   "cell_type": "code",
   "execution_count": 69,
   "metadata": {},
   "outputs": [
    {
     "ename": "TypeError",
     "evalue": "'method' object is not subscriptable",
     "output_type": "error",
     "traceback": [
      "\u001b[1;31m---------------------------------------------------------------------------\u001b[0m",
      "\u001b[1;31mTypeError\u001b[0m                                 Traceback (most recent call last)",
      "Cell \u001b[1;32mIn[69], line 5\u001b[0m\n\u001b[0;32m      1\u001b[0m \u001b[38;5;66;03m# SE HIZO UN FILTRO DE LOS DATOS DE LA TABLA ANTERIOR, ESTA TABLA INCLUYE SOLAMENTE LOS DATOS DE \"Western Europe\" \u001b[39;00m\n\u001b[0;32m      3\u001b[0m region \u001b[38;5;241m=\u001b[39m \u001b[38;5;124m\"\u001b[39m\u001b[38;5;124mWestern Europe\u001b[39m\u001b[38;5;124m\"\u001b[39m \u001b[38;5;66;03m# Europa occidental \u001b[39;00m\n\u001b[1;32m----> 5\u001b[0m region_profit \u001b[38;5;241m=\u001b[39m product_profit[product_profit[\u001b[38;5;124m\"\u001b[39m\u001b[38;5;124mRegion\u001b[39m\u001b[38;5;124m\"\u001b[39m] \u001b[38;5;241m==\u001b[39m region]\n\u001b[0;32m      6\u001b[0m region_profit\n",
      "\u001b[1;31mTypeError\u001b[0m: 'method' object is not subscriptable"
     ]
    }
   ],
   "source": [
    "# SE HIZO UN FILTRO DE LOS DATOS DE LA TABLA ANTERIOR, ESTA TABLA INCLUYE SOLAMENTE LOS DATOS DE \"Western Europe\" \n",
    "\n",
    "region = \"Western Europe\" # Europa occidental \n",
    "\n",
    "region_profit = product_profit[product_profit[\"Region\"] == region]\n",
    "region_profit"
   ]
  },
  {
   "cell_type": "code",
   "execution_count": null,
   "metadata": {},
   "outputs": [
    {
     "data": {
      "application/vnd.plotly.v1+json": {
       "config": {
        "plotlyServerURL": "https://plot.ly"
       },
       "data": [
        {
         "alignmentgroup": "True",
         "error_y": {
          "array": [
           4826.910546681534,
           1284.2255195973885,
           2424.4526984503973,
           4600.9383315505875,
           8444.746568270202,
           2264.565768270714,
           2735.046246132195,
           2419.7912787342307,
           3106.9938924046974,
           2650.4463022287064,
           1597.5310117425472,
           35830.58855281685,
           1709.657592929833,
           945.9800907087997,
           2766.016961923723,
           316.45425272721167,
           2003.1923909795298,
           4956.508898785155,
           1502.6633078556215,
           3263.582074110077,
           3337.138869481577,
           639.1909148658624,
           4888.397811328369,
           2413.876241167695,
           3853.151305449092,
           2744.6717116224263,
           4154.938366470346,
           2559.4581631204073,
           6486.118336939451,
           1188.2421139453759,
           775.857977452363,
           2308.5072479663013,
           1963.2987637801232,
           1269.6943951467215,
           2986.7945349965844,
           2360.066526086827,
           7866.280856108597,
           4093.762504974128,
           2629.1657388685235,
           12931.501599535133,
           4692.405251177058,
           3120.488658822635,
           5483.26858733652,
           1874.0772853765318,
           1803.8209193672524,
           2013.5458714516415,
           2452.8530060904677,
           4598.00319661885,
           2925.0558615587506,
           2842.408721387482,
           4809.100507605568,
           7559.689320392769,
           2296.93718619646,
           978.0988590116884,
           1310.3331833385296,
           2024.4777273725322,
           5754.256333011954,
           1860.6883869132691,
           5361.144059493217,
           1654.1106766013625,
           1787.3921108827124,
           10658.487693843981,
           1291.0535312003276,
           3513.1023500904116,
           1612.9636102042537,
           2512.5898304924594,
           7042.538299955066,
           1270.6395315493053,
           15763.042641296259,
           3026.1912796724273,
           997.1829892018172,
           1148.4570345877632,
           3667.4601598140816,
           2371.3716644183205,
           5526.715966496403,
           4470.529601403761,
           1253.5036670892453
          ]
         },
         "hovertemplate": "Product=%{x}<br>meanTotal=%{y}<extra></extra>",
         "legendgroup": "",
         "marker": {
          "color": "#636efa",
          "pattern": {
           "shape": ""
          }
         },
         "name": "",
         "offsetgroup": "",
         "orientation": "v",
         "showlegend": false,
         "textposition": "auto",
         "type": "bar",
         "x": [
          "Alice Mutton",
          "Aniseed Syrup",
          "Boston Crab Meat",
          "Camembert Pierrot",
          "Carnarvon Tigers",
          "Chai",
          "Chang",
          "Chartreuse verte",
          "Chef Anton's Cajun Seasoning",
          "Chef Anton's Gumbo Mix",
          "Chocolade",
          "Côte de Blaye",
          "Escargots de Bourgogne",
          "Filo Mix",
          "Flotemysost",
          "Geitost",
          "Genen Shouyu",
          "Gnocchi di nonna Alice",
          "Gorgonzola Telino",
          "Grandma's Boysenberry Spread",
          "Gravad lax",
          "Guaraná Fantástica",
          "Gudbrandsdalsost",
          "Gula Malacca",
          "Gumbär Gummibärchen",
          "Gustaf's Knäckebröd",
          "Ikura",
          "Inlagd Sill",
          "Ipoh Coffee",
          "Jack's New England Clam Chowder",
          "Konbu",
          "Lakkalikööri",
          "Laughing Lumberjack Lager",
          "Longlife Tofu",
          "Louisiana Fiery Hot Pepper Sauce",
          "Louisiana Hot Spiced Okra",
          "Manjimup Dried Apples",
          "Mascarpone Fabioli",
          "Maxilaku",
          "Mishi Kobe Niku",
          "Mozzarella di Giovanni",
          "Nord-Ost Matjeshering",
          "Northwoods Cranberry Sauce",
          "NuNuCa Nuß-Nougat-Creme",
          "Original Frankfurter grüne Soße",
          "Outback Lager",
          "Pavlova",
          "Perth Pasties",
          "Pâté chinois",
          "Queso Cabrales",
          "Queso Manchego La Pastora",
          "Raclette Courdavault",
          "Ravioli Angelo",
          "Rhönbräu Klosterbier",
          "Rogede sild",
          "Röd Kaviar",
          "Rössle Sauerkraut",
          "Sasquatch Ale",
          "Schoggi Schokolade",
          "Scottish Longbreads",
          "Singaporean Hokkien Fried Mee",
          "Sir Rodney's Marmalade",
          "Sir Rodney's Scones",
          "Sirop d'érable",
          "Spegesild",
          "Steeleye Stout",
          "Tarte au sucre",
          "Teatime Chocolate Biscuits",
          "Thüringer Rostbratwurst",
          "Tofu",
          "Tourtière",
          "Tunnbröd",
          "Uncle Bob's Organic Dried Pears",
          "Valkoinen suklaa",
          "Vegie-spread",
          "Wimmers gute Semmelknödel",
          "Zaanse koeken"
         ],
         "xaxis": "x",
         "y": [
          17494.611397058823,
          4607.5,
          8267.89632352941,
          15439.3875,
          28043.060661764706,
          8151.538235294117,
          8726.708382352941,
          8103.286323529412,
          9888.433823529413,
          9665.723529411765,
          5739.318749999999,
          120245.5125,
          5957.238970588235,
          3281.6205882352942,
          9831.578492647059,
          1128.8244485294117,
          7121.583272058823,
          17254.766176470588,
          5823.363970588235,
          11678.216911764706,
          11954.532352941176,
          2074.4205882352944,
          16435.485,
          8711.230183823529,
          14458.032926470587,
          9525.130588235294,
          13893.479705882353,
          8647.932426470588,
          21234.310294117648,
          4414.0728125,
          2752.252941176471,
          8281.262647058824,
          6514.138235294118,
          4588.106617647059,
          9612.8509375,
          7940.25,
          24524.795220588236,
          14588.727058823528,
          9092.54117647059,
          44114.74411764706,
          15941.33,
          11626.061636029412,
          18138.382352941175,
          6547.511764705882,
          6003.911397058823,
          6864.104779411765,
          7959.981305147059,
          14869.031176470586,
          10937.86411764706,
          9402.237352941176,
          17606.53161764706,
          25040.28676470588,
          8895.226102941177,
          3454.8576838235294,
          4383.177757352942,
          6906.926470588235,
          21383.413529411766,
          6593.9382352941175,
          19915.427022058822,
          5713.330882352941,
          6307.463235294118,
          37618.663235294116,
          4635.345588235294,
          13411.638970588234,
          5413.55294117647,
          8156.501470588235,
          22588.737794117646,
          4264.892205882353,
          55366.79538970588,
          10402.836397058823,
          3466.3874448529414,
          4198.301470588235,
          13716.763235294118,
          7317.85294117647,
          20085.53161764706,
          14980.200735294118,
          4252.961397058823
         ],
         "yaxis": "y"
        }
       ],
       "layout": {
        "barmode": "relative",
        "legend": {
         "tracegroupgap": 0
        },
        "margin": {
         "t": 60
        },
        "template": {
         "data": {
          "bar": [
           {
            "error_x": {
             "color": "#2a3f5f"
            },
            "error_y": {
             "color": "#2a3f5f"
            },
            "marker": {
             "line": {
              "color": "#E5ECF6",
              "width": 0.5
             },
             "pattern": {
              "fillmode": "overlay",
              "size": 10,
              "solidity": 0.2
             }
            },
            "type": "bar"
           }
          ],
          "barpolar": [
           {
            "marker": {
             "line": {
              "color": "#E5ECF6",
              "width": 0.5
             },
             "pattern": {
              "fillmode": "overlay",
              "size": 10,
              "solidity": 0.2
             }
            },
            "type": "barpolar"
           }
          ],
          "carpet": [
           {
            "aaxis": {
             "endlinecolor": "#2a3f5f",
             "gridcolor": "white",
             "linecolor": "white",
             "minorgridcolor": "white",
             "startlinecolor": "#2a3f5f"
            },
            "baxis": {
             "endlinecolor": "#2a3f5f",
             "gridcolor": "white",
             "linecolor": "white",
             "minorgridcolor": "white",
             "startlinecolor": "#2a3f5f"
            },
            "type": "carpet"
           }
          ],
          "choropleth": [
           {
            "colorbar": {
             "outlinewidth": 0,
             "ticks": ""
            },
            "type": "choropleth"
           }
          ],
          "contour": [
           {
            "colorbar": {
             "outlinewidth": 0,
             "ticks": ""
            },
            "colorscale": [
             [
              0,
              "#0d0887"
             ],
             [
              0.1111111111111111,
              "#46039f"
             ],
             [
              0.2222222222222222,
              "#7201a8"
             ],
             [
              0.3333333333333333,
              "#9c179e"
             ],
             [
              0.4444444444444444,
              "#bd3786"
             ],
             [
              0.5555555555555556,
              "#d8576b"
             ],
             [
              0.6666666666666666,
              "#ed7953"
             ],
             [
              0.7777777777777778,
              "#fb9f3a"
             ],
             [
              0.8888888888888888,
              "#fdca26"
             ],
             [
              1,
              "#f0f921"
             ]
            ],
            "type": "contour"
           }
          ],
          "contourcarpet": [
           {
            "colorbar": {
             "outlinewidth": 0,
             "ticks": ""
            },
            "type": "contourcarpet"
           }
          ],
          "heatmap": [
           {
            "colorbar": {
             "outlinewidth": 0,
             "ticks": ""
            },
            "colorscale": [
             [
              0,
              "#0d0887"
             ],
             [
              0.1111111111111111,
              "#46039f"
             ],
             [
              0.2222222222222222,
              "#7201a8"
             ],
             [
              0.3333333333333333,
              "#9c179e"
             ],
             [
              0.4444444444444444,
              "#bd3786"
             ],
             [
              0.5555555555555556,
              "#d8576b"
             ],
             [
              0.6666666666666666,
              "#ed7953"
             ],
             [
              0.7777777777777778,
              "#fb9f3a"
             ],
             [
              0.8888888888888888,
              "#fdca26"
             ],
             [
              1,
              "#f0f921"
             ]
            ],
            "type": "heatmap"
           }
          ],
          "heatmapgl": [
           {
            "colorbar": {
             "outlinewidth": 0,
             "ticks": ""
            },
            "colorscale": [
             [
              0,
              "#0d0887"
             ],
             [
              0.1111111111111111,
              "#46039f"
             ],
             [
              0.2222222222222222,
              "#7201a8"
             ],
             [
              0.3333333333333333,
              "#9c179e"
             ],
             [
              0.4444444444444444,
              "#bd3786"
             ],
             [
              0.5555555555555556,
              "#d8576b"
             ],
             [
              0.6666666666666666,
              "#ed7953"
             ],
             [
              0.7777777777777778,
              "#fb9f3a"
             ],
             [
              0.8888888888888888,
              "#fdca26"
             ],
             [
              1,
              "#f0f921"
             ]
            ],
            "type": "heatmapgl"
           }
          ],
          "histogram": [
           {
            "marker": {
             "pattern": {
              "fillmode": "overlay",
              "size": 10,
              "solidity": 0.2
             }
            },
            "type": "histogram"
           }
          ],
          "histogram2d": [
           {
            "colorbar": {
             "outlinewidth": 0,
             "ticks": ""
            },
            "colorscale": [
             [
              0,
              "#0d0887"
             ],
             [
              0.1111111111111111,
              "#46039f"
             ],
             [
              0.2222222222222222,
              "#7201a8"
             ],
             [
              0.3333333333333333,
              "#9c179e"
             ],
             [
              0.4444444444444444,
              "#bd3786"
             ],
             [
              0.5555555555555556,
              "#d8576b"
             ],
             [
              0.6666666666666666,
              "#ed7953"
             ],
             [
              0.7777777777777778,
              "#fb9f3a"
             ],
             [
              0.8888888888888888,
              "#fdca26"
             ],
             [
              1,
              "#f0f921"
             ]
            ],
            "type": "histogram2d"
           }
          ],
          "histogram2dcontour": [
           {
            "colorbar": {
             "outlinewidth": 0,
             "ticks": ""
            },
            "colorscale": [
             [
              0,
              "#0d0887"
             ],
             [
              0.1111111111111111,
              "#46039f"
             ],
             [
              0.2222222222222222,
              "#7201a8"
             ],
             [
              0.3333333333333333,
              "#9c179e"
             ],
             [
              0.4444444444444444,
              "#bd3786"
             ],
             [
              0.5555555555555556,
              "#d8576b"
             ],
             [
              0.6666666666666666,
              "#ed7953"
             ],
             [
              0.7777777777777778,
              "#fb9f3a"
             ],
             [
              0.8888888888888888,
              "#fdca26"
             ],
             [
              1,
              "#f0f921"
             ]
            ],
            "type": "histogram2dcontour"
           }
          ],
          "mesh3d": [
           {
            "colorbar": {
             "outlinewidth": 0,
             "ticks": ""
            },
            "type": "mesh3d"
           }
          ],
          "parcoords": [
           {
            "line": {
             "colorbar": {
              "outlinewidth": 0,
              "ticks": ""
             }
            },
            "type": "parcoords"
           }
          ],
          "pie": [
           {
            "automargin": true,
            "type": "pie"
           }
          ],
          "scatter": [
           {
            "fillpattern": {
             "fillmode": "overlay",
             "size": 10,
             "solidity": 0.2
            },
            "type": "scatter"
           }
          ],
          "scatter3d": [
           {
            "line": {
             "colorbar": {
              "outlinewidth": 0,
              "ticks": ""
             }
            },
            "marker": {
             "colorbar": {
              "outlinewidth": 0,
              "ticks": ""
             }
            },
            "type": "scatter3d"
           }
          ],
          "scattercarpet": [
           {
            "marker": {
             "colorbar": {
              "outlinewidth": 0,
              "ticks": ""
             }
            },
            "type": "scattercarpet"
           }
          ],
          "scattergeo": [
           {
            "marker": {
             "colorbar": {
              "outlinewidth": 0,
              "ticks": ""
             }
            },
            "type": "scattergeo"
           }
          ],
          "scattergl": [
           {
            "marker": {
             "colorbar": {
              "outlinewidth": 0,
              "ticks": ""
             }
            },
            "type": "scattergl"
           }
          ],
          "scattermapbox": [
           {
            "marker": {
             "colorbar": {
              "outlinewidth": 0,
              "ticks": ""
             }
            },
            "type": "scattermapbox"
           }
          ],
          "scatterpolar": [
           {
            "marker": {
             "colorbar": {
              "outlinewidth": 0,
              "ticks": ""
             }
            },
            "type": "scatterpolar"
           }
          ],
          "scatterpolargl": [
           {
            "marker": {
             "colorbar": {
              "outlinewidth": 0,
              "ticks": ""
             }
            },
            "type": "scatterpolargl"
           }
          ],
          "scatterternary": [
           {
            "marker": {
             "colorbar": {
              "outlinewidth": 0,
              "ticks": ""
             }
            },
            "type": "scatterternary"
           }
          ],
          "surface": [
           {
            "colorbar": {
             "outlinewidth": 0,
             "ticks": ""
            },
            "colorscale": [
             [
              0,
              "#0d0887"
             ],
             [
              0.1111111111111111,
              "#46039f"
             ],
             [
              0.2222222222222222,
              "#7201a8"
             ],
             [
              0.3333333333333333,
              "#9c179e"
             ],
             [
              0.4444444444444444,
              "#bd3786"
             ],
             [
              0.5555555555555556,
              "#d8576b"
             ],
             [
              0.6666666666666666,
              "#ed7953"
             ],
             [
              0.7777777777777778,
              "#fb9f3a"
             ],
             [
              0.8888888888888888,
              "#fdca26"
             ],
             [
              1,
              "#f0f921"
             ]
            ],
            "type": "surface"
           }
          ],
          "table": [
           {
            "cells": {
             "fill": {
              "color": "#EBF0F8"
             },
             "line": {
              "color": "white"
             }
            },
            "header": {
             "fill": {
              "color": "#C8D4E3"
             },
             "line": {
              "color": "white"
             }
            },
            "type": "table"
           }
          ]
         },
         "layout": {
          "annotationdefaults": {
           "arrowcolor": "#2a3f5f",
           "arrowhead": 0,
           "arrowwidth": 1
          },
          "autotypenumbers": "strict",
          "coloraxis": {
           "colorbar": {
            "outlinewidth": 0,
            "ticks": ""
           }
          },
          "colorscale": {
           "diverging": [
            [
             0,
             "#8e0152"
            ],
            [
             0.1,
             "#c51b7d"
            ],
            [
             0.2,
             "#de77ae"
            ],
            [
             0.3,
             "#f1b6da"
            ],
            [
             0.4,
             "#fde0ef"
            ],
            [
             0.5,
             "#f7f7f7"
            ],
            [
             0.6,
             "#e6f5d0"
            ],
            [
             0.7,
             "#b8e186"
            ],
            [
             0.8,
             "#7fbc41"
            ],
            [
             0.9,
             "#4d9221"
            ],
            [
             1,
             "#276419"
            ]
           ],
           "sequential": [
            [
             0,
             "#0d0887"
            ],
            [
             0.1111111111111111,
             "#46039f"
            ],
            [
             0.2222222222222222,
             "#7201a8"
            ],
            [
             0.3333333333333333,
             "#9c179e"
            ],
            [
             0.4444444444444444,
             "#bd3786"
            ],
            [
             0.5555555555555556,
             "#d8576b"
            ],
            [
             0.6666666666666666,
             "#ed7953"
            ],
            [
             0.7777777777777778,
             "#fb9f3a"
            ],
            [
             0.8888888888888888,
             "#fdca26"
            ],
            [
             1,
             "#f0f921"
            ]
           ],
           "sequentialminus": [
            [
             0,
             "#0d0887"
            ],
            [
             0.1111111111111111,
             "#46039f"
            ],
            [
             0.2222222222222222,
             "#7201a8"
            ],
            [
             0.3333333333333333,
             "#9c179e"
            ],
            [
             0.4444444444444444,
             "#bd3786"
            ],
            [
             0.5555555555555556,
             "#d8576b"
            ],
            [
             0.6666666666666666,
             "#ed7953"
            ],
            [
             0.7777777777777778,
             "#fb9f3a"
            ],
            [
             0.8888888888888888,
             "#fdca26"
            ],
            [
             1,
             "#f0f921"
            ]
           ]
          },
          "colorway": [
           "#636efa",
           "#EF553B",
           "#00cc96",
           "#ab63fa",
           "#FFA15A",
           "#19d3f3",
           "#FF6692",
           "#B6E880",
           "#FF97FF",
           "#FECB52"
          ],
          "font": {
           "color": "#2a3f5f"
          },
          "geo": {
           "bgcolor": "white",
           "lakecolor": "white",
           "landcolor": "#E5ECF6",
           "showlakes": true,
           "showland": true,
           "subunitcolor": "white"
          },
          "hoverlabel": {
           "align": "left"
          },
          "hovermode": "closest",
          "mapbox": {
           "style": "light"
          },
          "paper_bgcolor": "white",
          "plot_bgcolor": "#E5ECF6",
          "polar": {
           "angularaxis": {
            "gridcolor": "white",
            "linecolor": "white",
            "ticks": ""
           },
           "bgcolor": "#E5ECF6",
           "radialaxis": {
            "gridcolor": "white",
            "linecolor": "white",
            "ticks": ""
           }
          },
          "scene": {
           "xaxis": {
            "backgroundcolor": "#E5ECF6",
            "gridcolor": "white",
            "gridwidth": 2,
            "linecolor": "white",
            "showbackground": true,
            "ticks": "",
            "zerolinecolor": "white"
           },
           "yaxis": {
            "backgroundcolor": "#E5ECF6",
            "gridcolor": "white",
            "gridwidth": 2,
            "linecolor": "white",
            "showbackground": true,
            "ticks": "",
            "zerolinecolor": "white"
           },
           "zaxis": {
            "backgroundcolor": "#E5ECF6",
            "gridcolor": "white",
            "gridwidth": 2,
            "linecolor": "white",
            "showbackground": true,
            "ticks": "",
            "zerolinecolor": "white"
           }
          },
          "shapedefaults": {
           "line": {
            "color": "#2a3f5f"
           }
          },
          "ternary": {
           "aaxis": {
            "gridcolor": "white",
            "linecolor": "white",
            "ticks": ""
           },
           "baxis": {
            "gridcolor": "white",
            "linecolor": "white",
            "ticks": ""
           },
           "bgcolor": "#E5ECF6",
           "caxis": {
            "gridcolor": "white",
            "linecolor": "white",
            "ticks": ""
           }
          },
          "title": {
           "x": 0.05
          },
          "xaxis": {
           "automargin": true,
           "gridcolor": "white",
           "linecolor": "white",
           "ticks": "",
           "title": {
            "standoff": 15
           },
           "zerolinecolor": "white",
           "zerolinewidth": 2
          },
          "yaxis": {
           "automargin": true,
           "gridcolor": "white",
           "linecolor": "white",
           "ticks": "",
           "title": {
            "standoff": 15
           },
           "zerolinecolor": "white",
           "zerolinewidth": 2
          }
         }
        },
        "xaxis": {
         "anchor": "y",
         "domain": [
          0,
          1
         ],
         "title": {
          "text": "Product"
         }
        },
        "yaxis": {
         "anchor": "x",
         "domain": [
          0,
          1
         ],
         "title": {
          "text": "meanTotal"
         }
        }
       }
      }
     },
     "metadata": {},
     "output_type": "display_data"
    }
   ],
   "source": [
    "fig = px.bar(region_profit, x=\"Product\", y=\"meanTotal\", error_y=\"stdTotal\")\n",
    "fig.show() "
   ]
  },
  {
   "cell_type": "markdown",
   "metadata": {},
   "source": [
    "### **1. Análisis de Ventas por Región**\n",
    "Analiza las ventas de productos por región. El objetivo es identificar las regiones que generan más ingresos y las tendencias de ventas a lo largo del tiempo en esas regiones. \n",
    "Pista: Utiliza gráficos de barras y líneas para mostrar la evolución de las ventas, así como mapas geográficos para visualizar la distribución de ingresos por región. "
   ]
  },
  {
   "cell_type": "code",
   "execution_count": null,
   "metadata": {},
   "outputs": [],
   "source": []
  },
  {
   "cell_type": "code",
   "execution_count": null,
   "metadata": {},
   "outputs": [],
   "source": []
  },
  {
   "cell_type": "code",
   "execution_count": null,
   "metadata": {},
   "outputs": [],
   "source": []
  },
  {
   "cell_type": "code",
   "execution_count": null,
   "metadata": {},
   "outputs": [],
   "source": []
  },
  {
   "cell_type": "code",
   "execution_count": null,
   "metadata": {},
   "outputs": [],
   "source": []
  },
  {
   "cell_type": "code",
   "execution_count": null,
   "metadata": {},
   "outputs": [],
   "source": []
  },
  {
   "cell_type": "code",
   "execution_count": null,
   "metadata": {},
   "outputs": [],
   "source": []
  },
  {
   "cell_type": "code",
   "execution_count": null,
   "metadata": {},
   "outputs": [],
   "source": []
  },
  {
   "cell_type": "code",
   "execution_count": null,
   "metadata": {},
   "outputs": [],
   "source": []
  },
  {
   "cell_type": "code",
   "execution_count": null,
   "metadata": {},
   "outputs": [],
   "source": []
  },
  {
   "cell_type": "code",
   "execution_count": null,
   "metadata": {},
   "outputs": [],
   "source": []
  },
  {
   "cell_type": "code",
   "execution_count": null,
   "metadata": {},
   "outputs": [],
   "source": []
  },
  {
   "cell_type": "code",
   "execution_count": null,
   "metadata": {},
   "outputs": [],
   "source": []
  },
  {
   "cell_type": "code",
   "execution_count": null,
   "metadata": {},
   "outputs": [],
   "source": []
  },
  {
   "cell_type": "code",
   "execution_count": null,
   "metadata": {},
   "outputs": [],
   "source": []
  },
  {
   "cell_type": "code",
   "execution_count": null,
   "metadata": {},
   "outputs": [],
   "source": []
  },
  {
   "cell_type": "code",
   "execution_count": null,
   "metadata": {},
   "outputs": [],
   "source": []
  },
  {
   "cell_type": "markdown",
   "metadata": {},
   "source": [
    "### **2. Análisis de Desempeño de Productos**\n",
    "Analiza el desempeño de los productos de la empresa. Examina las ventas de productos por categoría, identificando los productos más vendidos y los menos vendidos. \n",
    "\n",
    "Pista: Utiliza gráficos de barras y de tarta para visualizar la participación de mercado de cada categoría y los ingresos generados por los productos individuales. "
   ]
  },
  {
   "cell_type": "code",
   "execution_count": null,
   "metadata": {},
   "outputs": [
    {
     "name": "stdout",
     "output_type": "stream",
     "text": [
      "Requirement already satisfied: ibis-framework[sqlite] in c:\\users\\rodri\\anaconda3\\lib\\site-packages (9.0.0)\n",
      "Requirement already satisfied: atpublic<5,>=2.3 in c:\\users\\rodri\\anaconda3\\lib\\site-packages (from ibis-framework[sqlite]) (4.1.0)\n",
      "Requirement already satisfied: bidict<1,>=0.22.1 in c:\\users\\rodri\\anaconda3\\lib\\site-packages (from ibis-framework[sqlite]) (0.23.1)\n",
      "Requirement already satisfied: numpy<2,>=1.23.2 in c:\\users\\rodri\\anaconda3\\lib\\site-packages (from ibis-framework[sqlite]) (1.26.4)\n",
      "Requirement already satisfied: pandas<3,>=1.5.3 in c:\\users\\rodri\\anaconda3\\lib\\site-packages (from ibis-framework[sqlite]) (2.1.4)\n",
      "Requirement already satisfied: parsy<3,>=2 in c:\\users\\rodri\\anaconda3\\lib\\site-packages (from ibis-framework[sqlite]) (2.1)\n",
      "Requirement already satisfied: pyarrow<17,>=10.0.1 in c:\\users\\rodri\\anaconda3\\lib\\site-packages (from ibis-framework[sqlite]) (14.0.2)\n",
      "Requirement already satisfied: pyarrow-hotfix<1,>=0.4 in c:\\users\\rodri\\anaconda3\\lib\\site-packages (from ibis-framework[sqlite]) (0.6)\n",
      "Requirement already satisfied: python-dateutil<3,>=2.8.2 in c:\\users\\rodri\\anaconda3\\lib\\site-packages (from ibis-framework[sqlite]) (2.8.2)\n",
      "Requirement already satisfied: pytz>=2022.7 in c:\\users\\rodri\\anaconda3\\lib\\site-packages (from ibis-framework[sqlite]) (2023.3.post1)\n",
      "Requirement already satisfied: regex>=2021.7.6 in c:\\users\\rodri\\anaconda3\\lib\\site-packages (from ibis-framework[sqlite]) (2023.10.3)\n",
      "Requirement already satisfied: rich<14,>=12.4.4 in c:\\users\\rodri\\anaconda3\\lib\\site-packages (from ibis-framework[sqlite]) (13.3.5)\n",
      "Requirement already satisfied: sqlglot<23.13,>=23.4 in c:\\users\\rodri\\anaconda3\\lib\\site-packages (from ibis-framework[sqlite]) (23.12.2)\n",
      "Requirement already satisfied: toolz<1,>=0.11 in c:\\users\\rodri\\anaconda3\\lib\\site-packages (from ibis-framework[sqlite]) (0.12.0)\n",
      "Requirement already satisfied: typing-extensions<5,>=4.3.0 in c:\\users\\rodri\\anaconda3\\lib\\site-packages (from ibis-framework[sqlite]) (4.9.0)\n",
      "Requirement already satisfied: tzdata>=2022.1 in c:\\users\\rodri\\anaconda3\\lib\\site-packages (from pandas<3,>=1.5.3->ibis-framework[sqlite]) (2023.3)\n",
      "Requirement already satisfied: six>=1.5 in c:\\users\\rodri\\anaconda3\\lib\\site-packages (from python-dateutil<3,>=2.8.2->ibis-framework[sqlite]) (1.16.0)\n",
      "Requirement already satisfied: markdown-it-py<3.0.0,>=2.2.0 in c:\\users\\rodri\\anaconda3\\lib\\site-packages (from rich<14,>=12.4.4->ibis-framework[sqlite]) (2.2.0)\n",
      "Requirement already satisfied: pygments<3.0.0,>=2.13.0 in c:\\users\\rodri\\anaconda3\\lib\\site-packages (from rich<14,>=12.4.4->ibis-framework[sqlite]) (2.15.1)\n",
      "Requirement already satisfied: mdurl~=0.1 in c:\\users\\rodri\\anaconda3\\lib\\site-packages (from markdown-it-py<3.0.0,>=2.2.0->rich<14,>=12.4.4->ibis-framework[sqlite]) (0.1.0)\n",
      "Note: you may need to restart the kernel to use updated packages.\n"
     ]
    }
   ],
   "source": [
    "pip install ibis-framework[sqlite]"
   ]
  },
  {
   "cell_type": "code",
   "execution_count": 27,
   "metadata": {},
   "outputs": [],
   "source": [
    "import ibis \n",
    "\n",
    "# Para ejecución interactiva \n",
    "ibis.options.interactive = True # PERMITE UNA INTERACCION DIRECTA CON LA BASE DE DATOS \n",
    "\n",
    "con = ibis.sqlite.connect('C:/Users/rodri/OneDrive/Escritorio/DATA_SCIENCE/CODIGO_CLASES/TheBridge_DSPT-1/2-Data_Analysis/6-Bases_de_datos/SQL/Práctica/Northwind/data/northwind.db') "
   ]
  },
  {
   "cell_type": "code",
   "execution_count": 28,
   "metadata": {},
   "outputs": [
    {
     "data": {
      "text/html": [
       "<pre style=\"white-space:pre;overflow-x:auto;line-height:normal;font-family:Menlo,'DejaVu Sans Mono',consolas,'Courier New',monospace\">┏━━━━━━━━━━━━┳━━━━━━━━━━━━━━┳━━━━━━━━━━━━━━━━━━━━━━━━━━━━━━━━━━━━━━━━━━━━━━━━━━━━━━━━━━━━┳━━━━━━━━━━━━━━━━━━━━━━━━━━━━━━━━━━━━━━━━━━━━━━━━━━━━━━━━━━━━━━━━━━━━━━━━━━━━━━━━━━━━━━━━━━━━━━━━━━━━━━━━━━━━━━━━━━━━━━━━━━━━━━━━━━━━━━━━━━━━━━━━━━━━━━━━━━━━━━━━━━━━━━━━━━━━━━━━━━━━━━━━━━━━━━━━━━━━━━━━━━━━━━━━━━━━━━━━━━━━━━━━━━━━━━━━━━━━━━━━━━━━━━━━━━━━━━━━━━━━━━━┳━━━━━━━━━━━┳━━━━━━━━━━━━━━━━━━━━━━━━━━━━━━━━━┳━━━━━━━━━━━━┳━━━━━━━━━━━━━━━━━━━━━┳━━━━━━━━━━━┳━━━━━━━━━━━━━━┳━━━━━━━━━━━━━━┳━━━━━━━━━━━━━━┳━━━━━━━━━━━━━━┓\n",
       "┃<span style=\"font-weight: bold\"> CategoryID </span>┃<span style=\"font-weight: bold\"> CategoryName </span>┃<span style=\"font-weight: bold\"> Description                                                </span>┃<span style=\"font-weight: bold\"> Picture                                                                                                                                                                                                                                                               </span>┃<span style=\"font-weight: bold\"> ProductID </span>┃<span style=\"font-weight: bold\"> ProductName                     </span>┃<span style=\"font-weight: bold\"> SupplierID </span>┃<span style=\"font-weight: bold\"> QuantityPerUnit     </span>┃<span style=\"font-weight: bold\"> UnitPrice </span>┃<span style=\"font-weight: bold\"> UnitsInStock </span>┃<span style=\"font-weight: bold\"> UnitsOnOrder </span>┃<span style=\"font-weight: bold\"> ReorderLevel </span>┃<span style=\"font-weight: bold\"> Discontinued </span>┃\n",
       "┡━━━━━━━━━━━━╇━━━━━━━━━━━━━━╇━━━━━━━━━━━━━━━━━━━━━━━━━━━━━━━━━━━━━━━━━━━━━━━━━━━━━━━━━━━━╇━━━━━━━━━━━━━━━━━━━━━━━━━━━━━━━━━━━━━━━━━━━━━━━━━━━━━━━━━━━━━━━━━━━━━━━━━━━━━━━━━━━━━━━━━━━━━━━━━━━━━━━━━━━━━━━━━━━━━━━━━━━━━━━━━━━━━━━━━━━━━━━━━━━━━━━━━━━━━━━━━━━━━━━━━━━━━━━━━━━━━━━━━━━━━━━━━━━━━━━━━━━━━━━━━━━━━━━━━━━━━━━━━━━━━━━━━━━━━━━━━━━━━━━━━━━━━━━━━━━━━━━╇━━━━━━━━━━━╇━━━━━━━━━━━━━━━━━━━━━━━━━━━━━━━━━╇━━━━━━━━━━━━╇━━━━━━━━━━━━━━━━━━━━━╇━━━━━━━━━━━╇━━━━━━━━━━━━━━╇━━━━━━━━━━━━━━╇━━━━━━━━━━━━━━╇━━━━━━━━━━━━━━┩\n",
       "│ <span style=\"color: #7f7f7f; text-decoration-color: #7f7f7f\">int64</span>      │ <span style=\"color: #7f7f7f; text-decoration-color: #7f7f7f\">string</span>       │ <span style=\"color: #7f7f7f; text-decoration-color: #7f7f7f\">string</span>                                                     │ <span style=\"color: #7f7f7f; text-decoration-color: #7f7f7f\">binary</span>                                                                                                                                                                                                                                                                │ <span style=\"color: #7f7f7f; text-decoration-color: #7f7f7f\">int64</span>     │ <span style=\"color: #7f7f7f; text-decoration-color: #7f7f7f\">string</span>                          │ <span style=\"color: #7f7f7f; text-decoration-color: #7f7f7f\">int64</span>      │ <span style=\"color: #7f7f7f; text-decoration-color: #7f7f7f\">string</span>              │ <span style=\"color: #7f7f7f; text-decoration-color: #7f7f7f\">decimal</span>   │ <span style=\"color: #7f7f7f; text-decoration-color: #7f7f7f\">int64</span>        │ <span style=\"color: #7f7f7f; text-decoration-color: #7f7f7f\">int64</span>        │ <span style=\"color: #7f7f7f; text-decoration-color: #7f7f7f\">int64</span>        │ <span style=\"color: #7f7f7f; text-decoration-color: #7f7f7f\">string</span>       │\n",
       "├────────────┼──────────────┼────────────────────────────────────────────────────────────┼───────────────────────────────────────────────────────────────────────────────────────────────────────────────────────────────────────────────────────────────────────────────────────────────────────────────────────────────────────────────────────────────────────┼───────────┼─────────────────────────────────┼────────────┼─────────────────────┼───────────┼──────────────┼──────────────┼──────────────┼──────────────┤\n",
       "│          <span style=\"color: #008080; text-decoration-color: #008080; font-weight: bold\">1</span> │ <span style=\"color: #008000; text-decoration-color: #008000\">Beverages   </span> │ <span style=\"color: #008000; text-decoration-color: #008000\">Soft drinks, coffees, teas, beers, and ales               </span> │ <span style=\"color: #008000; text-decoration-color: #008000\">b\"\\xff\\xd8\\xff\\xe0\\x00\\x10JFIF\\x00\\x01\\x02\\x00\\x00d\\x00d\\x00\\x00\\xff\\xec\\x00\\x11Ducky\\x00\\x01\\x00\\x04\\x00\\x00\\x00P\\x00\\x00\\xff\\xee\\x00&amp;Adobe\\x00d\\xc0\\x00\\x00\\x00\\x01\\x03\\x00\\x15\\x04\\x03\\x06\\n\\r\\x00\\x00\\nc\\x00\\x00\\x10\\xe8\\x00\\x00\\x19\\xf4\\x00\\x00'\\xa4\\xff\"</span>+<span style=\"color: #008080; text-decoration-color: #008080; font-weight: bold\">10071</span>  │         <span style=\"color: #008080; text-decoration-color: #008080; font-weight: bold\">1</span> │ <span style=\"color: #008000; text-decoration-color: #008000\">Chai                           </span> │          <span style=\"color: #008080; text-decoration-color: #008080; font-weight: bold\">1</span> │ <span style=\"color: #008000; text-decoration-color: #008000\">10 boxes x 20 bags </span> │     <span style=\"color: #008080; text-decoration-color: #008080; font-weight: bold\">18.00</span> │           <span style=\"color: #008080; text-decoration-color: #008080; font-weight: bold\">39</span> │            <span style=\"color: #008080; text-decoration-color: #008080; font-weight: bold\">0</span> │           <span style=\"color: #008080; text-decoration-color: #008080; font-weight: bold\">10</span> │ <span style=\"color: #008000; text-decoration-color: #008000\">0           </span> │\n",
       "│          <span style=\"color: #008080; text-decoration-color: #008080; font-weight: bold\">1</span> │ <span style=\"color: #008000; text-decoration-color: #008000\">Beverages   </span> │ <span style=\"color: #008000; text-decoration-color: #008000\">Soft drinks, coffees, teas, beers, and ales               </span> │ <span style=\"color: #008000; text-decoration-color: #008000\">b\"\\xff\\xd8\\xff\\xe0\\x00\\x10JFIF\\x00\\x01\\x02\\x00\\x00d\\x00d\\x00\\x00\\xff\\xec\\x00\\x11Ducky\\x00\\x01\\x00\\x04\\x00\\x00\\x00P\\x00\\x00\\xff\\xee\\x00&amp;Adobe\\x00d\\xc0\\x00\\x00\\x00\\x01\\x03\\x00\\x15\\x04\\x03\\x06\\n\\r\\x00\\x00\\nc\\x00\\x00\\x10\\xe8\\x00\\x00\\x19\\xf4\\x00\\x00'\\xa4\\xff\"</span>+<span style=\"color: #008080; text-decoration-color: #008080; font-weight: bold\">10071</span>  │         <span style=\"color: #008080; text-decoration-color: #008080; font-weight: bold\">2</span> │ <span style=\"color: #008000; text-decoration-color: #008000\">Chang                          </span> │          <span style=\"color: #008080; text-decoration-color: #008080; font-weight: bold\">1</span> │ <span style=\"color: #008000; text-decoration-color: #008000\">24 - 12 oz bottles </span> │     <span style=\"color: #008080; text-decoration-color: #008080; font-weight: bold\">19.00</span> │           <span style=\"color: #008080; text-decoration-color: #008080; font-weight: bold\">17</span> │           <span style=\"color: #008080; text-decoration-color: #008080; font-weight: bold\">40</span> │           <span style=\"color: #008080; text-decoration-color: #008080; font-weight: bold\">25</span> │ <span style=\"color: #008000; text-decoration-color: #008000\">0           </span> │\n",
       "│          <span style=\"color: #008080; text-decoration-color: #008080; font-weight: bold\">2</span> │ <span style=\"color: #008000; text-decoration-color: #008000\">Condiments  </span> │ <span style=\"color: #008000; text-decoration-color: #008000\">Sweet and savory sauces, relishes, spreads, and seasonings</span> │ <span style=\"color: #008000; text-decoration-color: #008000\">b'\\xff\\xd8\\xff\\xe0\\x00\\x10JFIF\\x00\\x01\\x02\\x00\\x00d\\x00d\\x00\\x00\\xff\\xec\\x00\\x11Ducky\\x00\\x01\\x00\\x04\\x00\\x00\\x00L\\x00\\x00\\xff\\xee\\x00&amp;Adobe\\x00d\\xc0\\x00\\x00\\x00\\x01\\x03\\x00\\x15\\x04\\x03\\x06\\n\\r\\x00\\x00\\n\\xda\\x00\\x00\\x14\\xef\\x00\\x00 ,\\x00\\x00/H\\xff'</span>+<span style=\"color: #008080; text-decoration-color: #008080; font-weight: bold\">12027</span>        │         <span style=\"color: #008080; text-decoration-color: #008080; font-weight: bold\">3</span> │ <span style=\"color: #008000; text-decoration-color: #008000\">Aniseed Syrup                  </span> │          <span style=\"color: #008080; text-decoration-color: #008080; font-weight: bold\">1</span> │ <span style=\"color: #008000; text-decoration-color: #008000\">12 - 550 ml bottles</span> │     <span style=\"color: #008080; text-decoration-color: #008080; font-weight: bold\">10.00</span> │           <span style=\"color: #008080; text-decoration-color: #008080; font-weight: bold\">13</span> │           <span style=\"color: #008080; text-decoration-color: #008080; font-weight: bold\">70</span> │           <span style=\"color: #008080; text-decoration-color: #008080; font-weight: bold\">25</span> │ <span style=\"color: #008000; text-decoration-color: #008000\">0           </span> │\n",
       "│          <span style=\"color: #008080; text-decoration-color: #008080; font-weight: bold\">2</span> │ <span style=\"color: #008000; text-decoration-color: #008000\">Condiments  </span> │ <span style=\"color: #008000; text-decoration-color: #008000\">Sweet and savory sauces, relishes, spreads, and seasonings</span> │ <span style=\"color: #008000; text-decoration-color: #008000\">b'\\xff\\xd8\\xff\\xe0\\x00\\x10JFIF\\x00\\x01\\x02\\x00\\x00d\\x00d\\x00\\x00\\xff\\xec\\x00\\x11Ducky\\x00\\x01\\x00\\x04\\x00\\x00\\x00L\\x00\\x00\\xff\\xee\\x00&amp;Adobe\\x00d\\xc0\\x00\\x00\\x00\\x01\\x03\\x00\\x15\\x04\\x03\\x06\\n\\r\\x00\\x00\\n\\xda\\x00\\x00\\x14\\xef\\x00\\x00 ,\\x00\\x00/H\\xff'</span>+<span style=\"color: #008080; text-decoration-color: #008080; font-weight: bold\">12027</span>        │         <span style=\"color: #008080; text-decoration-color: #008080; font-weight: bold\">4</span> │ <span style=\"color: #008000; text-decoration-color: #008000\">Chef Anton's Cajun Seasoning   </span> │          <span style=\"color: #008080; text-decoration-color: #008080; font-weight: bold\">2</span> │ <span style=\"color: #008000; text-decoration-color: #008000\">48 - 6 oz jars     </span> │     <span style=\"color: #008080; text-decoration-color: #008080; font-weight: bold\">22.00</span> │           <span style=\"color: #008080; text-decoration-color: #008080; font-weight: bold\">53</span> │            <span style=\"color: #008080; text-decoration-color: #008080; font-weight: bold\">0</span> │            <span style=\"color: #008080; text-decoration-color: #008080; font-weight: bold\">0</span> │ <span style=\"color: #008000; text-decoration-color: #008000\">0           </span> │\n",
       "│          <span style=\"color: #008080; text-decoration-color: #008080; font-weight: bold\">2</span> │ <span style=\"color: #008000; text-decoration-color: #008000\">Condiments  </span> │ <span style=\"color: #008000; text-decoration-color: #008000\">Sweet and savory sauces, relishes, spreads, and seasonings</span> │ <span style=\"color: #008000; text-decoration-color: #008000\">b'\\xff\\xd8\\xff\\xe0\\x00\\x10JFIF\\x00\\x01\\x02\\x00\\x00d\\x00d\\x00\\x00\\xff\\xec\\x00\\x11Ducky\\x00\\x01\\x00\\x04\\x00\\x00\\x00L\\x00\\x00\\xff\\xee\\x00&amp;Adobe\\x00d\\xc0\\x00\\x00\\x00\\x01\\x03\\x00\\x15\\x04\\x03\\x06\\n\\r\\x00\\x00\\n\\xda\\x00\\x00\\x14\\xef\\x00\\x00 ,\\x00\\x00/H\\xff'</span>+<span style=\"color: #008080; text-decoration-color: #008080; font-weight: bold\">12027</span>        │         <span style=\"color: #008080; text-decoration-color: #008080; font-weight: bold\">5</span> │ <span style=\"color: #008000; text-decoration-color: #008000\">Chef Anton's Gumbo Mix         </span> │          <span style=\"color: #008080; text-decoration-color: #008080; font-weight: bold\">2</span> │ <span style=\"color: #008000; text-decoration-color: #008000\">36 boxes           </span> │     <span style=\"color: #008080; text-decoration-color: #008080; font-weight: bold\">21.35</span> │            <span style=\"color: #008080; text-decoration-color: #008080; font-weight: bold\">0</span> │            <span style=\"color: #008080; text-decoration-color: #008080; font-weight: bold\">0</span> │            <span style=\"color: #008080; text-decoration-color: #008080; font-weight: bold\">0</span> │ <span style=\"color: #008000; text-decoration-color: #008000\">1           </span> │\n",
       "│          <span style=\"color: #008080; text-decoration-color: #008080; font-weight: bold\">2</span> │ <span style=\"color: #008000; text-decoration-color: #008000\">Condiments  </span> │ <span style=\"color: #008000; text-decoration-color: #008000\">Sweet and savory sauces, relishes, spreads, and seasonings</span> │ <span style=\"color: #008000; text-decoration-color: #008000\">b'\\xff\\xd8\\xff\\xe0\\x00\\x10JFIF\\x00\\x01\\x02\\x00\\x00d\\x00d\\x00\\x00\\xff\\xec\\x00\\x11Ducky\\x00\\x01\\x00\\x04\\x00\\x00\\x00L\\x00\\x00\\xff\\xee\\x00&amp;Adobe\\x00d\\xc0\\x00\\x00\\x00\\x01\\x03\\x00\\x15\\x04\\x03\\x06\\n\\r\\x00\\x00\\n\\xda\\x00\\x00\\x14\\xef\\x00\\x00 ,\\x00\\x00/H\\xff'</span>+<span style=\"color: #008080; text-decoration-color: #008080; font-weight: bold\">12027</span>        │         <span style=\"color: #008080; text-decoration-color: #008080; font-weight: bold\">6</span> │ <span style=\"color: #008000; text-decoration-color: #008000\">Grandma's Boysenberry Spread   </span> │          <span style=\"color: #008080; text-decoration-color: #008080; font-weight: bold\">3</span> │ <span style=\"color: #008000; text-decoration-color: #008000\">12 - 8 oz jars     </span> │     <span style=\"color: #008080; text-decoration-color: #008080; font-weight: bold\">25.00</span> │          <span style=\"color: #008080; text-decoration-color: #008080; font-weight: bold\">120</span> │            <span style=\"color: #008080; text-decoration-color: #008080; font-weight: bold\">0</span> │           <span style=\"color: #008080; text-decoration-color: #008080; font-weight: bold\">25</span> │ <span style=\"color: #008000; text-decoration-color: #008000\">0           </span> │\n",
       "│          <span style=\"color: #008080; text-decoration-color: #008080; font-weight: bold\">7</span> │ <span style=\"color: #008000; text-decoration-color: #008000\">Produce     </span> │ <span style=\"color: #008000; text-decoration-color: #008000\">Dried fruit and bean curd                                 </span> │ <span style=\"color: #008000; text-decoration-color: #008000\">b'\\xff\\xd8\\xff\\xe0\\x00\\x10JFIF\\x00\\x01\\x02\\x00\\x00d\\x00d\\x00\\x00\\xff\\xec\\x00\\x11Ducky\\x00\\x01\\x00\\x04\\x00\\x00\\x00F\\x00\\x00\\xff\\xee\\x00&amp;Adobe\\x00d\\xc0\\x00\\x00\\x00\\x01\\x03\\x00\\x15\\x04\\x03\\x06\\n\\r\\x00\\x00\\x0b\\xb5\\x00\\x00\\x146\\x00\\x00\\x1f\\xdb\\x00\\x000/\\xff'</span>+<span style=\"color: #008080; text-decoration-color: #008080; font-weight: bold\">12258</span>   │         <span style=\"color: #008080; text-decoration-color: #008080; font-weight: bold\">7</span> │ <span style=\"color: #008000; text-decoration-color: #008000\">Uncle Bob's Organic Dried Pears</span> │          <span style=\"color: #008080; text-decoration-color: #008080; font-weight: bold\">3</span> │ <span style=\"color: #008000; text-decoration-color: #008000\">12 - 1 lb pkgs.    </span> │     <span style=\"color: #008080; text-decoration-color: #008080; font-weight: bold\">30.00</span> │           <span style=\"color: #008080; text-decoration-color: #008080; font-weight: bold\">15</span> │            <span style=\"color: #008080; text-decoration-color: #008080; font-weight: bold\">0</span> │           <span style=\"color: #008080; text-decoration-color: #008080; font-weight: bold\">10</span> │ <span style=\"color: #008000; text-decoration-color: #008000\">0           </span> │\n",
       "│          <span style=\"color: #008080; text-decoration-color: #008080; font-weight: bold\">2</span> │ <span style=\"color: #008000; text-decoration-color: #008000\">Condiments  </span> │ <span style=\"color: #008000; text-decoration-color: #008000\">Sweet and savory sauces, relishes, spreads, and seasonings</span> │ <span style=\"color: #008000; text-decoration-color: #008000\">b'\\xff\\xd8\\xff\\xe0\\x00\\x10JFIF\\x00\\x01\\x02\\x00\\x00d\\x00d\\x00\\x00\\xff\\xec\\x00\\x11Ducky\\x00\\x01\\x00\\x04\\x00\\x00\\x00L\\x00\\x00\\xff\\xee\\x00&amp;Adobe\\x00d\\xc0\\x00\\x00\\x00\\x01\\x03\\x00\\x15\\x04\\x03\\x06\\n\\r\\x00\\x00\\n\\xda\\x00\\x00\\x14\\xef\\x00\\x00 ,\\x00\\x00/H\\xff'</span>+<span style=\"color: #008080; text-decoration-color: #008080; font-weight: bold\">12027</span>        │         <span style=\"color: #008080; text-decoration-color: #008080; font-weight: bold\">8</span> │ <span style=\"color: #008000; text-decoration-color: #008000\">Northwoods Cranberry Sauce     </span> │          <span style=\"color: #008080; text-decoration-color: #008080; font-weight: bold\">3</span> │ <span style=\"color: #008000; text-decoration-color: #008000\">12 - 12 oz jars    </span> │     <span style=\"color: #008080; text-decoration-color: #008080; font-weight: bold\">40.00</span> │            <span style=\"color: #008080; text-decoration-color: #008080; font-weight: bold\">6</span> │            <span style=\"color: #008080; text-decoration-color: #008080; font-weight: bold\">0</span> │            <span style=\"color: #008080; text-decoration-color: #008080; font-weight: bold\">0</span> │ <span style=\"color: #008000; text-decoration-color: #008000\">0           </span> │\n",
       "│          <span style=\"color: #008080; text-decoration-color: #008080; font-weight: bold\">6</span> │ <span style=\"color: #008000; text-decoration-color: #008000\">Meat/Poultry</span> │ <span style=\"color: #008000; text-decoration-color: #008000\">Prepared meats                                            </span> │ <span style=\"color: #008000; text-decoration-color: #008000\">b'\\xff\\xd8\\xff\\xe0\\x00\\x10JFIF\\x00\\x01\\x02\\x00\\x00d\\x00d\\x00\\x00\\xff\\xec\\x00\\x11Ducky\\x00\\x01\\x00\\x04\\x00\\x00\\x00A\\x00\\x00\\xff\\xee\\x00&amp;Adobe\\x00d\\xc0\\x00\\x00\\x00\\x01\\x03\\x00\\x15\\x04\\x03\\x06\\n\\r\\x00\\x00\\t\\xa6\\x00\\x00\\x0f\\x80\\x00\\x00\\x1a\\xeb\\x00\\x00,\\r\\xff'</span>+<span style=\"color: #008080; text-decoration-color: #008080; font-weight: bold\">11200</span> │         <span style=\"color: #008080; text-decoration-color: #008080; font-weight: bold\">9</span> │ <span style=\"color: #008000; text-decoration-color: #008000\">Mishi Kobe Niku                </span> │          <span style=\"color: #008080; text-decoration-color: #008080; font-weight: bold\">4</span> │ <span style=\"color: #008000; text-decoration-color: #008000\">18 - 500 g pkgs.   </span> │     <span style=\"color: #008080; text-decoration-color: #008080; font-weight: bold\">97.00</span> │           <span style=\"color: #008080; text-decoration-color: #008080; font-weight: bold\">29</span> │            <span style=\"color: #008080; text-decoration-color: #008080; font-weight: bold\">0</span> │            <span style=\"color: #008080; text-decoration-color: #008080; font-weight: bold\">0</span> │ <span style=\"color: #008000; text-decoration-color: #008000\">1           </span> │\n",
       "│          <span style=\"color: #008080; text-decoration-color: #008080; font-weight: bold\">8</span> │ <span style=\"color: #008000; text-decoration-color: #008000\">Seafood     </span> │ <span style=\"color: #008000; text-decoration-color: #008000\">Seaweed and fish                                          </span> │ <span style=\"color: #008000; text-decoration-color: #008000\">b'\\xff\\xd8\\xff\\xe0\\x00\\x10JFIF\\x00\\x01\\x02\\x00\\x00d\\x00d\\x00\\x00\\xff\\xec\\x00\\x11Ducky\\x00\\x01\\x00\\x04\\x00\\x00\\x00K\\x00\\x00\\xff\\xee\\x00&amp;Adobe\\x00d\\xc0\\x00\\x00\\x00\\x01\\x03\\x00\\x15\\x04\\x03\\x06\\n\\r\\x00\\x00\\x0c\\x81\\x00\\x00\\x14)\\x00\\x00\\x1f\\x1a\\x00\\x00/\"\\xff'</span>+<span style=\"color: #008080; text-decoration-color: #008080; font-weight: bold\">11989</span>   │        <span style=\"color: #008080; text-decoration-color: #008080; font-weight: bold\">10</span> │ <span style=\"color: #008000; text-decoration-color: #008000\">Ikura                          </span> │          <span style=\"color: #008080; text-decoration-color: #008080; font-weight: bold\">4</span> │ <span style=\"color: #008000; text-decoration-color: #008000\">12 - 200 ml jars   </span> │     <span style=\"color: #008080; text-decoration-color: #008080; font-weight: bold\">31.00</span> │           <span style=\"color: #008080; text-decoration-color: #008080; font-weight: bold\">31</span> │            <span style=\"color: #008080; text-decoration-color: #008080; font-weight: bold\">0</span> │            <span style=\"color: #008080; text-decoration-color: #008080; font-weight: bold\">0</span> │ <span style=\"color: #008000; text-decoration-color: #008000\">0           </span> │\n",
       "│          <span style=\"color: #7f7f7f; text-decoration-color: #7f7f7f\">…</span> │ <span style=\"color: #7f7f7f; text-decoration-color: #7f7f7f\">…</span>            │ <span style=\"color: #7f7f7f; text-decoration-color: #7f7f7f\">…</span>                                                          │ <span style=\"color: #7f7f7f; text-decoration-color: #7f7f7f\">…</span>                                                                                                                                                                                                                                                                     │         <span style=\"color: #7f7f7f; text-decoration-color: #7f7f7f\">…</span> │ <span style=\"color: #7f7f7f; text-decoration-color: #7f7f7f\">…</span>                               │          <span style=\"color: #7f7f7f; text-decoration-color: #7f7f7f\">…</span> │ <span style=\"color: #7f7f7f; text-decoration-color: #7f7f7f\">…</span>                   │         <span style=\"color: #7f7f7f; text-decoration-color: #7f7f7f\">…</span> │            <span style=\"color: #7f7f7f; text-decoration-color: #7f7f7f\">…</span> │            <span style=\"color: #7f7f7f; text-decoration-color: #7f7f7f\">…</span> │            <span style=\"color: #7f7f7f; text-decoration-color: #7f7f7f\">…</span> │ <span style=\"color: #7f7f7f; text-decoration-color: #7f7f7f\">…</span>            │\n",
       "└────────────┴──────────────┴────────────────────────────────────────────────────────────┴───────────────────────────────────────────────────────────────────────────────────────────────────────────────────────────────────────────────────────────────────────────────────────────────────────────────────────────────────────────────────────────────────────┴───────────┴─────────────────────────────────┴────────────┴─────────────────────┴───────────┴──────────────┴──────────────┴──────────────┴──────────────┘\n",
       "</pre>\n"
      ],
      "text/plain": [
       "┏━━━━━━━━━━━━┳━━━━━━━━━━━━━━┳━━━━━━━━━━━━━━━━━━━━━━━━━━━━━━━━━━━━━━━━━━━━━━━━━━━━━━━━━━━━┳━━━━━━━━━━━━━━━━━━━━━━━━━━━━━━━━━━━━━━━━━━━━━━━━━━━━━━━━━━━━━━━━━━━━━━━━━━━━━━━━━━━━━━━━━━━━━━━━━━━━━━━━━━━━━━━━━━━━━━━━━━━━━━━━━━━━━━━━━━━━━━━━━━━━━━━━━━━━━━━━━━━━━━━━━━━━━━━━━━━━━━━━━━━━━━━━━━━━━━━━━━━━━━━━━━━━━━━━━━━━━━━━━━━━━━━━━━━━━━━━━━━━━━━━━━━━━━━━━━━━━━━┳━━━━━━━━━━━┳━━━━━━━━━━━━━━━━━━━━━━━━━━━━━━━━━┳━━━━━━━━━━━━┳━━━━━━━━━━━━━━━━━━━━━┳━━━━━━━━━━━┳━━━━━━━━━━━━━━┳━━━━━━━━━━━━━━┳━━━━━━━━━━━━━━┳━━━━━━━━━━━━━━┓\n",
       "┃\u001b[1m \u001b[0m\u001b[1mCategoryID\u001b[0m\u001b[1m \u001b[0m┃\u001b[1m \u001b[0m\u001b[1mCategoryName\u001b[0m\u001b[1m \u001b[0m┃\u001b[1m \u001b[0m\u001b[1mDescription\u001b[0m\u001b[1m                                               \u001b[0m\u001b[1m \u001b[0m┃\u001b[1m \u001b[0m\u001b[1mPicture\u001b[0m\u001b[1m                                                                                                                                                                                                                                                              \u001b[0m\u001b[1m \u001b[0m┃\u001b[1m \u001b[0m\u001b[1mProductID\u001b[0m\u001b[1m \u001b[0m┃\u001b[1m \u001b[0m\u001b[1mProductName\u001b[0m\u001b[1m                    \u001b[0m\u001b[1m \u001b[0m┃\u001b[1m \u001b[0m\u001b[1mSupplierID\u001b[0m\u001b[1m \u001b[0m┃\u001b[1m \u001b[0m\u001b[1mQuantityPerUnit\u001b[0m\u001b[1m    \u001b[0m\u001b[1m \u001b[0m┃\u001b[1m \u001b[0m\u001b[1mUnitPrice\u001b[0m\u001b[1m \u001b[0m┃\u001b[1m \u001b[0m\u001b[1mUnitsInStock\u001b[0m\u001b[1m \u001b[0m┃\u001b[1m \u001b[0m\u001b[1mUnitsOnOrder\u001b[0m\u001b[1m \u001b[0m┃\u001b[1m \u001b[0m\u001b[1mReorderLevel\u001b[0m\u001b[1m \u001b[0m┃\u001b[1m \u001b[0m\u001b[1mDiscontinued\u001b[0m\u001b[1m \u001b[0m┃\n",
       "┡━━━━━━━━━━━━╇━━━━━━━━━━━━━━╇━━━━━━━━━━━━━━━━━━━━━━━━━━━━━━━━━━━━━━━━━━━━━━━━━━━━━━━━━━━━╇━━━━━━━━━━━━━━━━━━━━━━━━━━━━━━━━━━━━━━━━━━━━━━━━━━━━━━━━━━━━━━━━━━━━━━━━━━━━━━━━━━━━━━━━━━━━━━━━━━━━━━━━━━━━━━━━━━━━━━━━━━━━━━━━━━━━━━━━━━━━━━━━━━━━━━━━━━━━━━━━━━━━━━━━━━━━━━━━━━━━━━━━━━━━━━━━━━━━━━━━━━━━━━━━━━━━━━━━━━━━━━━━━━━━━━━━━━━━━━━━━━━━━━━━━━━━━━━━━━━━━━━╇━━━━━━━━━━━╇━━━━━━━━━━━━━━━━━━━━━━━━━━━━━━━━━╇━━━━━━━━━━━━╇━━━━━━━━━━━━━━━━━━━━━╇━━━━━━━━━━━╇━━━━━━━━━━━━━━╇━━━━━━━━━━━━━━╇━━━━━━━━━━━━━━╇━━━━━━━━━━━━━━┩\n",
       "│ \u001b[2mint64\u001b[0m      │ \u001b[2mstring\u001b[0m       │ \u001b[2mstring\u001b[0m                                                     │ \u001b[2mbinary\u001b[0m                                                                                                                                                                                                                                                                │ \u001b[2mint64\u001b[0m     │ \u001b[2mstring\u001b[0m                          │ \u001b[2mint64\u001b[0m      │ \u001b[2mstring\u001b[0m              │ \u001b[2mdecimal\u001b[0m   │ \u001b[2mint64\u001b[0m        │ \u001b[2mint64\u001b[0m        │ \u001b[2mint64\u001b[0m        │ \u001b[2mstring\u001b[0m       │\n",
       "├────────────┼──────────────┼────────────────────────────────────────────────────────────┼───────────────────────────────────────────────────────────────────────────────────────────────────────────────────────────────────────────────────────────────────────────────────────────────────────────────────────────────────────────────────────────────────────┼───────────┼─────────────────────────────────┼────────────┼─────────────────────┼───────────┼──────────────┼──────────────┼──────────────┼──────────────┤\n",
       "│          \u001b[1;36m1\u001b[0m │ \u001b[32mBeverages   \u001b[0m │ \u001b[32mSoft drinks, coffees, teas, beers, and ales               \u001b[0m │ \u001b[32mb\"\\xff\\xd8\\xff\\xe0\\x00\\x10JFIF\\x00\\x01\\x02\\x00\\x00d\\x00d\\x00\\x00\\xff\\xec\\x00\\x11Ducky\\x00\\x01\\x00\\x04\\x00\\x00\\x00P\\x00\\x00\\xff\\xee\\x00&Adobe\\x00d\\xc0\\x00\\x00\\x00\\x01\\x03\\x00\\x15\\x04\\x03\\x06\\n\\r\\x00\\x00\\nc\\x00\\x00\\x10\\xe8\\x00\\x00\\x19\\xf4\\x00\\x00'\\xa4\\xff\"\u001b[0m+\u001b[1;36m10071\u001b[0m  │         \u001b[1;36m1\u001b[0m │ \u001b[32mChai                           \u001b[0m │          \u001b[1;36m1\u001b[0m │ \u001b[32m10 boxes x 20 bags \u001b[0m │     \u001b[1;36m18.00\u001b[0m │           \u001b[1;36m39\u001b[0m │            \u001b[1;36m0\u001b[0m │           \u001b[1;36m10\u001b[0m │ \u001b[32m0           \u001b[0m │\n",
       "│          \u001b[1;36m1\u001b[0m │ \u001b[32mBeverages   \u001b[0m │ \u001b[32mSoft drinks, coffees, teas, beers, and ales               \u001b[0m │ \u001b[32mb\"\\xff\\xd8\\xff\\xe0\\x00\\x10JFIF\\x00\\x01\\x02\\x00\\x00d\\x00d\\x00\\x00\\xff\\xec\\x00\\x11Ducky\\x00\\x01\\x00\\x04\\x00\\x00\\x00P\\x00\\x00\\xff\\xee\\x00&Adobe\\x00d\\xc0\\x00\\x00\\x00\\x01\\x03\\x00\\x15\\x04\\x03\\x06\\n\\r\\x00\\x00\\nc\\x00\\x00\\x10\\xe8\\x00\\x00\\x19\\xf4\\x00\\x00'\\xa4\\xff\"\u001b[0m+\u001b[1;36m10071\u001b[0m  │         \u001b[1;36m2\u001b[0m │ \u001b[32mChang                          \u001b[0m │          \u001b[1;36m1\u001b[0m │ \u001b[32m24 - 12 oz bottles \u001b[0m │     \u001b[1;36m19.00\u001b[0m │           \u001b[1;36m17\u001b[0m │           \u001b[1;36m40\u001b[0m │           \u001b[1;36m25\u001b[0m │ \u001b[32m0           \u001b[0m │\n",
       "│          \u001b[1;36m2\u001b[0m │ \u001b[32mCondiments  \u001b[0m │ \u001b[32mSweet and savory sauces, relishes, spreads, and seasonings\u001b[0m │ \u001b[32mb'\\xff\\xd8\\xff\\xe0\\x00\\x10JFIF\\x00\\x01\\x02\\x00\\x00d\\x00d\\x00\\x00\\xff\\xec\\x00\\x11Ducky\\x00\\x01\\x00\\x04\\x00\\x00\\x00L\\x00\\x00\\xff\\xee\\x00&Adobe\\x00d\\xc0\\x00\\x00\\x00\\x01\\x03\\x00\\x15\\x04\\x03\\x06\\n\\r\\x00\\x00\\n\\xda\\x00\\x00\\x14\\xef\\x00\\x00 ,\\x00\\x00/H\\xff'\u001b[0m+\u001b[1;36m12027\u001b[0m        │         \u001b[1;36m3\u001b[0m │ \u001b[32mAniseed Syrup                  \u001b[0m │          \u001b[1;36m1\u001b[0m │ \u001b[32m12 - 550 ml bottles\u001b[0m │     \u001b[1;36m10.00\u001b[0m │           \u001b[1;36m13\u001b[0m │           \u001b[1;36m70\u001b[0m │           \u001b[1;36m25\u001b[0m │ \u001b[32m0           \u001b[0m │\n",
       "│          \u001b[1;36m2\u001b[0m │ \u001b[32mCondiments  \u001b[0m │ \u001b[32mSweet and savory sauces, relishes, spreads, and seasonings\u001b[0m │ \u001b[32mb'\\xff\\xd8\\xff\\xe0\\x00\\x10JFIF\\x00\\x01\\x02\\x00\\x00d\\x00d\\x00\\x00\\xff\\xec\\x00\\x11Ducky\\x00\\x01\\x00\\x04\\x00\\x00\\x00L\\x00\\x00\\xff\\xee\\x00&Adobe\\x00d\\xc0\\x00\\x00\\x00\\x01\\x03\\x00\\x15\\x04\\x03\\x06\\n\\r\\x00\\x00\\n\\xda\\x00\\x00\\x14\\xef\\x00\\x00 ,\\x00\\x00/H\\xff'\u001b[0m+\u001b[1;36m12027\u001b[0m        │         \u001b[1;36m4\u001b[0m │ \u001b[32mChef Anton's Cajun Seasoning   \u001b[0m │          \u001b[1;36m2\u001b[0m │ \u001b[32m48 - 6 oz jars     \u001b[0m │     \u001b[1;36m22.00\u001b[0m │           \u001b[1;36m53\u001b[0m │            \u001b[1;36m0\u001b[0m │            \u001b[1;36m0\u001b[0m │ \u001b[32m0           \u001b[0m │\n",
       "│          \u001b[1;36m2\u001b[0m │ \u001b[32mCondiments  \u001b[0m │ \u001b[32mSweet and savory sauces, relishes, spreads, and seasonings\u001b[0m │ \u001b[32mb'\\xff\\xd8\\xff\\xe0\\x00\\x10JFIF\\x00\\x01\\x02\\x00\\x00d\\x00d\\x00\\x00\\xff\\xec\\x00\\x11Ducky\\x00\\x01\\x00\\x04\\x00\\x00\\x00L\\x00\\x00\\xff\\xee\\x00&Adobe\\x00d\\xc0\\x00\\x00\\x00\\x01\\x03\\x00\\x15\\x04\\x03\\x06\\n\\r\\x00\\x00\\n\\xda\\x00\\x00\\x14\\xef\\x00\\x00 ,\\x00\\x00/H\\xff'\u001b[0m+\u001b[1;36m12027\u001b[0m        │         \u001b[1;36m5\u001b[0m │ \u001b[32mChef Anton's Gumbo Mix         \u001b[0m │          \u001b[1;36m2\u001b[0m │ \u001b[32m36 boxes           \u001b[0m │     \u001b[1;36m21.35\u001b[0m │            \u001b[1;36m0\u001b[0m │            \u001b[1;36m0\u001b[0m │            \u001b[1;36m0\u001b[0m │ \u001b[32m1           \u001b[0m │\n",
       "│          \u001b[1;36m2\u001b[0m │ \u001b[32mCondiments  \u001b[0m │ \u001b[32mSweet and savory sauces, relishes, spreads, and seasonings\u001b[0m │ \u001b[32mb'\\xff\\xd8\\xff\\xe0\\x00\\x10JFIF\\x00\\x01\\x02\\x00\\x00d\\x00d\\x00\\x00\\xff\\xec\\x00\\x11Ducky\\x00\\x01\\x00\\x04\\x00\\x00\\x00L\\x00\\x00\\xff\\xee\\x00&Adobe\\x00d\\xc0\\x00\\x00\\x00\\x01\\x03\\x00\\x15\\x04\\x03\\x06\\n\\r\\x00\\x00\\n\\xda\\x00\\x00\\x14\\xef\\x00\\x00 ,\\x00\\x00/H\\xff'\u001b[0m+\u001b[1;36m12027\u001b[0m        │         \u001b[1;36m6\u001b[0m │ \u001b[32mGrandma's Boysenberry Spread   \u001b[0m │          \u001b[1;36m3\u001b[0m │ \u001b[32m12 - 8 oz jars     \u001b[0m │     \u001b[1;36m25.00\u001b[0m │          \u001b[1;36m120\u001b[0m │            \u001b[1;36m0\u001b[0m │           \u001b[1;36m25\u001b[0m │ \u001b[32m0           \u001b[0m │\n",
       "│          \u001b[1;36m7\u001b[0m │ \u001b[32mProduce     \u001b[0m │ \u001b[32mDried fruit and bean curd                                 \u001b[0m │ \u001b[32mb'\\xff\\xd8\\xff\\xe0\\x00\\x10JFIF\\x00\\x01\\x02\\x00\\x00d\\x00d\\x00\\x00\\xff\\xec\\x00\\x11Ducky\\x00\\x01\\x00\\x04\\x00\\x00\\x00F\\x00\\x00\\xff\\xee\\x00&Adobe\\x00d\\xc0\\x00\\x00\\x00\\x01\\x03\\x00\\x15\\x04\\x03\\x06\\n\\r\\x00\\x00\\x0b\\xb5\\x00\\x00\\x146\\x00\\x00\\x1f\\xdb\\x00\\x000/\\xff'\u001b[0m+\u001b[1;36m12258\u001b[0m   │         \u001b[1;36m7\u001b[0m │ \u001b[32mUncle Bob's Organic Dried Pears\u001b[0m │          \u001b[1;36m3\u001b[0m │ \u001b[32m12 - 1 lb pkgs.    \u001b[0m │     \u001b[1;36m30.00\u001b[0m │           \u001b[1;36m15\u001b[0m │            \u001b[1;36m0\u001b[0m │           \u001b[1;36m10\u001b[0m │ \u001b[32m0           \u001b[0m │\n",
       "│          \u001b[1;36m2\u001b[0m │ \u001b[32mCondiments  \u001b[0m │ \u001b[32mSweet and savory sauces, relishes, spreads, and seasonings\u001b[0m │ \u001b[32mb'\\xff\\xd8\\xff\\xe0\\x00\\x10JFIF\\x00\\x01\\x02\\x00\\x00d\\x00d\\x00\\x00\\xff\\xec\\x00\\x11Ducky\\x00\\x01\\x00\\x04\\x00\\x00\\x00L\\x00\\x00\\xff\\xee\\x00&Adobe\\x00d\\xc0\\x00\\x00\\x00\\x01\\x03\\x00\\x15\\x04\\x03\\x06\\n\\r\\x00\\x00\\n\\xda\\x00\\x00\\x14\\xef\\x00\\x00 ,\\x00\\x00/H\\xff'\u001b[0m+\u001b[1;36m12027\u001b[0m        │         \u001b[1;36m8\u001b[0m │ \u001b[32mNorthwoods Cranberry Sauce     \u001b[0m │          \u001b[1;36m3\u001b[0m │ \u001b[32m12 - 12 oz jars    \u001b[0m │     \u001b[1;36m40.00\u001b[0m │            \u001b[1;36m6\u001b[0m │            \u001b[1;36m0\u001b[0m │            \u001b[1;36m0\u001b[0m │ \u001b[32m0           \u001b[0m │\n",
       "│          \u001b[1;36m6\u001b[0m │ \u001b[32mMeat/Poultry\u001b[0m │ \u001b[32mPrepared meats                                            \u001b[0m │ \u001b[32mb'\\xff\\xd8\\xff\\xe0\\x00\\x10JFIF\\x00\\x01\\x02\\x00\\x00d\\x00d\\x00\\x00\\xff\\xec\\x00\\x11Ducky\\x00\\x01\\x00\\x04\\x00\\x00\\x00A\\x00\\x00\\xff\\xee\\x00&Adobe\\x00d\\xc0\\x00\\x00\\x00\\x01\\x03\\x00\\x15\\x04\\x03\\x06\\n\\r\\x00\\x00\\t\\xa6\\x00\\x00\\x0f\\x80\\x00\\x00\\x1a\\xeb\\x00\\x00,\\r\\xff'\u001b[0m+\u001b[1;36m11200\u001b[0m │         \u001b[1;36m9\u001b[0m │ \u001b[32mMishi Kobe Niku                \u001b[0m │          \u001b[1;36m4\u001b[0m │ \u001b[32m18 - 500 g pkgs.   \u001b[0m │     \u001b[1;36m97.00\u001b[0m │           \u001b[1;36m29\u001b[0m │            \u001b[1;36m0\u001b[0m │            \u001b[1;36m0\u001b[0m │ \u001b[32m1           \u001b[0m │\n",
       "│          \u001b[1;36m8\u001b[0m │ \u001b[32mSeafood     \u001b[0m │ \u001b[32mSeaweed and fish                                          \u001b[0m │ \u001b[32mb'\\xff\\xd8\\xff\\xe0\\x00\\x10JFIF\\x00\\x01\\x02\\x00\\x00d\\x00d\\x00\\x00\\xff\\xec\\x00\\x11Ducky\\x00\\x01\\x00\\x04\\x00\\x00\\x00K\\x00\\x00\\xff\\xee\\x00&Adobe\\x00d\\xc0\\x00\\x00\\x00\\x01\\x03\\x00\\x15\\x04\\x03\\x06\\n\\r\\x00\\x00\\x0c\\x81\\x00\\x00\\x14\u001b[0m\u001b[32m)\u001b[0m\u001b[32m\\x00\\x00\\x1f\\x1a\\x00\\x00/\"\\xff'\u001b[0m+\u001b[1;36m11989\u001b[0m   │        \u001b[1;36m10\u001b[0m │ \u001b[32mIkura                          \u001b[0m │          \u001b[1;36m4\u001b[0m │ \u001b[32m12 - 200 ml jars   \u001b[0m │     \u001b[1;36m31.00\u001b[0m │           \u001b[1;36m31\u001b[0m │            \u001b[1;36m0\u001b[0m │            \u001b[1;36m0\u001b[0m │ \u001b[32m0           \u001b[0m │\n",
       "│          \u001b[2m…\u001b[0m │ \u001b[2m…\u001b[0m            │ \u001b[2m…\u001b[0m                                                          │ \u001b[2m…\u001b[0m                                                                                                                                                                                                                                                                     │         \u001b[2m…\u001b[0m │ \u001b[2m…\u001b[0m                               │          \u001b[2m…\u001b[0m │ \u001b[2m…\u001b[0m                   │         \u001b[2m…\u001b[0m │            \u001b[2m…\u001b[0m │            \u001b[2m…\u001b[0m │            \u001b[2m…\u001b[0m │ \u001b[2m…\u001b[0m            │\n",
       "└────────────┴──────────────┴────────────────────────────────────────────────────────────┴───────────────────────────────────────────────────────────────────────────────────────────────────────────────────────────────────────────────────────────────────────────────────────────────────────────────────────────────────────────────────────────────────────┴───────────┴─────────────────────────────────┴────────────┴─────────────────────┴───────────┴──────────────┴──────────────┴──────────────┴──────────────┘"
      ]
     },
     "execution_count": 28,
     "metadata": {},
     "output_type": "execute_result"
    }
   ],
   "source": [
    "# LAS TABLAS 'categories' Y 'products'\n",
    "# JUNTA AMBAS TABLAS EN EL CAMPO EN COMÚN 'CategoryID' \n",
    "\n",
    "categories = con.table(\"Categories\")\n",
    "products = con.table(\"Products\") \n",
    "\n",
    "joined_products = categories.join(products, \"CategoryID\")\n",
    "joined_products "
   ]
  },
  {
   "cell_type": "code",
   "execution_count": 29,
   "metadata": {},
   "outputs": [
    {
     "data": {
      "text/plain": [
       "ibis.Schema {\n",
       "  ProductID        !int64\n",
       "  ProductName      !string\n",
       "  SupplierID       int64\n",
       "  CategoryID       int64\n",
       "  QuantityPerUnit  string\n",
       "  UnitPrice        decimal\n",
       "  UnitsInStock     int64\n",
       "  UnitsOnOrder     int64\n",
       "  ReorderLevel     int64\n",
       "  Discontinued     !string\n",
       "}"
      ]
     },
     "execution_count": 29,
     "metadata": {},
     "output_type": "execute_result"
    }
   ],
   "source": [
    "# DEVUELVE EL TIPO DE CADA CAMPO \n",
    "\n",
    "products.schema()"
   ]
  },
  {
   "cell_type": "code",
   "execution_count": 30,
   "metadata": {},
   "outputs": [
    {
     "data": {
      "text/html": [
       "<pre style=\"white-space:pre;overflow-x:auto;line-height:normal;font-family:Menlo,'DejaVu Sans Mono',consolas,'Courier New',monospace\">┏━━━━━━━━━━━┳━━━━━━━━━━━━━━━━━━━━━━━━━━━━━━┓\n",
       "┃<span style=\"font-weight: bold\"> ProductID </span>┃<span style=\"font-weight: bold\"> ProductName                  </span>┃\n",
       "┡━━━━━━━━━━━╇━━━━━━━━━━━━━━━━━━━━━━━━━━━━━━┩\n",
       "│ <span style=\"color: #7f7f7f; text-decoration-color: #7f7f7f\">!int64</span>    │ <span style=\"color: #7f7f7f; text-decoration-color: #7f7f7f\">!string</span>                      │\n",
       "├───────────┼──────────────────────────────┤\n",
       "│         <span style=\"color: #008080; text-decoration-color: #008080; font-weight: bold\">1</span> │ <span style=\"color: #008000; text-decoration-color: #008000\">Chai                        </span> │\n",
       "│         <span style=\"color: #008080; text-decoration-color: #008080; font-weight: bold\">2</span> │ <span style=\"color: #008000; text-decoration-color: #008000\">Chang                       </span> │\n",
       "│         <span style=\"color: #008080; text-decoration-color: #008080; font-weight: bold\">3</span> │ <span style=\"color: #008000; text-decoration-color: #008000\">Aniseed Syrup               </span> │\n",
       "│         <span style=\"color: #008080; text-decoration-color: #008080; font-weight: bold\">4</span> │ <span style=\"color: #008000; text-decoration-color: #008000\">Chef Anton's Cajun Seasoning</span> │\n",
       "│         <span style=\"color: #008080; text-decoration-color: #008080; font-weight: bold\">5</span> │ <span style=\"color: #008000; text-decoration-color: #008000\">Chef Anton's Gumbo Mix      </span> │\n",
       "└───────────┴──────────────────────────────┘\n",
       "</pre>\n"
      ],
      "text/plain": [
       "┏━━━━━━━━━━━┳━━━━━━━━━━━━━━━━━━━━━━━━━━━━━━┓\n",
       "┃\u001b[1m \u001b[0m\u001b[1mProductID\u001b[0m\u001b[1m \u001b[0m┃\u001b[1m \u001b[0m\u001b[1mProductName\u001b[0m\u001b[1m                 \u001b[0m\u001b[1m \u001b[0m┃\n",
       "┡━━━━━━━━━━━╇━━━━━━━━━━━━━━━━━━━━━━━━━━━━━━┩\n",
       "│ \u001b[2m!int64\u001b[0m    │ \u001b[2m!string\u001b[0m                      │\n",
       "├───────────┼──────────────────────────────┤\n",
       "│         \u001b[1;36m1\u001b[0m │ \u001b[32mChai                        \u001b[0m │\n",
       "│         \u001b[1;36m2\u001b[0m │ \u001b[32mChang                       \u001b[0m │\n",
       "│         \u001b[1;36m3\u001b[0m │ \u001b[32mAniseed Syrup               \u001b[0m │\n",
       "│         \u001b[1;36m4\u001b[0m │ \u001b[32mChef Anton's Cajun Seasoning\u001b[0m │\n",
       "│         \u001b[1;36m5\u001b[0m │ \u001b[32mChef Anton's Gumbo Mix      \u001b[0m │\n",
       "└───────────┴──────────────────────────────┘"
      ]
     },
     "execution_count": 30,
     "metadata": {},
     "output_type": "execute_result"
    }
   ],
   "source": [
    "# DEVUELVE LOS CINCO PRIMEROS DATOS DE LOS CAMPOS 'ProductID' Y 'ProductName' \n",
    "\n",
    "products[[\"ProductID\",\"ProductName\"]].head(5) "
   ]
  },
  {
   "cell_type": "code",
   "execution_count": 65,
   "metadata": {},
   "outputs": [
    {
     "data": {
      "text/html": [
       "<pre style=\"white-space:pre;overflow-x:auto;line-height:normal;font-family:Menlo,'DejaVu Sans Mono',consolas,'Courier New',monospace\">r0 := DatabaseTable: Products\n",
       "  ProductID       !int64\n",
       "  ProductName     !string\n",
       "  SupplierID      int64\n",
       "  CategoryID      int64\n",
       "  QuantityPerUnit string\n",
       "  UnitPrice       decimal\n",
       "  UnitsInStock    int64\n",
       "  UnitsOnOrder    int64\n",
       "  ReorderLevel    int64\n",
       "  Discontinued    !string\n",
       "\n",
       "r1 := Project[r0]\n",
       "  ProductID:   r0.ProductID\n",
       "  ProductName: r0.ProductName\n",
       "\n",
       "Limit[r1, n=5]\n",
       "</pre>\n"
      ],
      "text/plain": [
       "r0 := DatabaseTable: Products\n",
       "  ProductID       !int64\n",
       "  ProductName     !string\n",
       "  SupplierID      int64\n",
       "  CategoryID      int64\n",
       "  QuantityPerUnit string\n",
       "  UnitPrice       decimal\n",
       "  UnitsInStock    int64\n",
       "  UnitsOnOrder    int64\n",
       "  ReorderLevel    int64\n",
       "  Discontinued    !string\n",
       "\n",
       "r1 := Project[r0]\n",
       "  ProductID:   r0.ProductID\n",
       "  ProductName: r0.ProductName\n",
       "\n",
       "Limit[r1, n=5]"
      ]
     },
     "execution_count": 65,
     "metadata": {},
     "output_type": "execute_result"
    }
   ],
   "source": [
    "ibis.options.interactive = False \n",
    "\n",
    "products[[\"ProductID\", \"ProductName\"]].head(5) # MUESTRA LA SQL QUE ESTÁ LANZANDO LA BASE DE DATOS, YA NO MUESTRA LOS DATOS PORQUE ELIMINÉ LA INTERACCIÓN 'ibis.options.interactive = 'false''"
   ]
  },
  {
   "cell_type": "code",
   "execution_count": 32,
   "metadata": {},
   "outputs": [
    {
     "data": {
      "text/markdown": [
       "```sql\n",
       "SELECT\n",
       "  \"t0\".\"ProductID\",\n",
       "  \"t0\".\"ProductName\"\n",
       "FROM \"Products\" AS \"t0\"\n",
       "LIMIT 5\n",
       "```"
      ],
      "text/plain": [
       "\u001b[34mSELECT\u001b[39;49;00m\u001b[37m\u001b[39;49;00m\n",
       "\u001b[37m  \u001b[39;49;00m\u001b[33m\"t0\"\u001b[39;49;00m.\u001b[33m\"ProductID\"\u001b[39;49;00m,\u001b[37m\u001b[39;49;00m\n",
       "\u001b[37m  \u001b[39;49;00m\u001b[33m\"t0\"\u001b[39;49;00m.\u001b[33m\"ProductName\"\u001b[39;49;00m\u001b[37m\u001b[39;49;00m\n",
       "\u001b[34mFROM\u001b[39;49;00m\u001b[37m \u001b[39;49;00m\u001b[33m\"Products\"\u001b[39;49;00m\u001b[37m \u001b[39;49;00m\u001b[34mAS\u001b[39;49;00m\u001b[37m \u001b[39;49;00m\u001b[33m\"t0\"\u001b[39;49;00m\u001b[37m\u001b[39;49;00m\n",
       "\u001b[34mLIMIT\u001b[39;49;00m\u001b[37m \u001b[39;49;00m\u001b[34m5\u001b[39;49;00m\u001b[37m\u001b[39;49;00m"
      ]
     },
     "execution_count": 32,
     "metadata": {},
     "output_type": "execute_result"
    }
   ],
   "source": [
    "# CUANDO NO SE ESTÁ INTERACTUANDO CON LA BASE DE DATOS, CUANDO YO INGRESO INSTRUCCIONES DE COMANDOS EN PANDAS, IBIS LO DEVUELVE O CONVIERTE A CONSULTAS DEL TIPO 'SQL' \n",
    "\n",
    "ibis.to_sql(products[[\"ProductID\", \"ProductName\"]].head(5)) "
   ]
  },
  {
   "cell_type": "markdown",
   "metadata": {},
   "source": [
    "Pasamos a Pandas (en nuestra máquina) "
   ]
  },
  {
   "cell_type": "code",
   "execution_count": 39,
   "metadata": {},
   "outputs": [],
   "source": [
    "category_df = joined_products.select([\"CategoryName\", \"ProductName\"]).to_pandas() # 'to_pandas() TRAE LA CONSULTA A UN DATAFRAME DE PANDAS \n",
    "category_df.rename(columns={\"ProductName\": \"Product\"}, inplace=True) # EL CAMPO 'ProductName' LO RENOMBRA COMO 'Product' \n",
    "category_df.set_index(\"Product\", inplace=True) # ESTABLECE EL INDICE COMO EL CAMPO 'product' "
   ]
  },
  {
   "cell_type": "code",
   "execution_count": 66,
   "metadata": {},
   "outputs": [
    {
     "ename": "AttributeError",
     "evalue": "'function' object has no attribute 'reset_index'",
     "output_type": "error",
     "traceback": [
      "\u001b[1;31m---------------------------------------------------------------------------\u001b[0m",
      "\u001b[1;31mAttributeError\u001b[0m                            Traceback (most recent call last)",
      "Cell \u001b[1;32mIn[66], line 3\u001b[0m\n\u001b[0;32m      1\u001b[0m \u001b[38;5;66;03m# ESTO YA SE EJECUTA EN EL ORDENADOR, NO HAY INTERACCION CON LA BASE DE DATOS \u001b[39;00m\n\u001b[1;32m----> 3\u001b[0m product_profit\u001b[38;5;241m.\u001b[39mreset_index(inplace\u001b[38;5;241m=\u001b[39m\u001b[38;5;28;01mTrue\u001b[39;00m) \n\u001b[0;32m      4\u001b[0m product_profit\u001b[38;5;241m.\u001b[39mset_index(\u001b[38;5;124m\"\u001b[39m\u001b[38;5;124mProduct\u001b[39m\u001b[38;5;124m\"\u001b[39m, inplace\u001b[38;5;241m=\u001b[39m\u001b[38;5;28;01mTrue\u001b[39;00m)\n",
      "\u001b[1;31mAttributeError\u001b[0m: 'function' object has no attribute 'reset_index'"
     ]
    }
   ],
   "source": [
    "# ESTO YA SE EJECUTA EN EL ORDENADOR, NO HAY INTERACCION CON LA BASE DE DATOS \n",
    "\n",
    "product_profit.reset_index(inplace=True) \n",
    "product_profit.set_index(\"Product\", inplace=True) "
   ]
  },
  {
   "cell_type": "code",
   "execution_count": 41,
   "metadata": {},
   "outputs": [
    {
     "data": {
      "text/plain": [
       "<bound method DataFrame.sort_values of                                   meanTotal     stdTotal\n",
       "Product       Region                                    \n",
       "Alice Mutton  British Isles     5179.287313  2787.205289\n",
       "              Central America   3407.300000  1868.169309\n",
       "              Eastern Europe    1425.478261   849.683568\n",
       "              North America    10596.377426  3591.610332\n",
       "              Northern Europe   3048.251908  1684.280592\n",
       "...                                     ...          ...\n",
       "Zaanse koeken Northern Europe    701.004264   441.279471\n",
       "              Scandinavia        541.913043   392.283532\n",
       "              South America     2527.635662   897.178087\n",
       "              Southern Europe   1351.514706   577.580365\n",
       "              Western Europe    4252.961397  1253.503667\n",
       "\n",
       "[693 rows x 2 columns]>"
      ]
     },
     "execution_count": 41,
     "metadata": {},
     "output_type": "execute_result"
    }
   ],
   "source": [
    "# ES UN DATAFRAME DE PANDAS \n",
    "\n",
    "product_profit "
   ]
  },
  {
   "cell_type": "code",
   "execution_count": 67,
   "metadata": {},
   "outputs": [
    {
     "ename": "TypeError",
     "evalue": "'method' object is not iterable",
     "output_type": "error",
     "traceback": [
      "\u001b[1;31m---------------------------------------------------------------------------\u001b[0m",
      "\u001b[1;31mTypeError\u001b[0m                                 Traceback (most recent call last)",
      "\u001b[1;32m~\\AppData\\Local\\Temp\\ipykernel_1088\\3707783369.py\u001b[0m in \u001b[0;36m?\u001b[1;34m()\u001b[0m\n\u001b[1;32m----> 1\u001b[1;33m \u001b[0mcategory_df\u001b[0m\u001b[1;33m.\u001b[0m\u001b[0mjoin\u001b[0m\u001b[1;33m(\u001b[0m\u001b[0mproduct_profit\u001b[0m\u001b[1;33m)\u001b[0m\u001b[1;33m.\u001b[0m\u001b[0msort_values\u001b[0m\u001b[1;33m(\u001b[0m\u001b[1;34m\"meanTotal\"\u001b[0m\u001b[1;33m,\u001b[0m \u001b[0mascending\u001b[0m\u001b[1;33m=\u001b[0m\u001b[1;32mFalse\u001b[0m\u001b[1;33m)\u001b[0m\u001b[1;33m.\u001b[0m\u001b[0mhead\u001b[0m\u001b[1;33m(\u001b[0m\u001b[1;36m10\u001b[0m\u001b[1;33m)\u001b[0m\u001b[1;33m\u001b[0m\u001b[1;33m\u001b[0m\u001b[0m\n\u001b[0m",
      "\u001b[1;32mc:\\Users\\rodri\\anaconda3\\Lib\\site-packages\\pandas\\core\\frame.py\u001b[0m in \u001b[0;36m?\u001b[1;34m(self, other, on, how, lsuffix, rsuffix, sort, validate)\u001b[0m\n\u001b[0;32m  10434\u001b[0m             \u001b[1;31m# Mypy thinks the RHS is a\u001b[0m\u001b[1;33m\u001b[0m\u001b[1;33m\u001b[0m\u001b[0m\n\u001b[0;32m  10435\u001b[0m             \u001b[1;31m# \"Union[DataFrame, Series, Iterable[Union[DataFrame, Series]]]\" whereas\u001b[0m\u001b[1;33m\u001b[0m\u001b[1;33m\u001b[0m\u001b[0m\n\u001b[0;32m  10436\u001b[0m             \u001b[1;31m# the LHS is an \"Iterable[DataFrame]\", but in reality both types are\u001b[0m\u001b[1;33m\u001b[0m\u001b[1;33m\u001b[0m\u001b[0m\n\u001b[0;32m  10437\u001b[0m             \u001b[1;31m# \"Iterable[Union[DataFrame, Series]]\" due to the if statements\u001b[0m\u001b[1;33m\u001b[0m\u001b[1;33m\u001b[0m\u001b[0m\n\u001b[1;32m> 10438\u001b[1;33m             \u001b[0mframes\u001b[0m \u001b[1;33m=\u001b[0m \u001b[1;33m[\u001b[0m\u001b[0mcast\u001b[0m\u001b[1;33m(\u001b[0m\u001b[1;34m\"DataFrame | Series\"\u001b[0m\u001b[1;33m,\u001b[0m \u001b[0mself\u001b[0m\u001b[1;33m)\u001b[0m\u001b[1;33m]\u001b[0m \u001b[1;33m+\u001b[0m \u001b[0mlist\u001b[0m\u001b[1;33m(\u001b[0m\u001b[0mother\u001b[0m\u001b[1;33m)\u001b[0m\u001b[1;33m\u001b[0m\u001b[1;33m\u001b[0m\u001b[0m\n\u001b[0m\u001b[0;32m  10439\u001b[0m \u001b[1;33m\u001b[0m\u001b[0m\n\u001b[0;32m  10440\u001b[0m             \u001b[0mcan_concat\u001b[0m \u001b[1;33m=\u001b[0m \u001b[0mall\u001b[0m\u001b[1;33m(\u001b[0m\u001b[0mdf\u001b[0m\u001b[1;33m.\u001b[0m\u001b[0mindex\u001b[0m\u001b[1;33m.\u001b[0m\u001b[0mis_unique\u001b[0m \u001b[1;32mfor\u001b[0m \u001b[0mdf\u001b[0m \u001b[1;32min\u001b[0m \u001b[0mframes\u001b[0m\u001b[1;33m)\u001b[0m\u001b[1;33m\u001b[0m\u001b[1;33m\u001b[0m\u001b[0m\n\u001b[0;32m  10441\u001b[0m \u001b[1;33m\u001b[0m\u001b[0m\n",
      "\u001b[1;31mTypeError\u001b[0m: 'method' object is not iterable"
     ]
    }
   ],
   "source": [
    "category_df.join(product_profit).sort_values(\"meanTotal\", ascending=False).head(10) "
   ]
  },
  {
   "cell_type": "code",
   "execution_count": 43,
   "metadata": {},
   "outputs": [
    {
     "data": {
      "text/plain": [
       "pandas.core.frame.DataFrame"
      ]
     },
     "execution_count": 43,
     "metadata": {},
     "output_type": "execute_result"
    }
   ],
   "source": [
    "type(category_df) "
   ]
  },
  {
   "cell_type": "code",
   "execution_count": 44,
   "metadata": {},
   "outputs": [
    {
     "data": {
      "text/plain": [
       "ibis.expr.types.joins.Join"
      ]
     },
     "execution_count": 44,
     "metadata": {},
     "output_type": "execute_result"
    }
   ],
   "source": [
    "type(joined_products) "
   ]
  },
  {
   "cell_type": "code",
   "execution_count": 45,
   "metadata": {},
   "outputs": [
    {
     "data": {
      "text/markdown": [
       "```sql\n",
       "SELECT\n",
       "  \"t2\".\"CategoryID\",\n",
       "  \"t2\".\"CategoryName\",\n",
       "  \"t2\".\"Description\",\n",
       "  \"t2\".\"Picture\",\n",
       "  \"t3\".\"ProductID\",\n",
       "  \"t3\".\"ProductName\",\n",
       "  \"t3\".\"SupplierID\",\n",
       "  \"t3\".\"QuantityPerUnit\",\n",
       "  \"t3\".\"UnitPrice\",\n",
       "  \"t3\".\"UnitsInStock\",\n",
       "  \"t3\".\"UnitsOnOrder\",\n",
       "  \"t3\".\"ReorderLevel\",\n",
       "  \"t3\".\"Discontinued\"\n",
       "FROM \"Categories\" AS \"t2\"\n",
       "INNER JOIN \"Products\" AS \"t3\"\n",
       "  ON \"t2\".\"CategoryID\" = \"t3\".\"CategoryID\"\n",
       "```"
      ],
      "text/plain": [
       "\u001b[34mSELECT\u001b[39;49;00m\u001b[37m\u001b[39;49;00m\n",
       "\u001b[37m  \u001b[39;49;00m\u001b[33m\"t2\"\u001b[39;49;00m.\u001b[33m\"CategoryID\"\u001b[39;49;00m,\u001b[37m\u001b[39;49;00m\n",
       "\u001b[37m  \u001b[39;49;00m\u001b[33m\"t2\"\u001b[39;49;00m.\u001b[33m\"CategoryName\"\u001b[39;49;00m,\u001b[37m\u001b[39;49;00m\n",
       "\u001b[37m  \u001b[39;49;00m\u001b[33m\"t2\"\u001b[39;49;00m.\u001b[33m\"Description\"\u001b[39;49;00m,\u001b[37m\u001b[39;49;00m\n",
       "\u001b[37m  \u001b[39;49;00m\u001b[33m\"t2\"\u001b[39;49;00m.\u001b[33m\"Picture\"\u001b[39;49;00m,\u001b[37m\u001b[39;49;00m\n",
       "\u001b[37m  \u001b[39;49;00m\u001b[33m\"t3\"\u001b[39;49;00m.\u001b[33m\"ProductID\"\u001b[39;49;00m,\u001b[37m\u001b[39;49;00m\n",
       "\u001b[37m  \u001b[39;49;00m\u001b[33m\"t3\"\u001b[39;49;00m.\u001b[33m\"ProductName\"\u001b[39;49;00m,\u001b[37m\u001b[39;49;00m\n",
       "\u001b[37m  \u001b[39;49;00m\u001b[33m\"t3\"\u001b[39;49;00m.\u001b[33m\"SupplierID\"\u001b[39;49;00m,\u001b[37m\u001b[39;49;00m\n",
       "\u001b[37m  \u001b[39;49;00m\u001b[33m\"t3\"\u001b[39;49;00m.\u001b[33m\"QuantityPerUnit\"\u001b[39;49;00m,\u001b[37m\u001b[39;49;00m\n",
       "\u001b[37m  \u001b[39;49;00m\u001b[33m\"t3\"\u001b[39;49;00m.\u001b[33m\"UnitPrice\"\u001b[39;49;00m,\u001b[37m\u001b[39;49;00m\n",
       "\u001b[37m  \u001b[39;49;00m\u001b[33m\"t3\"\u001b[39;49;00m.\u001b[33m\"UnitsInStock\"\u001b[39;49;00m,\u001b[37m\u001b[39;49;00m\n",
       "\u001b[37m  \u001b[39;49;00m\u001b[33m\"t3\"\u001b[39;49;00m.\u001b[33m\"UnitsOnOrder\"\u001b[39;49;00m,\u001b[37m\u001b[39;49;00m\n",
       "\u001b[37m  \u001b[39;49;00m\u001b[33m\"t3\"\u001b[39;49;00m.\u001b[33m\"ReorderLevel\"\u001b[39;49;00m,\u001b[37m\u001b[39;49;00m\n",
       "\u001b[37m  \u001b[39;49;00m\u001b[33m\"t3\"\u001b[39;49;00m.\u001b[33m\"Discontinued\"\u001b[39;49;00m\u001b[37m\u001b[39;49;00m\n",
       "\u001b[34mFROM\u001b[39;49;00m\u001b[37m \u001b[39;49;00m\u001b[33m\"Categories\"\u001b[39;49;00m\u001b[37m \u001b[39;49;00m\u001b[34mAS\u001b[39;49;00m\u001b[37m \u001b[39;49;00m\u001b[33m\"t2\"\u001b[39;49;00m\u001b[37m\u001b[39;49;00m\n",
       "\u001b[34mINNER\u001b[39;49;00m\u001b[37m \u001b[39;49;00m\u001b[34mJOIN\u001b[39;49;00m\u001b[37m \u001b[39;49;00m\u001b[33m\"Products\"\u001b[39;49;00m\u001b[37m \u001b[39;49;00m\u001b[34mAS\u001b[39;49;00m\u001b[37m \u001b[39;49;00m\u001b[33m\"t3\"\u001b[39;49;00m\u001b[37m\u001b[39;49;00m\n",
       "\u001b[37m  \u001b[39;49;00m\u001b[34mON\u001b[39;49;00m\u001b[37m \u001b[39;49;00m\u001b[33m\"t2\"\u001b[39;49;00m.\u001b[33m\"CategoryID\"\u001b[39;49;00m\u001b[37m \u001b[39;49;00m=\u001b[37m \u001b[39;49;00m\u001b[33m\"t3\"\u001b[39;49;00m.\u001b[33m\"CategoryID\"\u001b[39;49;00m\u001b[37m\u001b[39;49;00m"
      ]
     },
     "execution_count": 45,
     "metadata": {},
     "output_type": "execute_result"
    }
   ],
   "source": [
    "# LO CONVIERTE A CONSULTAS DEL TIPO SQL \n",
    "\n",
    "ibis.to_sql(joined_products) "
   ]
  },
  {
   "cell_type": "code",
   "execution_count": 68,
   "metadata": {},
   "outputs": [
    {
     "ename": "KeyError",
     "evalue": "<Type.DATETIME: 'DATETIME'>",
     "output_type": "error",
     "traceback": [
      "\u001b[1;31m---------------------------------------------------------------------------\u001b[0m",
      "\u001b[1;31mKeyError\u001b[0m                                  Traceback (most recent call last)",
      "File \u001b[1;32mc:\\Users\\rodri\\anaconda3\\Lib\\site-packages\\ibis\\backends\\sqlite\\__init__.py:168\u001b[0m, in \u001b[0;36mBackend._parse_type\u001b[1;34m(self, typ, nullable)\u001b[0m\n\u001b[0;32m    167\u001b[0m \u001b[38;5;28;01mtry\u001b[39;00m:\n\u001b[1;32m--> 168\u001b[0m     out \u001b[38;5;241m=\u001b[39m \u001b[38;5;28mself\u001b[39m\u001b[38;5;241m.\u001b[39m_type_map[typ]\n\u001b[0;32m    169\u001b[0m \u001b[38;5;28;01mexcept\u001b[39;00m \u001b[38;5;167;01mKeyError\u001b[39;00m:\n",
      "\u001b[1;31mKeyError\u001b[0m: 'datetime'",
      "\nDuring handling of the above exception, another exception occurred:\n",
      "\u001b[1;31mKeyError\u001b[0m                                  Traceback (most recent call last)",
      "Cell \u001b[1;32mIn[68], line 1\u001b[0m\n\u001b[1;32m----> 1\u001b[0m con\u001b[38;5;241m.\u001b[39mtable(\u001b[38;5;124m\"\u001b[39m\u001b[38;5;124mOrders\u001b[39m\u001b[38;5;124m\"\u001b[39m)\n",
      "File \u001b[1;32mc:\\Users\\rodri\\anaconda3\\Lib\\site-packages\\ibis\\backends\\sql\\__init__.py:137\u001b[0m, in \u001b[0;36mSQLBackend.table\u001b[1;34m(self, name, schema, database)\u001b[0m\n\u001b[0;32m    134\u001b[0m     catalog \u001b[38;5;241m=\u001b[39m table_loc\u001b[38;5;241m.\u001b[39mcatalog \u001b[38;5;129;01mor\u001b[39;00m \u001b[38;5;28;01mNone\u001b[39;00m\n\u001b[0;32m    135\u001b[0m     database \u001b[38;5;241m=\u001b[39m table_loc\u001b[38;5;241m.\u001b[39mdb \u001b[38;5;129;01mor\u001b[39;00m \u001b[38;5;28;01mNone\u001b[39;00m\n\u001b[1;32m--> 137\u001b[0m table_schema \u001b[38;5;241m=\u001b[39m \u001b[38;5;28mself\u001b[39m\u001b[38;5;241m.\u001b[39mget_schema(name, catalog\u001b[38;5;241m=\u001b[39mcatalog, database\u001b[38;5;241m=\u001b[39mdatabase)\n\u001b[0;32m    138\u001b[0m \u001b[38;5;28;01mreturn\u001b[39;00m ops\u001b[38;5;241m.\u001b[39mDatabaseTable(\n\u001b[0;32m    139\u001b[0m     name,\n\u001b[0;32m    140\u001b[0m     schema\u001b[38;5;241m=\u001b[39mtable_schema,\n\u001b[0;32m    141\u001b[0m     source\u001b[38;5;241m=\u001b[39m\u001b[38;5;28mself\u001b[39m,\n\u001b[0;32m    142\u001b[0m     namespace\u001b[38;5;241m=\u001b[39mops\u001b[38;5;241m.\u001b[39mNamespace(catalog\u001b[38;5;241m=\u001b[39mcatalog, database\u001b[38;5;241m=\u001b[39mdatabase),\n\u001b[0;32m    143\u001b[0m )\u001b[38;5;241m.\u001b[39mto_expr()\n",
      "File \u001b[1;32mc:\\Users\\rodri\\anaconda3\\Lib\\site-packages\\ibis\\backends\\sqlite\\__init__.py:240\u001b[0m, in \u001b[0;36mBackend.get_schema\u001b[1;34m(self, table_name, catalog, database)\u001b[0m\n\u001b[0;32m    238\u001b[0m     \u001b[38;5;28;01mraise\u001b[39;00m \u001b[38;5;167;01mTypeError\u001b[39;00m(\u001b[38;5;124m\"\u001b[39m\u001b[38;5;124msqlite doesn\u001b[39m\u001b[38;5;124m'\u001b[39m\u001b[38;5;124mt support `catalog`, use `database` instead\u001b[39m\u001b[38;5;124m\"\u001b[39m)\n\u001b[0;32m    239\u001b[0m \u001b[38;5;28;01mwith\u001b[39;00m \u001b[38;5;28mself\u001b[39m\u001b[38;5;241m.\u001b[39mbegin() \u001b[38;5;28;01mas\u001b[39;00m cur:\n\u001b[1;32m--> 240\u001b[0m     \u001b[38;5;28;01mreturn\u001b[39;00m \u001b[38;5;28mself\u001b[39m\u001b[38;5;241m.\u001b[39m_inspect_schema(cur, table_name, database)\n",
      "File \u001b[1;32mc:\\Users\\rodri\\anaconda3\\Lib\\site-packages\\ibis\\backends\\sqlite\\__init__.py:206\u001b[0m, in \u001b[0;36mBackend._inspect_schema\u001b[1;34m(self, cur, table_name, database)\u001b[0m\n\u001b[0;32m    202\u001b[0m     \u001b[38;5;28;01melse\u001b[39;00m:\n\u001b[0;32m    203\u001b[0m         \u001b[38;5;28;01mraise\u001b[39;00m com\u001b[38;5;241m.\u001b[39mIbisError(\u001b[38;5;124mf\u001b[39m\u001b[38;5;124m\"\u001b[39m\u001b[38;5;124mFailed to infer types for columns \u001b[39m\u001b[38;5;132;01m{\u001b[39;00munknown\u001b[38;5;132;01m}\u001b[39;00m\u001b[38;5;124m\"\u001b[39m)\n\u001b[0;32m    205\u001b[0m \u001b[38;5;28;01mreturn\u001b[39;00m sch\u001b[38;5;241m.\u001b[39mSchema(\n\u001b[1;32m--> 206\u001b[0m     {\n\u001b[0;32m    207\u001b[0m         name: \u001b[38;5;28mself\u001b[39m\u001b[38;5;241m.\u001b[39m_parse_type(typ, nullable)\n\u001b[0;32m    208\u001b[0m         \u001b[38;5;28;01mfor\u001b[39;00m name, (typ, nullable) \u001b[38;5;129;01min\u001b[39;00m table_info\u001b[38;5;241m.\u001b[39mitems()\n\u001b[0;32m    209\u001b[0m     }\n\u001b[0;32m    210\u001b[0m )\n",
      "File \u001b[1;32mc:\\Users\\rodri\\anaconda3\\Lib\\site-packages\\ibis\\backends\\sqlite\\__init__.py:207\u001b[0m, in \u001b[0;36m<dictcomp>\u001b[1;34m(.0)\u001b[0m\n\u001b[0;32m    202\u001b[0m     \u001b[38;5;28;01melse\u001b[39;00m:\n\u001b[0;32m    203\u001b[0m         \u001b[38;5;28;01mraise\u001b[39;00m com\u001b[38;5;241m.\u001b[39mIbisError(\u001b[38;5;124mf\u001b[39m\u001b[38;5;124m\"\u001b[39m\u001b[38;5;124mFailed to infer types for columns \u001b[39m\u001b[38;5;132;01m{\u001b[39;00munknown\u001b[38;5;132;01m}\u001b[39;00m\u001b[38;5;124m\"\u001b[39m)\n\u001b[0;32m    205\u001b[0m \u001b[38;5;28;01mreturn\u001b[39;00m sch\u001b[38;5;241m.\u001b[39mSchema(\n\u001b[0;32m    206\u001b[0m     {\n\u001b[1;32m--> 207\u001b[0m         name: \u001b[38;5;28mself\u001b[39m\u001b[38;5;241m.\u001b[39m_parse_type(typ, nullable)\n\u001b[0;32m    208\u001b[0m         \u001b[38;5;28;01mfor\u001b[39;00m name, (typ, nullable) \u001b[38;5;129;01min\u001b[39;00m table_info\u001b[38;5;241m.\u001b[39mitems()\n\u001b[0;32m    209\u001b[0m     }\n\u001b[0;32m    210\u001b[0m )\n",
      "File \u001b[1;32mc:\\Users\\rodri\\anaconda3\\Lib\\site-packages\\ibis\\backends\\sqlite\\__init__.py:170\u001b[0m, in \u001b[0;36mBackend._parse_type\u001b[1;34m(self, typ, nullable)\u001b[0m\n\u001b[0;32m    168\u001b[0m     out \u001b[38;5;241m=\u001b[39m \u001b[38;5;28mself\u001b[39m\u001b[38;5;241m.\u001b[39m_type_map[typ]\n\u001b[0;32m    169\u001b[0m \u001b[38;5;28;01mexcept\u001b[39;00m \u001b[38;5;167;01mKeyError\u001b[39;00m:\n\u001b[1;32m--> 170\u001b[0m     \u001b[38;5;28;01mreturn\u001b[39;00m \u001b[38;5;28mself\u001b[39m\u001b[38;5;241m.\u001b[39mcompiler\u001b[38;5;241m.\u001b[39mtype_mapper\u001b[38;5;241m.\u001b[39mfrom_string(typ, nullable\u001b[38;5;241m=\u001b[39mnullable)\n\u001b[0;32m    171\u001b[0m \u001b[38;5;28;01melse\u001b[39;00m:\n\u001b[0;32m    172\u001b[0m     \u001b[38;5;28;01mreturn\u001b[39;00m out\u001b[38;5;241m.\u001b[39mcopy(nullable\u001b[38;5;241m=\u001b[39mnullable)\n",
      "File \u001b[1;32mc:\\Users\\rodri\\anaconda3\\Lib\\site-packages\\ibis\\backends\\sql\\datatypes.py:196\u001b[0m, in \u001b[0;36mSqlglotType.from_string\u001b[1;34m(cls, text, nullable)\u001b[0m\n\u001b[0;32m    193\u001b[0m     \u001b[38;5;28;01mreturn\u001b[39;00m dtype\n\u001b[0;32m    195\u001b[0m sgtype \u001b[38;5;241m=\u001b[39m sg\u001b[38;5;241m.\u001b[39mparse_one(text, into\u001b[38;5;241m=\u001b[39msge\u001b[38;5;241m.\u001b[39mDataType, read\u001b[38;5;241m=\u001b[39m\u001b[38;5;28mcls\u001b[39m\u001b[38;5;241m.\u001b[39mdialect)\n\u001b[1;32m--> 196\u001b[0m \u001b[38;5;28;01mreturn\u001b[39;00m \u001b[38;5;28mcls\u001b[39m\u001b[38;5;241m.\u001b[39mto_ibis(sgtype, nullable\u001b[38;5;241m=\u001b[39mnullable)\n",
      "File \u001b[1;32mc:\\Users\\rodri\\anaconda3\\Lib\\site-packages\\ibis\\backends\\sql\\datatypes.py:174\u001b[0m, in \u001b[0;36mSqlglotType.to_ibis\u001b[1;34m(cls, typ, nullable)\u001b[0m\n\u001b[0;32m    172\u001b[0m     dtype \u001b[38;5;241m=\u001b[39m method(\u001b[38;5;241m*\u001b[39mtyp\u001b[38;5;241m.\u001b[39mexpressions)\n\u001b[0;32m    173\u001b[0m \u001b[38;5;28;01melse\u001b[39;00m:\n\u001b[1;32m--> 174\u001b[0m     dtype \u001b[38;5;241m=\u001b[39m _from_sqlglot_types[typecode](nullable\u001b[38;5;241m=\u001b[39m\u001b[38;5;28mcls\u001b[39m\u001b[38;5;241m.\u001b[39mdefault_nullable)\n\u001b[0;32m    176\u001b[0m \u001b[38;5;28;01mif\u001b[39;00m nullable \u001b[38;5;129;01mis\u001b[39;00m \u001b[38;5;129;01mnot\u001b[39;00m \u001b[38;5;28;01mNone\u001b[39;00m:\n\u001b[0;32m    177\u001b[0m     \u001b[38;5;28;01mreturn\u001b[39;00m dtype\u001b[38;5;241m.\u001b[39mcopy(nullable\u001b[38;5;241m=\u001b[39mnullable)\n",
      "\u001b[1;31mKeyError\u001b[0m: <Type.DATETIME: 'DATETIME'>"
     ]
    }
   ],
   "source": [
    "con.table(\"Orders\") "
   ]
  },
  {
   "cell_type": "markdown",
   "metadata": {},
   "source": [
    "En este caso estamos obligados a realizar una 'select' explícita para extraer los datos como si fuera texto y procesarlo mediante 'parsers locales'. "
   ]
  },
  {
   "cell_type": "code",
   "execution_count": 47,
   "metadata": {},
   "outputs": [
    {
     "data": {
      "text/html": [
       "<pre style=\"white-space:pre;overflow-x:auto;line-height:normal;font-family:Menlo,'DejaVu Sans Mono',consolas,'Courier New',monospace\">SQLQueryResult\n",
       "  query:\n",
       "    SELECT CAST(OrderDate as Text), OrderID FROM Orders\n",
       "  schema:\n",
       "    CAST(OrderDate as Text) string\n",
       "    OrderID                 int64\n",
       "</pre>\n"
      ],
      "text/plain": [
       "SQLQueryResult\n",
       "  query:\n",
       "    SELECT CAST(OrderDate as Text), OrderID FROM Orders\n",
       "  schema:\n",
       "    CAST(OrderDate as Text) string\n",
       "    OrderID                 int64"
      ]
     },
     "execution_count": 47,
     "metadata": {},
     "output_type": "execute_result"
    }
   ],
   "source": [
    "orders = con.sql(\"SELECT CAST(OrderDate as Text), OrderID FROM Orders\")\n",
    "orders # YA NO TIENE FORMATO 'datetime' QUE ESTABA DANDO ERROR, AHORA TIENE FORMATO 'string' "
   ]
  },
  {
   "cell_type": "code",
   "execution_count": null,
   "metadata": {},
   "outputs": [],
   "source": [
    "# Si no esta en modo interactivo, será necesario el 'to_pandas()' "
   ]
  },
  {
   "cell_type": "code",
   "execution_count": 48,
   "metadata": {},
   "outputs": [
    {
     "data": {
      "text/html": [
       "<pre style=\"white-space:pre;overflow-x:auto;line-height:normal;font-family:Menlo,'DejaVu Sans Mono',consolas,'Courier New',monospace\">r0 := SQLQueryResult\n",
       "  query:\n",
       "    SELECT CAST(OrderDate as Text), OrderID FROM Orders\n",
       "  schema:\n",
       "    CAST(OrderDate as Text) string\n",
       "    OrderID                 int64\n",
       "\n",
       "Limit[r0, n=4]\n",
       "</pre>\n"
      ],
      "text/plain": [
       "r0 := SQLQueryResult\n",
       "  query:\n",
       "    SELECT CAST(OrderDate as Text), OrderID FROM Orders\n",
       "  schema:\n",
       "    CAST(OrderDate as Text) string\n",
       "    OrderID                 int64\n",
       "\n",
       "Limit[r0, n=4]"
      ]
     },
     "execution_count": 48,
     "metadata": {},
     "output_type": "execute_result"
    }
   ],
   "source": [
    "orders.head(4) # DEVUELVE UNA CONSULTA DEL TIPO SQL "
   ]
  },
  {
   "cell_type": "code",
   "execution_count": 49,
   "metadata": {},
   "outputs": [
    {
     "data": {
      "text/html": [
       "<div>\n",
       "<style scoped>\n",
       "    .dataframe tbody tr th:only-of-type {\n",
       "        vertical-align: middle;\n",
       "    }\n",
       "\n",
       "    .dataframe tbody tr th {\n",
       "        vertical-align: top;\n",
       "    }\n",
       "\n",
       "    .dataframe thead th {\n",
       "        text-align: right;\n",
       "    }\n",
       "</style>\n",
       "<table border=\"1\" class=\"dataframe\">\n",
       "  <thead>\n",
       "    <tr style=\"text-align: right;\">\n",
       "      <th></th>\n",
       "      <th>CAST(OrderDate as Text)</th>\n",
       "      <th>OrderID</th>\n",
       "    </tr>\n",
       "  </thead>\n",
       "  <tbody>\n",
       "    <tr>\n",
       "      <th>0</th>\n",
       "      <td>2016-07-04</td>\n",
       "      <td>10248</td>\n",
       "    </tr>\n",
       "    <tr>\n",
       "      <th>1</th>\n",
       "      <td>2016-07-05</td>\n",
       "      <td>10249</td>\n",
       "    </tr>\n",
       "    <tr>\n",
       "      <th>2</th>\n",
       "      <td>2016-07-08</td>\n",
       "      <td>10250</td>\n",
       "    </tr>\n",
       "    <tr>\n",
       "      <th>3</th>\n",
       "      <td>2016-07-08</td>\n",
       "      <td>10251</td>\n",
       "    </tr>\n",
       "  </tbody>\n",
       "</table>\n",
       "</div>"
      ],
      "text/plain": [
       "  CAST(OrderDate as Text)  OrderID\n",
       "0              2016-07-04    10248\n",
       "1              2016-07-05    10249\n",
       "2              2016-07-08    10250\n",
       "3              2016-07-08    10251"
      ]
     },
     "execution_count": 49,
     "metadata": {},
     "output_type": "execute_result"
    }
   ],
   "source": [
    "orders.head(4).to_pandas()  "
   ]
  },
  {
   "cell_type": "code",
   "execution_count": 50,
   "metadata": {},
   "outputs": [
    {
     "data": {
      "text/html": [
       "<pre style=\"white-space:pre;overflow-x:auto;line-height:normal;font-family:Menlo,'DejaVu Sans Mono',consolas,'Courier New',monospace\">DatabaseTable: Order Details\n",
       "  OrderID   !int64\n",
       "  ProductID !int64\n",
       "  UnitPrice !decimal\n",
       "  Quantity  !int64\n",
       "  Discount  !float64\n",
       "</pre>\n"
      ],
      "text/plain": [
       "DatabaseTable: Order Details\n",
       "  OrderID   !int64\n",
       "  ProductID !int64\n",
       "  UnitPrice !decimal\n",
       "  Quantity  !int64\n",
       "  Discount  !float64"
      ]
     },
     "execution_count": 50,
     "metadata": {},
     "output_type": "execute_result"
    }
   ],
   "source": [
    "order_details = con.table(\"Order Details\") \n",
    "order_details # DEVUELVE LOS TIPOS DE DATOS QUE CONTIENE LA TABLA "
   ]
  },
  {
   "cell_type": "code",
   "execution_count": 51,
   "metadata": {},
   "outputs": [
    {
     "data": {
      "text/markdown": [
       "```sql\n",
       "SELECT\n",
       "  \"t4\".\"CAST(OrderDate as Text)\",\n",
       "  \"t4\".\"OrderID\",\n",
       "  \"t5\".\"ProductID\",\n",
       "  \"t5\".\"UnitPrice\",\n",
       "  \"t5\".\"Quantity\",\n",
       "  \"t5\".\"Discount\",\n",
       "  \"t6\".\"ProductName\",\n",
       "  \"t6\".\"SupplierID\",\n",
       "  \"t6\".\"CategoryID\",\n",
       "  \"t6\".\"QuantityPerUnit\",\n",
       "  \"t6\".\"UnitPrice\" AS \"UnitPrice_right\",\n",
       "  \"t6\".\"UnitsInStock\",\n",
       "  \"t6\".\"UnitsOnOrder\",\n",
       "  \"t6\".\"ReorderLevel\",\n",
       "  \"t6\".\"Discontinued\",\n",
       "  \"t7\".\"CategoryName\",\n",
       "  \"t7\".\"Description\",\n",
       "  \"t7\".\"Picture\"\n",
       "FROM (\n",
       "  SELECT\n",
       "    CAST(OrderDate AS TEXT),\n",
       "    OrderID\n",
       "  FROM Orders\n",
       ") AS \"t4\"\n",
       "INNER JOIN \"Order Details\" AS \"t5\"\n",
       "  ON \"t4\".\"OrderID\" = \"t5\".\"OrderID\"\n",
       "INNER JOIN \"Products\" AS \"t6\"\n",
       "  ON \"t5\".\"ProductID\" = \"t6\".\"ProductID\"\n",
       "INNER JOIN \"Categories\" AS \"t7\"\n",
       "  ON \"t6\".\"CategoryID\" = \"t7\".\"CategoryID\"\n",
       "```"
      ],
      "text/plain": [
       "\u001b[34mSELECT\u001b[39;49;00m\u001b[37m\u001b[39;49;00m\n",
       "\u001b[37m  \u001b[39;49;00m\u001b[33m\"t4\"\u001b[39;49;00m.\u001b[33m\"CAST(OrderDate as Text)\"\u001b[39;49;00m,\u001b[37m\u001b[39;49;00m\n",
       "\u001b[37m  \u001b[39;49;00m\u001b[33m\"t4\"\u001b[39;49;00m.\u001b[33m\"OrderID\"\u001b[39;49;00m,\u001b[37m\u001b[39;49;00m\n",
       "\u001b[37m  \u001b[39;49;00m\u001b[33m\"t5\"\u001b[39;49;00m.\u001b[33m\"ProductID\"\u001b[39;49;00m,\u001b[37m\u001b[39;49;00m\n",
       "\u001b[37m  \u001b[39;49;00m\u001b[33m\"t5\"\u001b[39;49;00m.\u001b[33m\"UnitPrice\"\u001b[39;49;00m,\u001b[37m\u001b[39;49;00m\n",
       "\u001b[37m  \u001b[39;49;00m\u001b[33m\"t5\"\u001b[39;49;00m.\u001b[33m\"Quantity\"\u001b[39;49;00m,\u001b[37m\u001b[39;49;00m\n",
       "\u001b[37m  \u001b[39;49;00m\u001b[33m\"t5\"\u001b[39;49;00m.\u001b[33m\"Discount\"\u001b[39;49;00m,\u001b[37m\u001b[39;49;00m\n",
       "\u001b[37m  \u001b[39;49;00m\u001b[33m\"t6\"\u001b[39;49;00m.\u001b[33m\"ProductName\"\u001b[39;49;00m,\u001b[37m\u001b[39;49;00m\n",
       "\u001b[37m  \u001b[39;49;00m\u001b[33m\"t6\"\u001b[39;49;00m.\u001b[33m\"SupplierID\"\u001b[39;49;00m,\u001b[37m\u001b[39;49;00m\n",
       "\u001b[37m  \u001b[39;49;00m\u001b[33m\"t6\"\u001b[39;49;00m.\u001b[33m\"CategoryID\"\u001b[39;49;00m,\u001b[37m\u001b[39;49;00m\n",
       "\u001b[37m  \u001b[39;49;00m\u001b[33m\"t6\"\u001b[39;49;00m.\u001b[33m\"QuantityPerUnit\"\u001b[39;49;00m,\u001b[37m\u001b[39;49;00m\n",
       "\u001b[37m  \u001b[39;49;00m\u001b[33m\"t6\"\u001b[39;49;00m.\u001b[33m\"UnitPrice\"\u001b[39;49;00m\u001b[37m \u001b[39;49;00m\u001b[34mAS\u001b[39;49;00m\u001b[37m \u001b[39;49;00m\u001b[33m\"UnitPrice_right\"\u001b[39;49;00m,\u001b[37m\u001b[39;49;00m\n",
       "\u001b[37m  \u001b[39;49;00m\u001b[33m\"t6\"\u001b[39;49;00m.\u001b[33m\"UnitsInStock\"\u001b[39;49;00m,\u001b[37m\u001b[39;49;00m\n",
       "\u001b[37m  \u001b[39;49;00m\u001b[33m\"t6\"\u001b[39;49;00m.\u001b[33m\"UnitsOnOrder\"\u001b[39;49;00m,\u001b[37m\u001b[39;49;00m\n",
       "\u001b[37m  \u001b[39;49;00m\u001b[33m\"t6\"\u001b[39;49;00m.\u001b[33m\"ReorderLevel\"\u001b[39;49;00m,\u001b[37m\u001b[39;49;00m\n",
       "\u001b[37m  \u001b[39;49;00m\u001b[33m\"t6\"\u001b[39;49;00m.\u001b[33m\"Discontinued\"\u001b[39;49;00m,\u001b[37m\u001b[39;49;00m\n",
       "\u001b[37m  \u001b[39;49;00m\u001b[33m\"t7\"\u001b[39;49;00m.\u001b[33m\"CategoryName\"\u001b[39;49;00m,\u001b[37m\u001b[39;49;00m\n",
       "\u001b[37m  \u001b[39;49;00m\u001b[33m\"t7\"\u001b[39;49;00m.\u001b[33m\"Description\"\u001b[39;49;00m,\u001b[37m\u001b[39;49;00m\n",
       "\u001b[37m  \u001b[39;49;00m\u001b[33m\"t7\"\u001b[39;49;00m.\u001b[33m\"Picture\"\u001b[39;49;00m\u001b[37m\u001b[39;49;00m\n",
       "\u001b[34mFROM\u001b[39;49;00m\u001b[37m \u001b[39;49;00m(\u001b[37m\u001b[39;49;00m\n",
       "\u001b[37m  \u001b[39;49;00m\u001b[34mSELECT\u001b[39;49;00m\u001b[37m\u001b[39;49;00m\n",
       "\u001b[37m    \u001b[39;49;00m\u001b[34mCAST\u001b[39;49;00m(OrderDate\u001b[37m \u001b[39;49;00m\u001b[34mAS\u001b[39;49;00m\u001b[37m \u001b[39;49;00m\u001b[36mTEXT\u001b[39;49;00m),\u001b[37m\u001b[39;49;00m\n",
       "\u001b[37m    \u001b[39;49;00mOrderID\u001b[37m\u001b[39;49;00m\n",
       "\u001b[37m  \u001b[39;49;00m\u001b[34mFROM\u001b[39;49;00m\u001b[37m \u001b[39;49;00mOrders\u001b[37m\u001b[39;49;00m\n",
       ")\u001b[37m \u001b[39;49;00m\u001b[34mAS\u001b[39;49;00m\u001b[37m \u001b[39;49;00m\u001b[33m\"t4\"\u001b[39;49;00m\u001b[37m\u001b[39;49;00m\n",
       "\u001b[34mINNER\u001b[39;49;00m\u001b[37m \u001b[39;49;00m\u001b[34mJOIN\u001b[39;49;00m\u001b[37m \u001b[39;49;00m\u001b[33m\"Order Details\"\u001b[39;49;00m\u001b[37m \u001b[39;49;00m\u001b[34mAS\u001b[39;49;00m\u001b[37m \u001b[39;49;00m\u001b[33m\"t5\"\u001b[39;49;00m\u001b[37m\u001b[39;49;00m\n",
       "\u001b[37m  \u001b[39;49;00m\u001b[34mON\u001b[39;49;00m\u001b[37m \u001b[39;49;00m\u001b[33m\"t4\"\u001b[39;49;00m.\u001b[33m\"OrderID\"\u001b[39;49;00m\u001b[37m \u001b[39;49;00m=\u001b[37m \u001b[39;49;00m\u001b[33m\"t5\"\u001b[39;49;00m.\u001b[33m\"OrderID\"\u001b[39;49;00m\u001b[37m\u001b[39;49;00m\n",
       "\u001b[34mINNER\u001b[39;49;00m\u001b[37m \u001b[39;49;00m\u001b[34mJOIN\u001b[39;49;00m\u001b[37m \u001b[39;49;00m\u001b[33m\"Products\"\u001b[39;49;00m\u001b[37m \u001b[39;49;00m\u001b[34mAS\u001b[39;49;00m\u001b[37m \u001b[39;49;00m\u001b[33m\"t6\"\u001b[39;49;00m\u001b[37m\u001b[39;49;00m\n",
       "\u001b[37m  \u001b[39;49;00m\u001b[34mON\u001b[39;49;00m\u001b[37m \u001b[39;49;00m\u001b[33m\"t5\"\u001b[39;49;00m.\u001b[33m\"ProductID\"\u001b[39;49;00m\u001b[37m \u001b[39;49;00m=\u001b[37m \u001b[39;49;00m\u001b[33m\"t6\"\u001b[39;49;00m.\u001b[33m\"ProductID\"\u001b[39;49;00m\u001b[37m\u001b[39;49;00m\n",
       "\u001b[34mINNER\u001b[39;49;00m\u001b[37m \u001b[39;49;00m\u001b[34mJOIN\u001b[39;49;00m\u001b[37m \u001b[39;49;00m\u001b[33m\"Categories\"\u001b[39;49;00m\u001b[37m \u001b[39;49;00m\u001b[34mAS\u001b[39;49;00m\u001b[37m \u001b[39;49;00m\u001b[33m\"t7\"\u001b[39;49;00m\u001b[37m\u001b[39;49;00m\n",
       "\u001b[37m  \u001b[39;49;00m\u001b[34mON\u001b[39;49;00m\u001b[37m \u001b[39;49;00m\u001b[33m\"t6\"\u001b[39;49;00m.\u001b[33m\"CategoryID\"\u001b[39;49;00m\u001b[37m \u001b[39;49;00m=\u001b[37m \u001b[39;49;00m\u001b[33m\"t7\"\u001b[39;49;00m.\u001b[33m\"CategoryID\"\u001b[39;49;00m\u001b[37m\u001b[39;49;00m"
      ]
     },
     "execution_count": 51,
     "metadata": {},
     "output_type": "execute_result"
    }
   ],
   "source": [
    "p_o_details = orders.join(order_details, [\"OrderID\"], how=\"inner\").join(products, [\"ProductID\"]).join(categories, [\"CategoryID\"])\n",
    "ibis.to_sql(p_o_details)  "
   ]
  },
  {
   "cell_type": "code",
   "execution_count": 52,
   "metadata": {},
   "outputs": [
    {
     "data": {
      "text/html": [
       "<pre style=\"white-space:pre;overflow-x:auto;line-height:normal;font-family:Menlo,'DejaVu Sans Mono',consolas,'Courier New',monospace\">r0 := SQLQueryResult\n",
       "  query:\n",
       "    SELECT CAST(OrderDate as Text), OrderID FROM Orders\n",
       "  schema:\n",
       "    CAST(OrderDate as Text) string\n",
       "    OrderID                 int64\n",
       "\n",
       "r1 := DatabaseTable: Order Details\n",
       "  OrderID   !int64\n",
       "  ProductID !int64\n",
       "  UnitPrice !decimal\n",
       "  Quantity  !int64\n",
       "  Discount  !float64\n",
       "\n",
       "r2 := DatabaseTable: Products\n",
       "  ProductID       !int64\n",
       "  ProductName     !string\n",
       "  SupplierID      int64\n",
       "  CategoryID      int64\n",
       "  QuantityPerUnit string\n",
       "  UnitPrice       decimal\n",
       "  UnitsInStock    int64\n",
       "  UnitsOnOrder    int64\n",
       "  ReorderLevel    int64\n",
       "  Discontinued    !string\n",
       "\n",
       "r3 := DatabaseTable: Categories\n",
       "  CategoryID   int64\n",
       "  CategoryName string\n",
       "  Description  string\n",
       "  Picture      binary\n",
       "\n",
       "r4 := JoinChain[r0]\n",
       "  JoinLink[inner, r1]\n",
       "    r0.OrderID == r1.OrderID\n",
       "  JoinLink[inner, r2]\n",
       "    r1.ProductID == r2.ProductID\n",
       "  JoinLink[inner, r3]\n",
       "    r2.CategoryID == r3.CategoryID\n",
       "  values:\n",
       "    CAST(OrderDate as Text): r0['CAST(OrderDate as Text)']\n",
       "    OrderID:                 r0.OrderID\n",
       "    ProductID:               r1.ProductID\n",
       "    UnitPrice:               r1.UnitPrice\n",
       "    Quantity:                r1.Quantity\n",
       "    Discount:                r1.Discount\n",
       "    ProductName:             r2.ProductName\n",
       "    SupplierID:              r2.SupplierID\n",
       "    CategoryID:              r2.CategoryID\n",
       "    QuantityPerUnit:         r2.QuantityPerUnit\n",
       "    UnitPrice_right:         r2.UnitPrice\n",
       "    UnitsInStock:            r2.UnitsInStock\n",
       "    UnitsOnOrder:            r2.UnitsOnOrder\n",
       "    ReorderLevel:            r2.ReorderLevel\n",
       "    Discontinued:            r2.Discontinued\n",
       "    CategoryName:            r3.CategoryName\n",
       "    Description:             r3.Description\n",
       "    Picture:                 r3.Picture\n",
       "\n",
       "r5 := Aggregate[r4]\n",
       "  groups:\n",
       "    CategoryName: r4.CategoryName\n",
       "    ProductName:  r4.ProductName\n",
       "  metrics:\n",
       "    num_orders: Count(r4.OrderID)\n",
       "    total:      Sum(r4.Quantity * r4.UnitPrice * 1 - r4.Discount)\n",
       "\n",
       "Sort[r5]\n",
       "  desc r5.num_orders\n",
       "  desc r5.total\n",
       "</pre>\n"
      ],
      "text/plain": [
       "r0 := SQLQueryResult\n",
       "  query:\n",
       "    SELECT CAST(OrderDate as Text), OrderID FROM Orders\n",
       "  schema:\n",
       "    CAST(OrderDate as Text) string\n",
       "    OrderID                 int64\n",
       "\n",
       "r1 := DatabaseTable: Order Details\n",
       "  OrderID   !int64\n",
       "  ProductID !int64\n",
       "  UnitPrice !decimal\n",
       "  Quantity  !int64\n",
       "  Discount  !float64\n",
       "\n",
       "r2 := DatabaseTable: Products\n",
       "  ProductID       !int64\n",
       "  ProductName     !string\n",
       "  SupplierID      int64\n",
       "  CategoryID      int64\n",
       "  QuantityPerUnit string\n",
       "  UnitPrice       decimal\n",
       "  UnitsInStock    int64\n",
       "  UnitsOnOrder    int64\n",
       "  ReorderLevel    int64\n",
       "  Discontinued    !string\n",
       "\n",
       "r3 := DatabaseTable: Categories\n",
       "  CategoryID   int64\n",
       "  CategoryName string\n",
       "  Description  string\n",
       "  Picture      binary\n",
       "\n",
       "r4 := JoinChain[r0]\n",
       "  JoinLink[inner, r1]\n",
       "    r0.OrderID == r1.OrderID\n",
       "  JoinLink[inner, r2]\n",
       "    r1.ProductID == r2.ProductID\n",
       "  JoinLink[inner, r3]\n",
       "    r2.CategoryID == r3.CategoryID\n",
       "  values:\n",
       "    CAST(OrderDate as Text): r0['CAST(OrderDate as Text)']\n",
       "    OrderID:                 r0.OrderID\n",
       "    ProductID:               r1.ProductID\n",
       "    UnitPrice:               r1.UnitPrice\n",
       "    Quantity:                r1.Quantity\n",
       "    Discount:                r1.Discount\n",
       "    ProductName:             r2.ProductName\n",
       "    SupplierID:              r2.SupplierID\n",
       "    CategoryID:              r2.CategoryID\n",
       "    QuantityPerUnit:         r2.QuantityPerUnit\n",
       "    UnitPrice_right:         r2.UnitPrice\n",
       "    UnitsInStock:            r2.UnitsInStock\n",
       "    UnitsOnOrder:            r2.UnitsOnOrder\n",
       "    ReorderLevel:            r2.ReorderLevel\n",
       "    Discontinued:            r2.Discontinued\n",
       "    CategoryName:            r3.CategoryName\n",
       "    Description:             r3.Description\n",
       "    Picture:                 r3.Picture\n",
       "\n",
       "r5 := Aggregate[r4]\n",
       "  groups:\n",
       "    CategoryName: r4.CategoryName\n",
       "    ProductName:  r4.ProductName\n",
       "  metrics:\n",
       "    num_orders: Count(r4.OrderID)\n",
       "    total:      Sum(r4.Quantity * r4.UnitPrice * 1 - r4.Discount)\n",
       "\n",
       "Sort[r5]\n",
       "  desc r5.num_orders\n",
       "  desc r5.total"
      ]
     },
     "execution_count": 52,
     "metadata": {},
     "output_type": "execute_result"
    }
   ],
   "source": [
    "p_o_details_agg = p_o_details.group_by([\"CategoryName\", \"ProductName\"]).aggregate(\n",
    "    num_orders=p_o_details[\"OrderID\"].count(), \n",
    "    total=(p_o_details[\"Quantity\"]*p_o_details[\"UnitPrice\"]*(1-p_o_details[\"Discount\"])).sum()) # cantidad * precio unitario * descuento \n",
    "p_o_details_agg = p_o_details_agg.order_by(p_o_details_agg[\"num_orders\"].desc(), p_o_details_agg[\"total\"].desc())\n",
    "p_o_details_agg # orderna el dataframe por numero de ordenes de forma descendente y el total de forma descendente \n",
    "                 # devuelve la consulta de tipo SQL "
   ]
  },
  {
   "cell_type": "code",
   "execution_count": 53,
   "metadata": {},
   "outputs": [
    {
     "data": {
      "text/markdown": [
       "```sql\n",
       "SELECT\n",
       "  *\n",
       "FROM (\n",
       "  SELECT\n",
       "    \"t8\".\"CategoryName\",\n",
       "    \"t8\".\"ProductName\",\n",
       "    COUNT(\"t8\".\"OrderID\") AS \"num_orders\",\n",
       "    SUM((\n",
       "      \"t8\".\"Quantity\" * \"t8\".\"UnitPrice\"\n",
       "    ) * (\n",
       "      1 - \"t8\".\"Discount\"\n",
       "    )) AS \"total\"\n",
       "  FROM (\n",
       "    SELECT\n",
       "      \"t4\".\"CAST(OrderDate as Text)\",\n",
       "      \"t4\".\"OrderID\",\n",
       "      \"t5\".\"ProductID\",\n",
       "      \"t5\".\"UnitPrice\",\n",
       "      \"t5\".\"Quantity\",\n",
       "      \"t5\".\"Discount\",\n",
       "      \"t6\".\"ProductName\",\n",
       "      \"t6\".\"SupplierID\",\n",
       "      \"t6\".\"CategoryID\",\n",
       "      \"t6\".\"QuantityPerUnit\",\n",
       "      \"t6\".\"UnitPrice\" AS \"UnitPrice_right\",\n",
       "      \"t6\".\"UnitsInStock\",\n",
       "      \"t6\".\"UnitsOnOrder\",\n",
       "      \"t6\".\"ReorderLevel\",\n",
       "      \"t6\".\"Discontinued\",\n",
       "      \"t7\".\"CategoryName\",\n",
       "      \"t7\".\"Description\",\n",
       "      \"t7\".\"Picture\"\n",
       "    FROM (\n",
       "      SELECT\n",
       "        CAST(OrderDate AS TEXT),\n",
       "        OrderID\n",
       "      FROM Orders\n",
       "    ) AS \"t4\"\n",
       "    INNER JOIN \"Order Details\" AS \"t5\"\n",
       "      ON \"t4\".\"OrderID\" = \"t5\".\"OrderID\"\n",
       "    INNER JOIN \"Products\" AS \"t6\"\n",
       "      ON \"t5\".\"ProductID\" = \"t6\".\"ProductID\"\n",
       "    INNER JOIN \"Categories\" AS \"t7\"\n",
       "      ON \"t6\".\"CategoryID\" = \"t7\".\"CategoryID\"\n",
       "  ) AS \"t8\"\n",
       "  GROUP BY\n",
       "    1,\n",
       "    2\n",
       ") AS \"t9\"\n",
       "ORDER BY\n",
       "  \"t9\".\"num_orders\" DESC,\n",
       "  \"t9\".\"total\" DESC\n",
       "```"
      ],
      "text/plain": [
       "\u001b[34mSELECT\u001b[39;49;00m\u001b[37m\u001b[39;49;00m\n",
       "\u001b[37m  \u001b[39;49;00m*\u001b[37m\u001b[39;49;00m\n",
       "\u001b[34mFROM\u001b[39;49;00m\u001b[37m \u001b[39;49;00m(\u001b[37m\u001b[39;49;00m\n",
       "\u001b[37m  \u001b[39;49;00m\u001b[34mSELECT\u001b[39;49;00m\u001b[37m\u001b[39;49;00m\n",
       "\u001b[37m    \u001b[39;49;00m\u001b[33m\"t8\"\u001b[39;49;00m.\u001b[33m\"CategoryName\"\u001b[39;49;00m,\u001b[37m\u001b[39;49;00m\n",
       "\u001b[37m    \u001b[39;49;00m\u001b[33m\"t8\"\u001b[39;49;00m.\u001b[33m\"ProductName\"\u001b[39;49;00m,\u001b[37m\u001b[39;49;00m\n",
       "\u001b[37m    \u001b[39;49;00m\u001b[34mCOUNT\u001b[39;49;00m(\u001b[33m\"t8\"\u001b[39;49;00m.\u001b[33m\"OrderID\"\u001b[39;49;00m)\u001b[37m \u001b[39;49;00m\u001b[34mAS\u001b[39;49;00m\u001b[37m \u001b[39;49;00m\u001b[33m\"num_orders\"\u001b[39;49;00m,\u001b[37m\u001b[39;49;00m\n",
       "\u001b[37m    \u001b[39;49;00m\u001b[34mSUM\u001b[39;49;00m((\u001b[37m\u001b[39;49;00m\n",
       "\u001b[37m      \u001b[39;49;00m\u001b[33m\"t8\"\u001b[39;49;00m.\u001b[33m\"Quantity\"\u001b[39;49;00m\u001b[37m \u001b[39;49;00m*\u001b[37m \u001b[39;49;00m\u001b[33m\"t8\"\u001b[39;49;00m.\u001b[33m\"UnitPrice\"\u001b[39;49;00m\u001b[37m\u001b[39;49;00m\n",
       "\u001b[37m    \u001b[39;49;00m)\u001b[37m \u001b[39;49;00m*\u001b[37m \u001b[39;49;00m(\u001b[37m\u001b[39;49;00m\n",
       "\u001b[37m      \u001b[39;49;00m\u001b[34m1\u001b[39;49;00m\u001b[37m \u001b[39;49;00m-\u001b[37m \u001b[39;49;00m\u001b[33m\"t8\"\u001b[39;49;00m.\u001b[33m\"Discount\"\u001b[39;49;00m\u001b[37m\u001b[39;49;00m\n",
       "\u001b[37m    \u001b[39;49;00m))\u001b[37m \u001b[39;49;00m\u001b[34mAS\u001b[39;49;00m\u001b[37m \u001b[39;49;00m\u001b[33m\"total\"\u001b[39;49;00m\u001b[37m\u001b[39;49;00m\n",
       "\u001b[37m  \u001b[39;49;00m\u001b[34mFROM\u001b[39;49;00m\u001b[37m \u001b[39;49;00m(\u001b[37m\u001b[39;49;00m\n",
       "\u001b[37m    \u001b[39;49;00m\u001b[34mSELECT\u001b[39;49;00m\u001b[37m\u001b[39;49;00m\n",
       "\u001b[37m      \u001b[39;49;00m\u001b[33m\"t4\"\u001b[39;49;00m.\u001b[33m\"CAST(OrderDate as Text)\"\u001b[39;49;00m,\u001b[37m\u001b[39;49;00m\n",
       "\u001b[37m      \u001b[39;49;00m\u001b[33m\"t4\"\u001b[39;49;00m.\u001b[33m\"OrderID\"\u001b[39;49;00m,\u001b[37m\u001b[39;49;00m\n",
       "\u001b[37m      \u001b[39;49;00m\u001b[33m\"t5\"\u001b[39;49;00m.\u001b[33m\"ProductID\"\u001b[39;49;00m,\u001b[37m\u001b[39;49;00m\n",
       "\u001b[37m      \u001b[39;49;00m\u001b[33m\"t5\"\u001b[39;49;00m.\u001b[33m\"UnitPrice\"\u001b[39;49;00m,\u001b[37m\u001b[39;49;00m\n",
       "\u001b[37m      \u001b[39;49;00m\u001b[33m\"t5\"\u001b[39;49;00m.\u001b[33m\"Quantity\"\u001b[39;49;00m,\u001b[37m\u001b[39;49;00m\n",
       "\u001b[37m      \u001b[39;49;00m\u001b[33m\"t5\"\u001b[39;49;00m.\u001b[33m\"Discount\"\u001b[39;49;00m,\u001b[37m\u001b[39;49;00m\n",
       "\u001b[37m      \u001b[39;49;00m\u001b[33m\"t6\"\u001b[39;49;00m.\u001b[33m\"ProductName\"\u001b[39;49;00m,\u001b[37m\u001b[39;49;00m\n",
       "\u001b[37m      \u001b[39;49;00m\u001b[33m\"t6\"\u001b[39;49;00m.\u001b[33m\"SupplierID\"\u001b[39;49;00m,\u001b[37m\u001b[39;49;00m\n",
       "\u001b[37m      \u001b[39;49;00m\u001b[33m\"t6\"\u001b[39;49;00m.\u001b[33m\"CategoryID\"\u001b[39;49;00m,\u001b[37m\u001b[39;49;00m\n",
       "\u001b[37m      \u001b[39;49;00m\u001b[33m\"t6\"\u001b[39;49;00m.\u001b[33m\"QuantityPerUnit\"\u001b[39;49;00m,\u001b[37m\u001b[39;49;00m\n",
       "\u001b[37m      \u001b[39;49;00m\u001b[33m\"t6\"\u001b[39;49;00m.\u001b[33m\"UnitPrice\"\u001b[39;49;00m\u001b[37m \u001b[39;49;00m\u001b[34mAS\u001b[39;49;00m\u001b[37m \u001b[39;49;00m\u001b[33m\"UnitPrice_right\"\u001b[39;49;00m,\u001b[37m\u001b[39;49;00m\n",
       "\u001b[37m      \u001b[39;49;00m\u001b[33m\"t6\"\u001b[39;49;00m.\u001b[33m\"UnitsInStock\"\u001b[39;49;00m,\u001b[37m\u001b[39;49;00m\n",
       "\u001b[37m      \u001b[39;49;00m\u001b[33m\"t6\"\u001b[39;49;00m.\u001b[33m\"UnitsOnOrder\"\u001b[39;49;00m,\u001b[37m\u001b[39;49;00m\n",
       "\u001b[37m      \u001b[39;49;00m\u001b[33m\"t6\"\u001b[39;49;00m.\u001b[33m\"ReorderLevel\"\u001b[39;49;00m,\u001b[37m\u001b[39;49;00m\n",
       "\u001b[37m      \u001b[39;49;00m\u001b[33m\"t6\"\u001b[39;49;00m.\u001b[33m\"Discontinued\"\u001b[39;49;00m,\u001b[37m\u001b[39;49;00m\n",
       "\u001b[37m      \u001b[39;49;00m\u001b[33m\"t7\"\u001b[39;49;00m.\u001b[33m\"CategoryName\"\u001b[39;49;00m,\u001b[37m\u001b[39;49;00m\n",
       "\u001b[37m      \u001b[39;49;00m\u001b[33m\"t7\"\u001b[39;49;00m.\u001b[33m\"Description\"\u001b[39;49;00m,\u001b[37m\u001b[39;49;00m\n",
       "\u001b[37m      \u001b[39;49;00m\u001b[33m\"t7\"\u001b[39;49;00m.\u001b[33m\"Picture\"\u001b[39;49;00m\u001b[37m\u001b[39;49;00m\n",
       "\u001b[37m    \u001b[39;49;00m\u001b[34mFROM\u001b[39;49;00m\u001b[37m \u001b[39;49;00m(\u001b[37m\u001b[39;49;00m\n",
       "\u001b[37m      \u001b[39;49;00m\u001b[34mSELECT\u001b[39;49;00m\u001b[37m\u001b[39;49;00m\n",
       "\u001b[37m        \u001b[39;49;00m\u001b[34mCAST\u001b[39;49;00m(OrderDate\u001b[37m \u001b[39;49;00m\u001b[34mAS\u001b[39;49;00m\u001b[37m \u001b[39;49;00m\u001b[36mTEXT\u001b[39;49;00m),\u001b[37m\u001b[39;49;00m\n",
       "\u001b[37m        \u001b[39;49;00mOrderID\u001b[37m\u001b[39;49;00m\n",
       "\u001b[37m      \u001b[39;49;00m\u001b[34mFROM\u001b[39;49;00m\u001b[37m \u001b[39;49;00mOrders\u001b[37m\u001b[39;49;00m\n",
       "\u001b[37m    \u001b[39;49;00m)\u001b[37m \u001b[39;49;00m\u001b[34mAS\u001b[39;49;00m\u001b[37m \u001b[39;49;00m\u001b[33m\"t4\"\u001b[39;49;00m\u001b[37m\u001b[39;49;00m\n",
       "\u001b[37m    \u001b[39;49;00m\u001b[34mINNER\u001b[39;49;00m\u001b[37m \u001b[39;49;00m\u001b[34mJOIN\u001b[39;49;00m\u001b[37m \u001b[39;49;00m\u001b[33m\"Order Details\"\u001b[39;49;00m\u001b[37m \u001b[39;49;00m\u001b[34mAS\u001b[39;49;00m\u001b[37m \u001b[39;49;00m\u001b[33m\"t5\"\u001b[39;49;00m\u001b[37m\u001b[39;49;00m\n",
       "\u001b[37m      \u001b[39;49;00m\u001b[34mON\u001b[39;49;00m\u001b[37m \u001b[39;49;00m\u001b[33m\"t4\"\u001b[39;49;00m.\u001b[33m\"OrderID\"\u001b[39;49;00m\u001b[37m \u001b[39;49;00m=\u001b[37m \u001b[39;49;00m\u001b[33m\"t5\"\u001b[39;49;00m.\u001b[33m\"OrderID\"\u001b[39;49;00m\u001b[37m\u001b[39;49;00m\n",
       "\u001b[37m    \u001b[39;49;00m\u001b[34mINNER\u001b[39;49;00m\u001b[37m \u001b[39;49;00m\u001b[34mJOIN\u001b[39;49;00m\u001b[37m \u001b[39;49;00m\u001b[33m\"Products\"\u001b[39;49;00m\u001b[37m \u001b[39;49;00m\u001b[34mAS\u001b[39;49;00m\u001b[37m \u001b[39;49;00m\u001b[33m\"t6\"\u001b[39;49;00m\u001b[37m\u001b[39;49;00m\n",
       "\u001b[37m      \u001b[39;49;00m\u001b[34mON\u001b[39;49;00m\u001b[37m \u001b[39;49;00m\u001b[33m\"t5\"\u001b[39;49;00m.\u001b[33m\"ProductID\"\u001b[39;49;00m\u001b[37m \u001b[39;49;00m=\u001b[37m \u001b[39;49;00m\u001b[33m\"t6\"\u001b[39;49;00m.\u001b[33m\"ProductID\"\u001b[39;49;00m\u001b[37m\u001b[39;49;00m\n",
       "\u001b[37m    \u001b[39;49;00m\u001b[34mINNER\u001b[39;49;00m\u001b[37m \u001b[39;49;00m\u001b[34mJOIN\u001b[39;49;00m\u001b[37m \u001b[39;49;00m\u001b[33m\"Categories\"\u001b[39;49;00m\u001b[37m \u001b[39;49;00m\u001b[34mAS\u001b[39;49;00m\u001b[37m \u001b[39;49;00m\u001b[33m\"t7\"\u001b[39;49;00m\u001b[37m\u001b[39;49;00m\n",
       "\u001b[37m      \u001b[39;49;00m\u001b[34mON\u001b[39;49;00m\u001b[37m \u001b[39;49;00m\u001b[33m\"t6\"\u001b[39;49;00m.\u001b[33m\"CategoryID\"\u001b[39;49;00m\u001b[37m \u001b[39;49;00m=\u001b[37m \u001b[39;49;00m\u001b[33m\"t7\"\u001b[39;49;00m.\u001b[33m\"CategoryID\"\u001b[39;49;00m\u001b[37m\u001b[39;49;00m\n",
       "\u001b[37m  \u001b[39;49;00m)\u001b[37m \u001b[39;49;00m\u001b[34mAS\u001b[39;49;00m\u001b[37m \u001b[39;49;00m\u001b[33m\"t8\"\u001b[39;49;00m\u001b[37m\u001b[39;49;00m\n",
       "\u001b[37m  \u001b[39;49;00m\u001b[34mGROUP\u001b[39;49;00m\u001b[37m \u001b[39;49;00m\u001b[34mBY\u001b[39;49;00m\u001b[37m\u001b[39;49;00m\n",
       "\u001b[37m    \u001b[39;49;00m\u001b[34m1\u001b[39;49;00m,\u001b[37m\u001b[39;49;00m\n",
       "\u001b[37m    \u001b[39;49;00m\u001b[34m2\u001b[39;49;00m\u001b[37m\u001b[39;49;00m\n",
       ")\u001b[37m \u001b[39;49;00m\u001b[34mAS\u001b[39;49;00m\u001b[37m \u001b[39;49;00m\u001b[33m\"t9\"\u001b[39;49;00m\u001b[37m\u001b[39;49;00m\n",
       "\u001b[34mORDER\u001b[39;49;00m\u001b[37m \u001b[39;49;00m\u001b[34mBY\u001b[39;49;00m\u001b[37m\u001b[39;49;00m\n",
       "\u001b[37m  \u001b[39;49;00m\u001b[33m\"t9\"\u001b[39;49;00m.\u001b[33m\"num_orders\"\u001b[39;49;00m\u001b[37m \u001b[39;49;00m\u001b[34mDESC\u001b[39;49;00m,\u001b[37m\u001b[39;49;00m\n",
       "\u001b[37m  \u001b[39;49;00m\u001b[33m\"t9\"\u001b[39;49;00m.\u001b[33m\"total\"\u001b[39;49;00m\u001b[37m \u001b[39;49;00m\u001b[34mDESC\u001b[39;49;00m\u001b[37m\u001b[39;49;00m"
      ]
     },
     "execution_count": 53,
     "metadata": {},
     "output_type": "execute_result"
    }
   ],
   "source": [
    "ibis.to_sql(p_o_details_agg) # DEVUELVE UNA CONSULTA DEL TIPO SQL "
   ]
  },
  {
   "cell_type": "code",
   "execution_count": 54,
   "metadata": {},
   "outputs": [
    {
     "data": {
      "text/html": [
       "<div>\n",
       "<style scoped>\n",
       "    .dataframe tbody tr th:only-of-type {\n",
       "        vertical-align: middle;\n",
       "    }\n",
       "\n",
       "    .dataframe tbody tr th {\n",
       "        vertical-align: top;\n",
       "    }\n",
       "\n",
       "    .dataframe thead th {\n",
       "        text-align: right;\n",
       "    }\n",
       "</style>\n",
       "<table border=\"1\" class=\"dataframe\">\n",
       "  <thead>\n",
       "    <tr style=\"text-align: right;\">\n",
       "      <th></th>\n",
       "      <th>CategoryName</th>\n",
       "      <th>ProductName</th>\n",
       "      <th>num_orders</th>\n",
       "      <th>total</th>\n",
       "    </tr>\n",
       "  </thead>\n",
       "  <tbody>\n",
       "    <tr>\n",
       "      <th>0</th>\n",
       "      <td>Condiments</td>\n",
       "      <td>Louisiana Hot Spiced Okra</td>\n",
       "      <td>8040</td>\n",
       "      <td>3504941</td>\n",
       "    </tr>\n",
       "    <tr>\n",
       "      <th>1</th>\n",
       "      <td>Confections</td>\n",
       "      <td>Teatime Chocolate Biscuits</td>\n",
       "      <td>8024</td>\n",
       "      <td>1889691.4200000037</td>\n",
       "    </tr>\n",
       "    <tr>\n",
       "      <th>2</th>\n",
       "      <td>Beverages</td>\n",
       "      <td>Outback Lager</td>\n",
       "      <td>8020</td>\n",
       "      <td>3064462.65</td>\n",
       "    </tr>\n",
       "    <tr>\n",
       "      <th>3</th>\n",
       "      <td>Confections</td>\n",
       "      <td>Sir Rodney's Marmalade</td>\n",
       "      <td>7999</td>\n",
       "      <td>16653807.36</td>\n",
       "    </tr>\n",
       "    <tr>\n",
       "      <th>4</th>\n",
       "      <td>Confections</td>\n",
       "      <td>Gumbär Gummibärchen</td>\n",
       "      <td>7999</td>\n",
       "      <td>6391018.984499998</td>\n",
       "    </tr>\n",
       "    <tr>\n",
       "      <th>...</th>\n",
       "      <td>...</td>\n",
       "      <td>...</td>\n",
       "      <td>...</td>\n",
       "      <td>...</td>\n",
       "    </tr>\n",
       "    <tr>\n",
       "      <th>72</th>\n",
       "      <td>Produce</td>\n",
       "      <td>Tofu</td>\n",
       "      <td>7834</td>\n",
       "      <td>4644738.99</td>\n",
       "    </tr>\n",
       "    <tr>\n",
       "      <th>73</th>\n",
       "      <td>Confections</td>\n",
       "      <td>Scottish Longbreads</td>\n",
       "      <td>7818</td>\n",
       "      <td>2528089</td>\n",
       "    </tr>\n",
       "    <tr>\n",
       "      <th>74</th>\n",
       "      <td>Meat/Poultry</td>\n",
       "      <td>Perth Pasties</td>\n",
       "      <td>7817</td>\n",
       "      <td>6561681.369999989</td>\n",
       "    </tr>\n",
       "    <tr>\n",
       "      <th>75</th>\n",
       "      <td>Dairy Products</td>\n",
       "      <td>Mascarpone Fabioli</td>\n",
       "      <td>7817</td>\n",
       "      <td>6381012.16</td>\n",
       "    </tr>\n",
       "    <tr>\n",
       "      <th>76</th>\n",
       "      <td>Confections</td>\n",
       "      <td>Zaanse koeken</td>\n",
       "      <td>7785</td>\n",
       "      <td>1879296.08</td>\n",
       "    </tr>\n",
       "  </tbody>\n",
       "</table>\n",
       "<p>77 rows × 4 columns</p>\n",
       "</div>"
      ],
      "text/plain": [
       "      CategoryName                 ProductName  num_orders               total\n",
       "0       Condiments   Louisiana Hot Spiced Okra        8040             3504941\n",
       "1      Confections  Teatime Chocolate Biscuits        8024  1889691.4200000037\n",
       "2        Beverages               Outback Lager        8020          3064462.65\n",
       "3      Confections      Sir Rodney's Marmalade        7999         16653807.36\n",
       "4      Confections         Gumbär Gummibärchen        7999   6391018.984499998\n",
       "..             ...                         ...         ...                 ...\n",
       "72         Produce                        Tofu        7834          4644738.99\n",
       "73     Confections         Scottish Longbreads        7818             2528089\n",
       "74    Meat/Poultry               Perth Pasties        7817   6561681.369999989\n",
       "75  Dairy Products          Mascarpone Fabioli        7817          6381012.16\n",
       "76     Confections               Zaanse koeken        7785          1879296.08\n",
       "\n",
       "[77 rows x 4 columns]"
      ]
     },
     "execution_count": 54,
     "metadata": {},
     "output_type": "execute_result"
    }
   ],
   "source": [
    "p_o_details_agg.to_pandas() # AL PONER '.to_pandas()', DEVUELVE EL DATAFRAME QUE ES DEL TIPO 'pandas'  "
   ]
  },
  {
   "cell_type": "code",
   "execution_count": 55,
   "metadata": {},
   "outputs": [],
   "source": [
    "p_o_details_agg = p_o_details_agg.order_by(p_o_details_agg[\"num_orders\"].desc(), p_o_details_agg[\"total\"].desc())"
   ]
  },
  {
   "cell_type": "code",
   "execution_count": null,
   "metadata": {},
   "outputs": [],
   "source": [
    "# se utiliza en Ibis 'ibis.desc(\"category_total\")' para ordenar los resultados en orden descendente y considerando el campo 'category_total'. "
   ]
  },
  {
   "cell_type": "code",
   "execution_count": 62,
   "metadata": {},
   "outputs": [
    {
     "data": {
      "text/html": [
       "<div>\n",
       "<style scoped>\n",
       "    .dataframe tbody tr th:only-of-type {\n",
       "        vertical-align: middle;\n",
       "    }\n",
       "\n",
       "    .dataframe tbody tr th {\n",
       "        vertical-align: top;\n",
       "    }\n",
       "\n",
       "    .dataframe thead th {\n",
       "        text-align: right;\n",
       "    }\n",
       "</style>\n",
       "<table border=\"1\" class=\"dataframe\">\n",
       "  <thead>\n",
       "    <tr style=\"text-align: right;\">\n",
       "      <th></th>\n",
       "      <th>CategoryName</th>\n",
       "      <th>category_total</th>\n",
       "    </tr>\n",
       "  </thead>\n",
       "  <tbody>\n",
       "    <tr>\n",
       "      <th>0</th>\n",
       "      <td>Beverages</td>\n",
       "      <td>92163184.17999999</td>\n",
       "    </tr>\n",
       "    <tr>\n",
       "      <th>1</th>\n",
       "      <td>Confections</td>\n",
       "      <td>66337803.06499998</td>\n",
       "    </tr>\n",
       "    <tr>\n",
       "      <th>2</th>\n",
       "      <td>Meat/Poultry</td>\n",
       "      <td>64881147.969499916</td>\n",
       "    </tr>\n",
       "    <tr>\n",
       "      <th>3</th>\n",
       "      <td>Dairy Products</td>\n",
       "      <td>58018116.78500001</td>\n",
       "    </tr>\n",
       "    <tr>\n",
       "      <th>4</th>\n",
       "      <td>Condiments</td>\n",
       "      <td>55795126.78499997</td>\n",
       "    </tr>\n",
       "    <tr>\n",
       "      <th>5</th>\n",
       "      <td>Seafood</td>\n",
       "      <td>49921604.16749999</td>\n",
       "    </tr>\n",
       "    <tr>\n",
       "      <th>6</th>\n",
       "      <td>Produce</td>\n",
       "      <td>32701119.88000001</td>\n",
       "    </tr>\n",
       "    <tr>\n",
       "      <th>7</th>\n",
       "      <td>Grains/Cereals</td>\n",
       "      <td>28568530.3375</td>\n",
       "    </tr>\n",
       "  </tbody>\n",
       "</table>\n",
       "</div>"
      ],
      "text/plain": [
       "     CategoryName      category_total\n",
       "0       Beverages   92163184.17999999\n",
       "1     Confections   66337803.06499998\n",
       "2    Meat/Poultry  64881147.969499916\n",
       "3  Dairy Products   58018116.78500001\n",
       "4      Condiments   55795126.78499997\n",
       "5         Seafood   49921604.16749999\n",
       "6         Produce   32701119.88000001\n",
       "7  Grains/Cereals       28568530.3375"
      ]
     },
     "execution_count": 62,
     "metadata": {},
     "output_type": "execute_result"
    }
   ],
   "source": [
    "consulta= p_o_details_agg.group_by(\"CategoryName\").aggregate(category_total=p_o_details_agg[\"total\"].sum()).order_by(ibis.desc(\"category_total\")) \n",
    "consulta.to_pandas() "
   ]
  },
  {
   "cell_type": "code",
   "execution_count": 63,
   "metadata": {},
   "outputs": [
    {
     "data": {
      "text/markdown": [
       "```sql\n",
       "SELECT\n",
       "  *\n",
       "FROM (\n",
       "  SELECT\n",
       "    \"t10\".\"CategoryName\",\n",
       "    SUM(\"t10\".\"total\") AS \"category_total\"\n",
       "  FROM (\n",
       "    SELECT\n",
       "      *\n",
       "    FROM (\n",
       "      SELECT\n",
       "        \"t8\".\"CategoryName\",\n",
       "        \"t8\".\"ProductName\",\n",
       "        COUNT(\"t8\".\"OrderID\") AS \"num_orders\",\n",
       "        SUM((\n",
       "          \"t8\".\"Quantity\" * \"t8\".\"UnitPrice\"\n",
       "        ) * (\n",
       "          1 - \"t8\".\"Discount\"\n",
       "        )) AS \"total\"\n",
       "      FROM (\n",
       "        SELECT\n",
       "          \"t4\".\"CAST(OrderDate as Text)\",\n",
       "          \"t4\".\"OrderID\",\n",
       "          \"t5\".\"ProductID\",\n",
       "          \"t5\".\"UnitPrice\",\n",
       "          \"t5\".\"Quantity\",\n",
       "          \"t5\".\"Discount\",\n",
       "          \"t6\".\"ProductName\",\n",
       "          \"t6\".\"SupplierID\",\n",
       "          \"t6\".\"CategoryID\",\n",
       "          \"t6\".\"QuantityPerUnit\",\n",
       "          \"t6\".\"UnitPrice\" AS \"UnitPrice_right\",\n",
       "          \"t6\".\"UnitsInStock\",\n",
       "          \"t6\".\"UnitsOnOrder\",\n",
       "          \"t6\".\"ReorderLevel\",\n",
       "          \"t6\".\"Discontinued\",\n",
       "          \"t7\".\"CategoryName\",\n",
       "          \"t7\".\"Description\",\n",
       "          \"t7\".\"Picture\"\n",
       "        FROM (\n",
       "          SELECT\n",
       "            CAST(OrderDate AS TEXT),\n",
       "            OrderID\n",
       "          FROM Orders\n",
       "        ) AS \"t4\"\n",
       "        INNER JOIN \"Order Details\" AS \"t5\"\n",
       "          ON \"t4\".\"OrderID\" = \"t5\".\"OrderID\"\n",
       "        INNER JOIN \"Products\" AS \"t6\"\n",
       "          ON \"t5\".\"ProductID\" = \"t6\".\"ProductID\"\n",
       "        INNER JOIN \"Categories\" AS \"t7\"\n",
       "          ON \"t6\".\"CategoryID\" = \"t7\".\"CategoryID\"\n",
       "      ) AS \"t8\"\n",
       "      GROUP BY\n",
       "        1,\n",
       "        2\n",
       "    ) AS \"t9\"\n",
       "    ORDER BY\n",
       "      \"t9\".\"num_orders\" DESC,\n",
       "      \"t9\".\"total\" DESC\n",
       "  ) AS \"t10\"\n",
       "  GROUP BY\n",
       "    1\n",
       ") AS \"t11\"\n",
       "ORDER BY\n",
       "  \"t11\".\"category_total\" DESC\n",
       "```"
      ],
      "text/plain": [
       "\u001b[34mSELECT\u001b[39;49;00m\u001b[37m\u001b[39;49;00m\n",
       "\u001b[37m  \u001b[39;49;00m*\u001b[37m\u001b[39;49;00m\n",
       "\u001b[34mFROM\u001b[39;49;00m\u001b[37m \u001b[39;49;00m(\u001b[37m\u001b[39;49;00m\n",
       "\u001b[37m  \u001b[39;49;00m\u001b[34mSELECT\u001b[39;49;00m\u001b[37m\u001b[39;49;00m\n",
       "\u001b[37m    \u001b[39;49;00m\u001b[33m\"t10\"\u001b[39;49;00m.\u001b[33m\"CategoryName\"\u001b[39;49;00m,\u001b[37m\u001b[39;49;00m\n",
       "\u001b[37m    \u001b[39;49;00m\u001b[34mSUM\u001b[39;49;00m(\u001b[33m\"t10\"\u001b[39;49;00m.\u001b[33m\"total\"\u001b[39;49;00m)\u001b[37m \u001b[39;49;00m\u001b[34mAS\u001b[39;49;00m\u001b[37m \u001b[39;49;00m\u001b[33m\"category_total\"\u001b[39;49;00m\u001b[37m\u001b[39;49;00m\n",
       "\u001b[37m  \u001b[39;49;00m\u001b[34mFROM\u001b[39;49;00m\u001b[37m \u001b[39;49;00m(\u001b[37m\u001b[39;49;00m\n",
       "\u001b[37m    \u001b[39;49;00m\u001b[34mSELECT\u001b[39;49;00m\u001b[37m\u001b[39;49;00m\n",
       "\u001b[37m      \u001b[39;49;00m*\u001b[37m\u001b[39;49;00m\n",
       "\u001b[37m    \u001b[39;49;00m\u001b[34mFROM\u001b[39;49;00m\u001b[37m \u001b[39;49;00m(\u001b[37m\u001b[39;49;00m\n",
       "\u001b[37m      \u001b[39;49;00m\u001b[34mSELECT\u001b[39;49;00m\u001b[37m\u001b[39;49;00m\n",
       "\u001b[37m        \u001b[39;49;00m\u001b[33m\"t8\"\u001b[39;49;00m.\u001b[33m\"CategoryName\"\u001b[39;49;00m,\u001b[37m\u001b[39;49;00m\n",
       "\u001b[37m        \u001b[39;49;00m\u001b[33m\"t8\"\u001b[39;49;00m.\u001b[33m\"ProductName\"\u001b[39;49;00m,\u001b[37m\u001b[39;49;00m\n",
       "\u001b[37m        \u001b[39;49;00m\u001b[34mCOUNT\u001b[39;49;00m(\u001b[33m\"t8\"\u001b[39;49;00m.\u001b[33m\"OrderID\"\u001b[39;49;00m)\u001b[37m \u001b[39;49;00m\u001b[34mAS\u001b[39;49;00m\u001b[37m \u001b[39;49;00m\u001b[33m\"num_orders\"\u001b[39;49;00m,\u001b[37m\u001b[39;49;00m\n",
       "\u001b[37m        \u001b[39;49;00m\u001b[34mSUM\u001b[39;49;00m((\u001b[37m\u001b[39;49;00m\n",
       "\u001b[37m          \u001b[39;49;00m\u001b[33m\"t8\"\u001b[39;49;00m.\u001b[33m\"Quantity\"\u001b[39;49;00m\u001b[37m \u001b[39;49;00m*\u001b[37m \u001b[39;49;00m\u001b[33m\"t8\"\u001b[39;49;00m.\u001b[33m\"UnitPrice\"\u001b[39;49;00m\u001b[37m\u001b[39;49;00m\n",
       "\u001b[37m        \u001b[39;49;00m)\u001b[37m \u001b[39;49;00m*\u001b[37m \u001b[39;49;00m(\u001b[37m\u001b[39;49;00m\n",
       "\u001b[37m          \u001b[39;49;00m\u001b[34m1\u001b[39;49;00m\u001b[37m \u001b[39;49;00m-\u001b[37m \u001b[39;49;00m\u001b[33m\"t8\"\u001b[39;49;00m.\u001b[33m\"Discount\"\u001b[39;49;00m\u001b[37m\u001b[39;49;00m\n",
       "\u001b[37m        \u001b[39;49;00m))\u001b[37m \u001b[39;49;00m\u001b[34mAS\u001b[39;49;00m\u001b[37m \u001b[39;49;00m\u001b[33m\"total\"\u001b[39;49;00m\u001b[37m\u001b[39;49;00m\n",
       "\u001b[37m      \u001b[39;49;00m\u001b[34mFROM\u001b[39;49;00m\u001b[37m \u001b[39;49;00m(\u001b[37m\u001b[39;49;00m\n",
       "\u001b[37m        \u001b[39;49;00m\u001b[34mSELECT\u001b[39;49;00m\u001b[37m\u001b[39;49;00m\n",
       "\u001b[37m          \u001b[39;49;00m\u001b[33m\"t4\"\u001b[39;49;00m.\u001b[33m\"CAST(OrderDate as Text)\"\u001b[39;49;00m,\u001b[37m\u001b[39;49;00m\n",
       "\u001b[37m          \u001b[39;49;00m\u001b[33m\"t4\"\u001b[39;49;00m.\u001b[33m\"OrderID\"\u001b[39;49;00m,\u001b[37m\u001b[39;49;00m\n",
       "\u001b[37m          \u001b[39;49;00m\u001b[33m\"t5\"\u001b[39;49;00m.\u001b[33m\"ProductID\"\u001b[39;49;00m,\u001b[37m\u001b[39;49;00m\n",
       "\u001b[37m          \u001b[39;49;00m\u001b[33m\"t5\"\u001b[39;49;00m.\u001b[33m\"UnitPrice\"\u001b[39;49;00m,\u001b[37m\u001b[39;49;00m\n",
       "\u001b[37m          \u001b[39;49;00m\u001b[33m\"t5\"\u001b[39;49;00m.\u001b[33m\"Quantity\"\u001b[39;49;00m,\u001b[37m\u001b[39;49;00m\n",
       "\u001b[37m          \u001b[39;49;00m\u001b[33m\"t5\"\u001b[39;49;00m.\u001b[33m\"Discount\"\u001b[39;49;00m,\u001b[37m\u001b[39;49;00m\n",
       "\u001b[37m          \u001b[39;49;00m\u001b[33m\"t6\"\u001b[39;49;00m.\u001b[33m\"ProductName\"\u001b[39;49;00m,\u001b[37m\u001b[39;49;00m\n",
       "\u001b[37m          \u001b[39;49;00m\u001b[33m\"t6\"\u001b[39;49;00m.\u001b[33m\"SupplierID\"\u001b[39;49;00m,\u001b[37m\u001b[39;49;00m\n",
       "\u001b[37m          \u001b[39;49;00m\u001b[33m\"t6\"\u001b[39;49;00m.\u001b[33m\"CategoryID\"\u001b[39;49;00m,\u001b[37m\u001b[39;49;00m\n",
       "\u001b[37m          \u001b[39;49;00m\u001b[33m\"t6\"\u001b[39;49;00m.\u001b[33m\"QuantityPerUnit\"\u001b[39;49;00m,\u001b[37m\u001b[39;49;00m\n",
       "\u001b[37m          \u001b[39;49;00m\u001b[33m\"t6\"\u001b[39;49;00m.\u001b[33m\"UnitPrice\"\u001b[39;49;00m\u001b[37m \u001b[39;49;00m\u001b[34mAS\u001b[39;49;00m\u001b[37m \u001b[39;49;00m\u001b[33m\"UnitPrice_right\"\u001b[39;49;00m,\u001b[37m\u001b[39;49;00m\n",
       "\u001b[37m          \u001b[39;49;00m\u001b[33m\"t6\"\u001b[39;49;00m.\u001b[33m\"UnitsInStock\"\u001b[39;49;00m,\u001b[37m\u001b[39;49;00m\n",
       "\u001b[37m          \u001b[39;49;00m\u001b[33m\"t6\"\u001b[39;49;00m.\u001b[33m\"UnitsOnOrder\"\u001b[39;49;00m,\u001b[37m\u001b[39;49;00m\n",
       "\u001b[37m          \u001b[39;49;00m\u001b[33m\"t6\"\u001b[39;49;00m.\u001b[33m\"ReorderLevel\"\u001b[39;49;00m,\u001b[37m\u001b[39;49;00m\n",
       "\u001b[37m          \u001b[39;49;00m\u001b[33m\"t6\"\u001b[39;49;00m.\u001b[33m\"Discontinued\"\u001b[39;49;00m,\u001b[37m\u001b[39;49;00m\n",
       "\u001b[37m          \u001b[39;49;00m\u001b[33m\"t7\"\u001b[39;49;00m.\u001b[33m\"CategoryName\"\u001b[39;49;00m,\u001b[37m\u001b[39;49;00m\n",
       "\u001b[37m          \u001b[39;49;00m\u001b[33m\"t7\"\u001b[39;49;00m.\u001b[33m\"Description\"\u001b[39;49;00m,\u001b[37m\u001b[39;49;00m\n",
       "\u001b[37m          \u001b[39;49;00m\u001b[33m\"t7\"\u001b[39;49;00m.\u001b[33m\"Picture\"\u001b[39;49;00m\u001b[37m\u001b[39;49;00m\n",
       "\u001b[37m        \u001b[39;49;00m\u001b[34mFROM\u001b[39;49;00m\u001b[37m \u001b[39;49;00m(\u001b[37m\u001b[39;49;00m\n",
       "\u001b[37m          \u001b[39;49;00m\u001b[34mSELECT\u001b[39;49;00m\u001b[37m\u001b[39;49;00m\n",
       "\u001b[37m            \u001b[39;49;00m\u001b[34mCAST\u001b[39;49;00m(OrderDate\u001b[37m \u001b[39;49;00m\u001b[34mAS\u001b[39;49;00m\u001b[37m \u001b[39;49;00m\u001b[36mTEXT\u001b[39;49;00m),\u001b[37m\u001b[39;49;00m\n",
       "\u001b[37m            \u001b[39;49;00mOrderID\u001b[37m\u001b[39;49;00m\n",
       "\u001b[37m          \u001b[39;49;00m\u001b[34mFROM\u001b[39;49;00m\u001b[37m \u001b[39;49;00mOrders\u001b[37m\u001b[39;49;00m\n",
       "\u001b[37m        \u001b[39;49;00m)\u001b[37m \u001b[39;49;00m\u001b[34mAS\u001b[39;49;00m\u001b[37m \u001b[39;49;00m\u001b[33m\"t4\"\u001b[39;49;00m\u001b[37m\u001b[39;49;00m\n",
       "\u001b[37m        \u001b[39;49;00m\u001b[34mINNER\u001b[39;49;00m\u001b[37m \u001b[39;49;00m\u001b[34mJOIN\u001b[39;49;00m\u001b[37m \u001b[39;49;00m\u001b[33m\"Order Details\"\u001b[39;49;00m\u001b[37m \u001b[39;49;00m\u001b[34mAS\u001b[39;49;00m\u001b[37m \u001b[39;49;00m\u001b[33m\"t5\"\u001b[39;49;00m\u001b[37m\u001b[39;49;00m\n",
       "\u001b[37m          \u001b[39;49;00m\u001b[34mON\u001b[39;49;00m\u001b[37m \u001b[39;49;00m\u001b[33m\"t4\"\u001b[39;49;00m.\u001b[33m\"OrderID\"\u001b[39;49;00m\u001b[37m \u001b[39;49;00m=\u001b[37m \u001b[39;49;00m\u001b[33m\"t5\"\u001b[39;49;00m.\u001b[33m\"OrderID\"\u001b[39;49;00m\u001b[37m\u001b[39;49;00m\n",
       "\u001b[37m        \u001b[39;49;00m\u001b[34mINNER\u001b[39;49;00m\u001b[37m \u001b[39;49;00m\u001b[34mJOIN\u001b[39;49;00m\u001b[37m \u001b[39;49;00m\u001b[33m\"Products\"\u001b[39;49;00m\u001b[37m \u001b[39;49;00m\u001b[34mAS\u001b[39;49;00m\u001b[37m \u001b[39;49;00m\u001b[33m\"t6\"\u001b[39;49;00m\u001b[37m\u001b[39;49;00m\n",
       "\u001b[37m          \u001b[39;49;00m\u001b[34mON\u001b[39;49;00m\u001b[37m \u001b[39;49;00m\u001b[33m\"t5\"\u001b[39;49;00m.\u001b[33m\"ProductID\"\u001b[39;49;00m\u001b[37m \u001b[39;49;00m=\u001b[37m \u001b[39;49;00m\u001b[33m\"t6\"\u001b[39;49;00m.\u001b[33m\"ProductID\"\u001b[39;49;00m\u001b[37m\u001b[39;49;00m\n",
       "\u001b[37m        \u001b[39;49;00m\u001b[34mINNER\u001b[39;49;00m\u001b[37m \u001b[39;49;00m\u001b[34mJOIN\u001b[39;49;00m\u001b[37m \u001b[39;49;00m\u001b[33m\"Categories\"\u001b[39;49;00m\u001b[37m \u001b[39;49;00m\u001b[34mAS\u001b[39;49;00m\u001b[37m \u001b[39;49;00m\u001b[33m\"t7\"\u001b[39;49;00m\u001b[37m\u001b[39;49;00m\n",
       "\u001b[37m          \u001b[39;49;00m\u001b[34mON\u001b[39;49;00m\u001b[37m \u001b[39;49;00m\u001b[33m\"t6\"\u001b[39;49;00m.\u001b[33m\"CategoryID\"\u001b[39;49;00m\u001b[37m \u001b[39;49;00m=\u001b[37m \u001b[39;49;00m\u001b[33m\"t7\"\u001b[39;49;00m.\u001b[33m\"CategoryID\"\u001b[39;49;00m\u001b[37m\u001b[39;49;00m\n",
       "\u001b[37m      \u001b[39;49;00m)\u001b[37m \u001b[39;49;00m\u001b[34mAS\u001b[39;49;00m\u001b[37m \u001b[39;49;00m\u001b[33m\"t8\"\u001b[39;49;00m\u001b[37m\u001b[39;49;00m\n",
       "\u001b[37m      \u001b[39;49;00m\u001b[34mGROUP\u001b[39;49;00m\u001b[37m \u001b[39;49;00m\u001b[34mBY\u001b[39;49;00m\u001b[37m\u001b[39;49;00m\n",
       "\u001b[37m        \u001b[39;49;00m\u001b[34m1\u001b[39;49;00m,\u001b[37m\u001b[39;49;00m\n",
       "\u001b[37m        \u001b[39;49;00m\u001b[34m2\u001b[39;49;00m\u001b[37m\u001b[39;49;00m\n",
       "\u001b[37m    \u001b[39;49;00m)\u001b[37m \u001b[39;49;00m\u001b[34mAS\u001b[39;49;00m\u001b[37m \u001b[39;49;00m\u001b[33m\"t9\"\u001b[39;49;00m\u001b[37m\u001b[39;49;00m\n",
       "\u001b[37m    \u001b[39;49;00m\u001b[34mORDER\u001b[39;49;00m\u001b[37m \u001b[39;49;00m\u001b[34mBY\u001b[39;49;00m\u001b[37m\u001b[39;49;00m\n",
       "\u001b[37m      \u001b[39;49;00m\u001b[33m\"t9\"\u001b[39;49;00m.\u001b[33m\"num_orders\"\u001b[39;49;00m\u001b[37m \u001b[39;49;00m\u001b[34mDESC\u001b[39;49;00m,\u001b[37m\u001b[39;49;00m\n",
       "\u001b[37m      \u001b[39;49;00m\u001b[33m\"t9\"\u001b[39;49;00m.\u001b[33m\"total\"\u001b[39;49;00m\u001b[37m \u001b[39;49;00m\u001b[34mDESC\u001b[39;49;00m\u001b[37m\u001b[39;49;00m\n",
       "\u001b[37m  \u001b[39;49;00m)\u001b[37m \u001b[39;49;00m\u001b[34mAS\u001b[39;49;00m\u001b[37m \u001b[39;49;00m\u001b[33m\"t10\"\u001b[39;49;00m\u001b[37m\u001b[39;49;00m\n",
       "\u001b[37m  \u001b[39;49;00m\u001b[34mGROUP\u001b[39;49;00m\u001b[37m \u001b[39;49;00m\u001b[34mBY\u001b[39;49;00m\u001b[37m\u001b[39;49;00m\n",
       "\u001b[37m    \u001b[39;49;00m\u001b[34m1\u001b[39;49;00m\u001b[37m\u001b[39;49;00m\n",
       ")\u001b[37m \u001b[39;49;00m\u001b[34mAS\u001b[39;49;00m\u001b[37m \u001b[39;49;00m\u001b[33m\"t11\"\u001b[39;49;00m\u001b[37m\u001b[39;49;00m\n",
       "\u001b[34mORDER\u001b[39;49;00m\u001b[37m \u001b[39;49;00m\u001b[34mBY\u001b[39;49;00m\u001b[37m\u001b[39;49;00m\n",
       "\u001b[37m  \u001b[39;49;00m\u001b[33m\"t11\"\u001b[39;49;00m.\u001b[33m\"category_total\"\u001b[39;49;00m\u001b[37m \u001b[39;49;00m\u001b[34mDESC\u001b[39;49;00m\u001b[37m\u001b[39;49;00m"
      ]
     },
     "execution_count": 63,
     "metadata": {},
     "output_type": "execute_result"
    }
   ],
   "source": [
    "ibis.to_sql(consulta) "
   ]
  },
  {
   "cell_type": "code",
   "execution_count": 64,
   "metadata": {},
   "outputs": [
    {
     "data": {
      "application/vnd.plotly.v1+json": {
       "config": {
        "plotlyServerURL": "https://plot.ly"
       },
       "data": [
        {
         "alignmentgroup": "True",
         "hovertemplate": "CategoryName=%{x}<br>category_total=%{y}<extra></extra>",
         "legendgroup": "",
         "marker": {
          "color": "#636efa",
          "pattern": {
           "shape": ""
          }
         },
         "name": "",
         "offsetgroup": "",
         "orientation": "v",
         "showlegend": false,
         "textposition": "auto",
         "type": "bar",
         "x": [
          "Beverages",
          "Confections",
          "Meat/Poultry",
          "Dairy Products",
          "Condiments",
          "Seafood",
          "Produce",
          "Grains/Cereals"
         ],
         "xaxis": "x",
         "y": [
          92163184.17999999,
          66337803.06499998,
          64881147.969499916,
          58018116.78500001,
          55795126.78499997,
          49921604.16749999,
          32701119.88000001,
          28568530.3375
         ],
         "yaxis": "y"
        }
       ],
       "layout": {
        "barmode": "relative",
        "legend": {
         "tracegroupgap": 0
        },
        "margin": {
         "t": 60
        },
        "template": {
         "data": {
          "bar": [
           {
            "error_x": {
             "color": "#2a3f5f"
            },
            "error_y": {
             "color": "#2a3f5f"
            },
            "marker": {
             "line": {
              "color": "#E5ECF6",
              "width": 0.5
             },
             "pattern": {
              "fillmode": "overlay",
              "size": 10,
              "solidity": 0.2
             }
            },
            "type": "bar"
           }
          ],
          "barpolar": [
           {
            "marker": {
             "line": {
              "color": "#E5ECF6",
              "width": 0.5
             },
             "pattern": {
              "fillmode": "overlay",
              "size": 10,
              "solidity": 0.2
             }
            },
            "type": "barpolar"
           }
          ],
          "carpet": [
           {
            "aaxis": {
             "endlinecolor": "#2a3f5f",
             "gridcolor": "white",
             "linecolor": "white",
             "minorgridcolor": "white",
             "startlinecolor": "#2a3f5f"
            },
            "baxis": {
             "endlinecolor": "#2a3f5f",
             "gridcolor": "white",
             "linecolor": "white",
             "minorgridcolor": "white",
             "startlinecolor": "#2a3f5f"
            },
            "type": "carpet"
           }
          ],
          "choropleth": [
           {
            "colorbar": {
             "outlinewidth": 0,
             "ticks": ""
            },
            "type": "choropleth"
           }
          ],
          "contour": [
           {
            "colorbar": {
             "outlinewidth": 0,
             "ticks": ""
            },
            "colorscale": [
             [
              0,
              "#0d0887"
             ],
             [
              0.1111111111111111,
              "#46039f"
             ],
             [
              0.2222222222222222,
              "#7201a8"
             ],
             [
              0.3333333333333333,
              "#9c179e"
             ],
             [
              0.4444444444444444,
              "#bd3786"
             ],
             [
              0.5555555555555556,
              "#d8576b"
             ],
             [
              0.6666666666666666,
              "#ed7953"
             ],
             [
              0.7777777777777778,
              "#fb9f3a"
             ],
             [
              0.8888888888888888,
              "#fdca26"
             ],
             [
              1,
              "#f0f921"
             ]
            ],
            "type": "contour"
           }
          ],
          "contourcarpet": [
           {
            "colorbar": {
             "outlinewidth": 0,
             "ticks": ""
            },
            "type": "contourcarpet"
           }
          ],
          "heatmap": [
           {
            "colorbar": {
             "outlinewidth": 0,
             "ticks": ""
            },
            "colorscale": [
             [
              0,
              "#0d0887"
             ],
             [
              0.1111111111111111,
              "#46039f"
             ],
             [
              0.2222222222222222,
              "#7201a8"
             ],
             [
              0.3333333333333333,
              "#9c179e"
             ],
             [
              0.4444444444444444,
              "#bd3786"
             ],
             [
              0.5555555555555556,
              "#d8576b"
             ],
             [
              0.6666666666666666,
              "#ed7953"
             ],
             [
              0.7777777777777778,
              "#fb9f3a"
             ],
             [
              0.8888888888888888,
              "#fdca26"
             ],
             [
              1,
              "#f0f921"
             ]
            ],
            "type": "heatmap"
           }
          ],
          "heatmapgl": [
           {
            "colorbar": {
             "outlinewidth": 0,
             "ticks": ""
            },
            "colorscale": [
             [
              0,
              "#0d0887"
             ],
             [
              0.1111111111111111,
              "#46039f"
             ],
             [
              0.2222222222222222,
              "#7201a8"
             ],
             [
              0.3333333333333333,
              "#9c179e"
             ],
             [
              0.4444444444444444,
              "#bd3786"
             ],
             [
              0.5555555555555556,
              "#d8576b"
             ],
             [
              0.6666666666666666,
              "#ed7953"
             ],
             [
              0.7777777777777778,
              "#fb9f3a"
             ],
             [
              0.8888888888888888,
              "#fdca26"
             ],
             [
              1,
              "#f0f921"
             ]
            ],
            "type": "heatmapgl"
           }
          ],
          "histogram": [
           {
            "marker": {
             "pattern": {
              "fillmode": "overlay",
              "size": 10,
              "solidity": 0.2
             }
            },
            "type": "histogram"
           }
          ],
          "histogram2d": [
           {
            "colorbar": {
             "outlinewidth": 0,
             "ticks": ""
            },
            "colorscale": [
             [
              0,
              "#0d0887"
             ],
             [
              0.1111111111111111,
              "#46039f"
             ],
             [
              0.2222222222222222,
              "#7201a8"
             ],
             [
              0.3333333333333333,
              "#9c179e"
             ],
             [
              0.4444444444444444,
              "#bd3786"
             ],
             [
              0.5555555555555556,
              "#d8576b"
             ],
             [
              0.6666666666666666,
              "#ed7953"
             ],
             [
              0.7777777777777778,
              "#fb9f3a"
             ],
             [
              0.8888888888888888,
              "#fdca26"
             ],
             [
              1,
              "#f0f921"
             ]
            ],
            "type": "histogram2d"
           }
          ],
          "histogram2dcontour": [
           {
            "colorbar": {
             "outlinewidth": 0,
             "ticks": ""
            },
            "colorscale": [
             [
              0,
              "#0d0887"
             ],
             [
              0.1111111111111111,
              "#46039f"
             ],
             [
              0.2222222222222222,
              "#7201a8"
             ],
             [
              0.3333333333333333,
              "#9c179e"
             ],
             [
              0.4444444444444444,
              "#bd3786"
             ],
             [
              0.5555555555555556,
              "#d8576b"
             ],
             [
              0.6666666666666666,
              "#ed7953"
             ],
             [
              0.7777777777777778,
              "#fb9f3a"
             ],
             [
              0.8888888888888888,
              "#fdca26"
             ],
             [
              1,
              "#f0f921"
             ]
            ],
            "type": "histogram2dcontour"
           }
          ],
          "mesh3d": [
           {
            "colorbar": {
             "outlinewidth": 0,
             "ticks": ""
            },
            "type": "mesh3d"
           }
          ],
          "parcoords": [
           {
            "line": {
             "colorbar": {
              "outlinewidth": 0,
              "ticks": ""
             }
            },
            "type": "parcoords"
           }
          ],
          "pie": [
           {
            "automargin": true,
            "type": "pie"
           }
          ],
          "scatter": [
           {
            "fillpattern": {
             "fillmode": "overlay",
             "size": 10,
             "solidity": 0.2
            },
            "type": "scatter"
           }
          ],
          "scatter3d": [
           {
            "line": {
             "colorbar": {
              "outlinewidth": 0,
              "ticks": ""
             }
            },
            "marker": {
             "colorbar": {
              "outlinewidth": 0,
              "ticks": ""
             }
            },
            "type": "scatter3d"
           }
          ],
          "scattercarpet": [
           {
            "marker": {
             "colorbar": {
              "outlinewidth": 0,
              "ticks": ""
             }
            },
            "type": "scattercarpet"
           }
          ],
          "scattergeo": [
           {
            "marker": {
             "colorbar": {
              "outlinewidth": 0,
              "ticks": ""
             }
            },
            "type": "scattergeo"
           }
          ],
          "scattergl": [
           {
            "marker": {
             "colorbar": {
              "outlinewidth": 0,
              "ticks": ""
             }
            },
            "type": "scattergl"
           }
          ],
          "scattermapbox": [
           {
            "marker": {
             "colorbar": {
              "outlinewidth": 0,
              "ticks": ""
             }
            },
            "type": "scattermapbox"
           }
          ],
          "scatterpolar": [
           {
            "marker": {
             "colorbar": {
              "outlinewidth": 0,
              "ticks": ""
             }
            },
            "type": "scatterpolar"
           }
          ],
          "scatterpolargl": [
           {
            "marker": {
             "colorbar": {
              "outlinewidth": 0,
              "ticks": ""
             }
            },
            "type": "scatterpolargl"
           }
          ],
          "scatterternary": [
           {
            "marker": {
             "colorbar": {
              "outlinewidth": 0,
              "ticks": ""
             }
            },
            "type": "scatterternary"
           }
          ],
          "surface": [
           {
            "colorbar": {
             "outlinewidth": 0,
             "ticks": ""
            },
            "colorscale": [
             [
              0,
              "#0d0887"
             ],
             [
              0.1111111111111111,
              "#46039f"
             ],
             [
              0.2222222222222222,
              "#7201a8"
             ],
             [
              0.3333333333333333,
              "#9c179e"
             ],
             [
              0.4444444444444444,
              "#bd3786"
             ],
             [
              0.5555555555555556,
              "#d8576b"
             ],
             [
              0.6666666666666666,
              "#ed7953"
             ],
             [
              0.7777777777777778,
              "#fb9f3a"
             ],
             [
              0.8888888888888888,
              "#fdca26"
             ],
             [
              1,
              "#f0f921"
             ]
            ],
            "type": "surface"
           }
          ],
          "table": [
           {
            "cells": {
             "fill": {
              "color": "#EBF0F8"
             },
             "line": {
              "color": "white"
             }
            },
            "header": {
             "fill": {
              "color": "#C8D4E3"
             },
             "line": {
              "color": "white"
             }
            },
            "type": "table"
           }
          ]
         },
         "layout": {
          "annotationdefaults": {
           "arrowcolor": "#2a3f5f",
           "arrowhead": 0,
           "arrowwidth": 1
          },
          "autotypenumbers": "strict",
          "coloraxis": {
           "colorbar": {
            "outlinewidth": 0,
            "ticks": ""
           }
          },
          "colorscale": {
           "diverging": [
            [
             0,
             "#8e0152"
            ],
            [
             0.1,
             "#c51b7d"
            ],
            [
             0.2,
             "#de77ae"
            ],
            [
             0.3,
             "#f1b6da"
            ],
            [
             0.4,
             "#fde0ef"
            ],
            [
             0.5,
             "#f7f7f7"
            ],
            [
             0.6,
             "#e6f5d0"
            ],
            [
             0.7,
             "#b8e186"
            ],
            [
             0.8,
             "#7fbc41"
            ],
            [
             0.9,
             "#4d9221"
            ],
            [
             1,
             "#276419"
            ]
           ],
           "sequential": [
            [
             0,
             "#0d0887"
            ],
            [
             0.1111111111111111,
             "#46039f"
            ],
            [
             0.2222222222222222,
             "#7201a8"
            ],
            [
             0.3333333333333333,
             "#9c179e"
            ],
            [
             0.4444444444444444,
             "#bd3786"
            ],
            [
             0.5555555555555556,
             "#d8576b"
            ],
            [
             0.6666666666666666,
             "#ed7953"
            ],
            [
             0.7777777777777778,
             "#fb9f3a"
            ],
            [
             0.8888888888888888,
             "#fdca26"
            ],
            [
             1,
             "#f0f921"
            ]
           ],
           "sequentialminus": [
            [
             0,
             "#0d0887"
            ],
            [
             0.1111111111111111,
             "#46039f"
            ],
            [
             0.2222222222222222,
             "#7201a8"
            ],
            [
             0.3333333333333333,
             "#9c179e"
            ],
            [
             0.4444444444444444,
             "#bd3786"
            ],
            [
             0.5555555555555556,
             "#d8576b"
            ],
            [
             0.6666666666666666,
             "#ed7953"
            ],
            [
             0.7777777777777778,
             "#fb9f3a"
            ],
            [
             0.8888888888888888,
             "#fdca26"
            ],
            [
             1,
             "#f0f921"
            ]
           ]
          },
          "colorway": [
           "#636efa",
           "#EF553B",
           "#00cc96",
           "#ab63fa",
           "#FFA15A",
           "#19d3f3",
           "#FF6692",
           "#B6E880",
           "#FF97FF",
           "#FECB52"
          ],
          "font": {
           "color": "#2a3f5f"
          },
          "geo": {
           "bgcolor": "white",
           "lakecolor": "white",
           "landcolor": "#E5ECF6",
           "showlakes": true,
           "showland": true,
           "subunitcolor": "white"
          },
          "hoverlabel": {
           "align": "left"
          },
          "hovermode": "closest",
          "mapbox": {
           "style": "light"
          },
          "paper_bgcolor": "white",
          "plot_bgcolor": "#E5ECF6",
          "polar": {
           "angularaxis": {
            "gridcolor": "white",
            "linecolor": "white",
            "ticks": ""
           },
           "bgcolor": "#E5ECF6",
           "radialaxis": {
            "gridcolor": "white",
            "linecolor": "white",
            "ticks": ""
           }
          },
          "scene": {
           "xaxis": {
            "backgroundcolor": "#E5ECF6",
            "gridcolor": "white",
            "gridwidth": 2,
            "linecolor": "white",
            "showbackground": true,
            "ticks": "",
            "zerolinecolor": "white"
           },
           "yaxis": {
            "backgroundcolor": "#E5ECF6",
            "gridcolor": "white",
            "gridwidth": 2,
            "linecolor": "white",
            "showbackground": true,
            "ticks": "",
            "zerolinecolor": "white"
           },
           "zaxis": {
            "backgroundcolor": "#E5ECF6",
            "gridcolor": "white",
            "gridwidth": 2,
            "linecolor": "white",
            "showbackground": true,
            "ticks": "",
            "zerolinecolor": "white"
           }
          },
          "shapedefaults": {
           "line": {
            "color": "#2a3f5f"
           }
          },
          "ternary": {
           "aaxis": {
            "gridcolor": "white",
            "linecolor": "white",
            "ticks": ""
           },
           "baxis": {
            "gridcolor": "white",
            "linecolor": "white",
            "ticks": ""
           },
           "bgcolor": "#E5ECF6",
           "caxis": {
            "gridcolor": "white",
            "linecolor": "white",
            "ticks": ""
           }
          },
          "title": {
           "x": 0.05
          },
          "xaxis": {
           "automargin": true,
           "gridcolor": "white",
           "linecolor": "white",
           "ticks": "",
           "title": {
            "standoff": 15
           },
           "zerolinecolor": "white",
           "zerolinewidth": 2
          },
          "yaxis": {
           "automargin": true,
           "gridcolor": "white",
           "linecolor": "white",
           "ticks": "",
           "title": {
            "standoff": 15
           },
           "zerolinecolor": "white",
           "zerolinewidth": 2
          }
         }
        },
        "xaxis": {
         "anchor": "y",
         "domain": [
          0,
          1
         ],
         "title": {
          "text": "CategoryName"
         }
        },
        "yaxis": {
         "anchor": "x",
         "domain": [
          0,
          1
         ],
         "title": {
          "text": "category_total"
         }
        }
       }
      }
     },
     "metadata": {},
     "output_type": "display_data"
    }
   ],
   "source": [
    "precio_por_categoria = consulta.to_pandas() \n",
    "\n",
    "fig = px.bar(precio_por_categoria, x='CategoryName', y='category_total') \n",
    "fig.show() "
   ]
  },
  {
   "cell_type": "code",
   "execution_count": 59,
   "metadata": {},
   "outputs": [],
   "source": [
    "precio_producto = p_o_details_agg.to_pandas()"
   ]
  },
  {
   "cell_type": "code",
   "execution_count": 60,
   "metadata": {},
   "outputs": [
    {
     "data": {
      "application/vnd.plotly.v1+json": {
       "config": {
        "plotlyServerURL": "https://plot.ly"
       },
       "data": [
        {
         "alignmentgroup": "True",
         "hovertemplate": "CategoryName=Condiments<br>ProductName=%{x}<br>total=%{y}<extra></extra>",
         "legendgroup": "Condiments",
         "marker": {
          "color": "#636efa",
          "pattern": {
           "shape": ""
          }
         },
         "name": "Condiments",
         "offsetgroup": "Condiments",
         "orientation": "v",
         "showlegend": true,
         "textposition": "auto",
         "type": "bar",
         "x": [
          "Louisiana Hot Spiced Okra",
          "Genen Shouyu",
          "Sirop d'érable",
          "Grandma's Boysenberry Spread",
          "Original Frankfurter grüne Soße",
          "Aniseed Syrup",
          "Louisiana Fiery Hot Pepper Sauce",
          "Northwoods Cranberry Sauce",
          "Chef Anton's Cajun Seasoning",
          "Vegie-spread",
          "Gula Malacca",
          "Chef Anton's Gumbo Mix"
         ],
         "xaxis": "x",
         "y": [
          3504941,
          3126197.325,
          5839809.6,
          5037487,
          2622964.63,
          2021624,
          4245004.089999992,
          8073652,
          4370573.9,
          8810705.194999982,
          3881146.6949999924,
          4261021.349999991
         ],
         "yaxis": "y"
        },
        {
         "alignmentgroup": "True",
         "hovertemplate": "CategoryName=Confections<br>ProductName=%{x}<br>total=%{y}<extra></extra>",
         "legendgroup": "Confections",
         "marker": {
          "color": "#EF553B",
          "pattern": {
           "shape": ""
          }
         },
         "name": "Confections",
         "offsetgroup": "Confections",
         "orientation": "v",
         "showlegend": true,
         "textposition": "auto",
         "type": "bar",
         "x": [
          "Teatime Chocolate Biscuits",
          "Sir Rodney's Marmalade",
          "Gumbär Gummibärchen",
          "Maxilaku",
          "NuNuCa Nuß-Nougat-Creme",
          "Tarte au sucre",
          "Pavlova",
          "Chocolade",
          "Schoggi Schokolade",
          "Valkoinen suklaa",
          "Sir Rodney's Scones",
          "Scottish Longbreads",
          "Zaanse koeken"
         ],
         "xaxis": "x",
         "y": [
          1889691.4200000037,
          16653807.36,
          6391018.984499998,
          4021924.6,
          2812216.4,
          9952936.070000008,
          3521612.0255000037,
          2571692.2125,
          8829078.474999968,
          3259726.4375,
          2026714,
          2528089,
          1879296.08
         ],
         "yaxis": "y"
        },
        {
         "alignmentgroup": "True",
         "hovertemplate": "CategoryName=Beverages<br>ProductName=%{x}<br>total=%{y}<extra></extra>",
         "legendgroup": "Beverages",
         "marker": {
          "color": "#00cc96",
          "pattern": {
           "shape": ""
          }
         },
         "name": "Beverages",
         "offsetgroup": "Beverages",
         "orientation": "v",
         "showlegend": true,
         "textposition": "auto",
         "type": "bar",
         "x": [
          "Outback Lager",
          "Chartreuse verte",
          "Sasquatch Ale",
          "Rhönbräu Klosterbier",
          "Lakkalikööri",
          "Ipoh Coffee",
          "Chang",
          "Chai",
          "Côte de Blaye",
          "Steeleye Stout",
          "Guaraná Fantástica",
          "Laughing Lumberjack Lager"
         ],
         "xaxis": "x",
         "y": [
          3064462.65,
          3634326.54,
          2850604.4,
          1557138.99,
          3624706.44,
          9333374.7,
          3830510.96,
          3632174.1,
          53265895.235,
          3640338,
          908257.365,
          2821394.8
         ],
         "yaxis": "y"
        },
        {
         "alignmentgroup": "True",
         "hovertemplate": "CategoryName=Dairy Products<br>ProductName=%{x}<br>total=%{y}<extra></extra>",
         "legendgroup": "Dairy Products",
         "marker": {
          "color": "#ab63fa",
          "pattern": {
           "shape": ""
          }
         },
         "name": "Dairy Products",
         "offsetgroup": "Dairy Products",
         "orientation": "v",
         "showlegend": true,
         "textposition": "auto",
         "type": "bar",
         "x": [
          "Gudbrandsdalsost",
          "Raclette Courdavault",
          "Gorgonzola Telino",
          "Geitost",
          "Queso Manchego La Pastora",
          "Camembert Pierrot",
          "Mozzarella di Giovanni",
          "Queso Cabrales",
          "Flotemysost",
          "Mascarpone Fabioli"
         ],
         "xaxis": "x",
         "y": [
          7230582.359999999,
          11216410.7,
          2542658.375,
          507120.625,
          7684381.66,
          6900443.48,
          7024050.130000003,
          4234846.77,
          4296610.525,
          6381012.16
         ],
         "yaxis": "y"
        },
        {
         "alignmentgroup": "True",
         "hovertemplate": "CategoryName=Grains/Cereals<br>ProductName=%{x}<br>total=%{y}<extra></extra>",
         "legendgroup": "Grains/Cereals",
         "marker": {
          "color": "#FFA15A",
          "pattern": {
           "shape": ""
          }
         },
         "name": "Grains/Cereals",
         "offsetgroup": "Grains/Cereals",
         "orientation": "v",
         "showlegend": true,
         "textposition": "auto",
         "type": "bar",
         "x": [
          "Ravioli Angelo",
          "Tunnbröd",
          "Gustaf's Knäckebröd",
          "Filo Mix",
          "Wimmers gute Semmelknödel",
          "Gnocchi di nonna Alice",
          "Singaporean Hokkien Fried Mee"
         ],
         "xaxis": "x",
         "y": [
          3982093.05,
          1818605.7,
          4204728.359999999,
          1421369.95,
          6688749.2175,
          7646887.0600000005,
          2806097
         ],
         "yaxis": "y"
        },
        {
         "alignmentgroup": "True",
         "hovertemplate": "CategoryName=Seafood<br>ProductName=%{x}<br>total=%{y}<extra></extra>",
         "legendgroup": "Seafood",
         "marker": {
          "color": "#19d3f3",
          "pattern": {
           "shape": ""
          }
         },
         "name": "Seafood",
         "offsetgroup": "Seafood",
         "orientation": "v",
         "showlegend": true,
         "textposition": "auto",
         "type": "bar",
         "x": [
          "Konbu",
          "Inlagd Sill",
          "Nord-Ost Matjeshering",
          "Ikura",
          "Jack's New England Clam Chowder",
          "Escargots de Bourgogne",
          "Boston Crab Meat",
          "Röd Kaviar",
          "Spegesild",
          "Carnarvon Tigers",
          "Rogede sild",
          "Gravad lax"
         ],
         "xaxis": "x",
         "y": [
          1214608.44,
          3822787.46,
          5261378.97749999,
          6238723.34,
          1930883.1450000068,
          2617973.425,
          3681884.229999998,
          2985232.2,
          2414631,
          12604671.875,
          1903891.675,
          5244938.4
         ],
         "yaxis": "y"
        },
        {
         "alignmentgroup": "True",
         "hovertemplate": "CategoryName=Meat/Poultry<br>ProductName=%{x}<br>total=%{y}<extra></extra>",
         "legendgroup": "Meat/Poultry",
         "marker": {
          "color": "#FF6692",
          "pattern": {
           "shape": ""
          }
         },
         "name": "Meat/Poultry",
         "offsetgroup": "Meat/Poultry",
         "orientation": "v",
         "showlegend": true,
         "textposition": "auto",
         "type": "bar",
         "x": [
          "Pâté chinois",
          "Alice Mutton",
          "Tourtière",
          "Mishi Kobe Niku",
          "Thüringer Rostbratwurst",
          "Perth Pasties"
         ],
         "xaxis": "x",
         "y": [
          4879418.4,
          7884412.38,
          1509129.087499993,
          19423037.5,
          24623469.231999934,
          6561681.369999989
         ],
         "yaxis": "y"
        },
        {
         "alignmentgroup": "True",
         "hovertemplate": "CategoryName=Produce<br>ProductName=%{x}<br>total=%{y}<extra></extra>",
         "legendgroup": "Produce",
         "marker": {
          "color": "#B6E880",
          "pattern": {
           "shape": ""
          }
         },
         "name": "Produce",
         "offsetgroup": "Produce",
         "orientation": "v",
         "showlegend": true,
         "textposition": "auto",
         "type": "bar",
         "x": [
          "Uncle Bob's Organic Dried Pears",
          "Rössle Sauerkraut",
          "Manjimup Dried Apples",
          "Longlife Tofu",
          "Tofu"
         ],
         "xaxis": "x",
         "y": [
          6118254.3,
          9252765.440000005,
          10664768.65,
          2020592.5,
          4644738.99
         ],
         "yaxis": "y"
        }
       ],
       "layout": {
        "barmode": "relative",
        "legend": {
         "title": {
          "text": "CategoryName"
         },
         "tracegroupgap": 0
        },
        "margin": {
         "t": 60
        },
        "template": {
         "data": {
          "bar": [
           {
            "error_x": {
             "color": "#2a3f5f"
            },
            "error_y": {
             "color": "#2a3f5f"
            },
            "marker": {
             "line": {
              "color": "#E5ECF6",
              "width": 0.5
             },
             "pattern": {
              "fillmode": "overlay",
              "size": 10,
              "solidity": 0.2
             }
            },
            "type": "bar"
           }
          ],
          "barpolar": [
           {
            "marker": {
             "line": {
              "color": "#E5ECF6",
              "width": 0.5
             },
             "pattern": {
              "fillmode": "overlay",
              "size": 10,
              "solidity": 0.2
             }
            },
            "type": "barpolar"
           }
          ],
          "carpet": [
           {
            "aaxis": {
             "endlinecolor": "#2a3f5f",
             "gridcolor": "white",
             "linecolor": "white",
             "minorgridcolor": "white",
             "startlinecolor": "#2a3f5f"
            },
            "baxis": {
             "endlinecolor": "#2a3f5f",
             "gridcolor": "white",
             "linecolor": "white",
             "minorgridcolor": "white",
             "startlinecolor": "#2a3f5f"
            },
            "type": "carpet"
           }
          ],
          "choropleth": [
           {
            "colorbar": {
             "outlinewidth": 0,
             "ticks": ""
            },
            "type": "choropleth"
           }
          ],
          "contour": [
           {
            "colorbar": {
             "outlinewidth": 0,
             "ticks": ""
            },
            "colorscale": [
             [
              0,
              "#0d0887"
             ],
             [
              0.1111111111111111,
              "#46039f"
             ],
             [
              0.2222222222222222,
              "#7201a8"
             ],
             [
              0.3333333333333333,
              "#9c179e"
             ],
             [
              0.4444444444444444,
              "#bd3786"
             ],
             [
              0.5555555555555556,
              "#d8576b"
             ],
             [
              0.6666666666666666,
              "#ed7953"
             ],
             [
              0.7777777777777778,
              "#fb9f3a"
             ],
             [
              0.8888888888888888,
              "#fdca26"
             ],
             [
              1,
              "#f0f921"
             ]
            ],
            "type": "contour"
           }
          ],
          "contourcarpet": [
           {
            "colorbar": {
             "outlinewidth": 0,
             "ticks": ""
            },
            "type": "contourcarpet"
           }
          ],
          "heatmap": [
           {
            "colorbar": {
             "outlinewidth": 0,
             "ticks": ""
            },
            "colorscale": [
             [
              0,
              "#0d0887"
             ],
             [
              0.1111111111111111,
              "#46039f"
             ],
             [
              0.2222222222222222,
              "#7201a8"
             ],
             [
              0.3333333333333333,
              "#9c179e"
             ],
             [
              0.4444444444444444,
              "#bd3786"
             ],
             [
              0.5555555555555556,
              "#d8576b"
             ],
             [
              0.6666666666666666,
              "#ed7953"
             ],
             [
              0.7777777777777778,
              "#fb9f3a"
             ],
             [
              0.8888888888888888,
              "#fdca26"
             ],
             [
              1,
              "#f0f921"
             ]
            ],
            "type": "heatmap"
           }
          ],
          "heatmapgl": [
           {
            "colorbar": {
             "outlinewidth": 0,
             "ticks": ""
            },
            "colorscale": [
             [
              0,
              "#0d0887"
             ],
             [
              0.1111111111111111,
              "#46039f"
             ],
             [
              0.2222222222222222,
              "#7201a8"
             ],
             [
              0.3333333333333333,
              "#9c179e"
             ],
             [
              0.4444444444444444,
              "#bd3786"
             ],
             [
              0.5555555555555556,
              "#d8576b"
             ],
             [
              0.6666666666666666,
              "#ed7953"
             ],
             [
              0.7777777777777778,
              "#fb9f3a"
             ],
             [
              0.8888888888888888,
              "#fdca26"
             ],
             [
              1,
              "#f0f921"
             ]
            ],
            "type": "heatmapgl"
           }
          ],
          "histogram": [
           {
            "marker": {
             "pattern": {
              "fillmode": "overlay",
              "size": 10,
              "solidity": 0.2
             }
            },
            "type": "histogram"
           }
          ],
          "histogram2d": [
           {
            "colorbar": {
             "outlinewidth": 0,
             "ticks": ""
            },
            "colorscale": [
             [
              0,
              "#0d0887"
             ],
             [
              0.1111111111111111,
              "#46039f"
             ],
             [
              0.2222222222222222,
              "#7201a8"
             ],
             [
              0.3333333333333333,
              "#9c179e"
             ],
             [
              0.4444444444444444,
              "#bd3786"
             ],
             [
              0.5555555555555556,
              "#d8576b"
             ],
             [
              0.6666666666666666,
              "#ed7953"
             ],
             [
              0.7777777777777778,
              "#fb9f3a"
             ],
             [
              0.8888888888888888,
              "#fdca26"
             ],
             [
              1,
              "#f0f921"
             ]
            ],
            "type": "histogram2d"
           }
          ],
          "histogram2dcontour": [
           {
            "colorbar": {
             "outlinewidth": 0,
             "ticks": ""
            },
            "colorscale": [
             [
              0,
              "#0d0887"
             ],
             [
              0.1111111111111111,
              "#46039f"
             ],
             [
              0.2222222222222222,
              "#7201a8"
             ],
             [
              0.3333333333333333,
              "#9c179e"
             ],
             [
              0.4444444444444444,
              "#bd3786"
             ],
             [
              0.5555555555555556,
              "#d8576b"
             ],
             [
              0.6666666666666666,
              "#ed7953"
             ],
             [
              0.7777777777777778,
              "#fb9f3a"
             ],
             [
              0.8888888888888888,
              "#fdca26"
             ],
             [
              1,
              "#f0f921"
             ]
            ],
            "type": "histogram2dcontour"
           }
          ],
          "mesh3d": [
           {
            "colorbar": {
             "outlinewidth": 0,
             "ticks": ""
            },
            "type": "mesh3d"
           }
          ],
          "parcoords": [
           {
            "line": {
             "colorbar": {
              "outlinewidth": 0,
              "ticks": ""
             }
            },
            "type": "parcoords"
           }
          ],
          "pie": [
           {
            "automargin": true,
            "type": "pie"
           }
          ],
          "scatter": [
           {
            "fillpattern": {
             "fillmode": "overlay",
             "size": 10,
             "solidity": 0.2
            },
            "type": "scatter"
           }
          ],
          "scatter3d": [
           {
            "line": {
             "colorbar": {
              "outlinewidth": 0,
              "ticks": ""
             }
            },
            "marker": {
             "colorbar": {
              "outlinewidth": 0,
              "ticks": ""
             }
            },
            "type": "scatter3d"
           }
          ],
          "scattercarpet": [
           {
            "marker": {
             "colorbar": {
              "outlinewidth": 0,
              "ticks": ""
             }
            },
            "type": "scattercarpet"
           }
          ],
          "scattergeo": [
           {
            "marker": {
             "colorbar": {
              "outlinewidth": 0,
              "ticks": ""
             }
            },
            "type": "scattergeo"
           }
          ],
          "scattergl": [
           {
            "marker": {
             "colorbar": {
              "outlinewidth": 0,
              "ticks": ""
             }
            },
            "type": "scattergl"
           }
          ],
          "scattermapbox": [
           {
            "marker": {
             "colorbar": {
              "outlinewidth": 0,
              "ticks": ""
             }
            },
            "type": "scattermapbox"
           }
          ],
          "scatterpolar": [
           {
            "marker": {
             "colorbar": {
              "outlinewidth": 0,
              "ticks": ""
             }
            },
            "type": "scatterpolar"
           }
          ],
          "scatterpolargl": [
           {
            "marker": {
             "colorbar": {
              "outlinewidth": 0,
              "ticks": ""
             }
            },
            "type": "scatterpolargl"
           }
          ],
          "scatterternary": [
           {
            "marker": {
             "colorbar": {
              "outlinewidth": 0,
              "ticks": ""
             }
            },
            "type": "scatterternary"
           }
          ],
          "surface": [
           {
            "colorbar": {
             "outlinewidth": 0,
             "ticks": ""
            },
            "colorscale": [
             [
              0,
              "#0d0887"
             ],
             [
              0.1111111111111111,
              "#46039f"
             ],
             [
              0.2222222222222222,
              "#7201a8"
             ],
             [
              0.3333333333333333,
              "#9c179e"
             ],
             [
              0.4444444444444444,
              "#bd3786"
             ],
             [
              0.5555555555555556,
              "#d8576b"
             ],
             [
              0.6666666666666666,
              "#ed7953"
             ],
             [
              0.7777777777777778,
              "#fb9f3a"
             ],
             [
              0.8888888888888888,
              "#fdca26"
             ],
             [
              1,
              "#f0f921"
             ]
            ],
            "type": "surface"
           }
          ],
          "table": [
           {
            "cells": {
             "fill": {
              "color": "#EBF0F8"
             },
             "line": {
              "color": "white"
             }
            },
            "header": {
             "fill": {
              "color": "#C8D4E3"
             },
             "line": {
              "color": "white"
             }
            },
            "type": "table"
           }
          ]
         },
         "layout": {
          "annotationdefaults": {
           "arrowcolor": "#2a3f5f",
           "arrowhead": 0,
           "arrowwidth": 1
          },
          "autotypenumbers": "strict",
          "coloraxis": {
           "colorbar": {
            "outlinewidth": 0,
            "ticks": ""
           }
          },
          "colorscale": {
           "diverging": [
            [
             0,
             "#8e0152"
            ],
            [
             0.1,
             "#c51b7d"
            ],
            [
             0.2,
             "#de77ae"
            ],
            [
             0.3,
             "#f1b6da"
            ],
            [
             0.4,
             "#fde0ef"
            ],
            [
             0.5,
             "#f7f7f7"
            ],
            [
             0.6,
             "#e6f5d0"
            ],
            [
             0.7,
             "#b8e186"
            ],
            [
             0.8,
             "#7fbc41"
            ],
            [
             0.9,
             "#4d9221"
            ],
            [
             1,
             "#276419"
            ]
           ],
           "sequential": [
            [
             0,
             "#0d0887"
            ],
            [
             0.1111111111111111,
             "#46039f"
            ],
            [
             0.2222222222222222,
             "#7201a8"
            ],
            [
             0.3333333333333333,
             "#9c179e"
            ],
            [
             0.4444444444444444,
             "#bd3786"
            ],
            [
             0.5555555555555556,
             "#d8576b"
            ],
            [
             0.6666666666666666,
             "#ed7953"
            ],
            [
             0.7777777777777778,
             "#fb9f3a"
            ],
            [
             0.8888888888888888,
             "#fdca26"
            ],
            [
             1,
             "#f0f921"
            ]
           ],
           "sequentialminus": [
            [
             0,
             "#0d0887"
            ],
            [
             0.1111111111111111,
             "#46039f"
            ],
            [
             0.2222222222222222,
             "#7201a8"
            ],
            [
             0.3333333333333333,
             "#9c179e"
            ],
            [
             0.4444444444444444,
             "#bd3786"
            ],
            [
             0.5555555555555556,
             "#d8576b"
            ],
            [
             0.6666666666666666,
             "#ed7953"
            ],
            [
             0.7777777777777778,
             "#fb9f3a"
            ],
            [
             0.8888888888888888,
             "#fdca26"
            ],
            [
             1,
             "#f0f921"
            ]
           ]
          },
          "colorway": [
           "#636efa",
           "#EF553B",
           "#00cc96",
           "#ab63fa",
           "#FFA15A",
           "#19d3f3",
           "#FF6692",
           "#B6E880",
           "#FF97FF",
           "#FECB52"
          ],
          "font": {
           "color": "#2a3f5f"
          },
          "geo": {
           "bgcolor": "white",
           "lakecolor": "white",
           "landcolor": "#E5ECF6",
           "showlakes": true,
           "showland": true,
           "subunitcolor": "white"
          },
          "hoverlabel": {
           "align": "left"
          },
          "hovermode": "closest",
          "mapbox": {
           "style": "light"
          },
          "paper_bgcolor": "white",
          "plot_bgcolor": "#E5ECF6",
          "polar": {
           "angularaxis": {
            "gridcolor": "white",
            "linecolor": "white",
            "ticks": ""
           },
           "bgcolor": "#E5ECF6",
           "radialaxis": {
            "gridcolor": "white",
            "linecolor": "white",
            "ticks": ""
           }
          },
          "scene": {
           "xaxis": {
            "backgroundcolor": "#E5ECF6",
            "gridcolor": "white",
            "gridwidth": 2,
            "linecolor": "white",
            "showbackground": true,
            "ticks": "",
            "zerolinecolor": "white"
           },
           "yaxis": {
            "backgroundcolor": "#E5ECF6",
            "gridcolor": "white",
            "gridwidth": 2,
            "linecolor": "white",
            "showbackground": true,
            "ticks": "",
            "zerolinecolor": "white"
           },
           "zaxis": {
            "backgroundcolor": "#E5ECF6",
            "gridcolor": "white",
            "gridwidth": 2,
            "linecolor": "white",
            "showbackground": true,
            "ticks": "",
            "zerolinecolor": "white"
           }
          },
          "shapedefaults": {
           "line": {
            "color": "#2a3f5f"
           }
          },
          "ternary": {
           "aaxis": {
            "gridcolor": "white",
            "linecolor": "white",
            "ticks": ""
           },
           "baxis": {
            "gridcolor": "white",
            "linecolor": "white",
            "ticks": ""
           },
           "bgcolor": "#E5ECF6",
           "caxis": {
            "gridcolor": "white",
            "linecolor": "white",
            "ticks": ""
           }
          },
          "title": {
           "x": 0.05
          },
          "xaxis": {
           "automargin": true,
           "gridcolor": "white",
           "linecolor": "white",
           "ticks": "",
           "title": {
            "standoff": 15
           },
           "zerolinecolor": "white",
           "zerolinewidth": 2
          },
          "yaxis": {
           "automargin": true,
           "gridcolor": "white",
           "linecolor": "white",
           "ticks": "",
           "title": {
            "standoff": 15
           },
           "zerolinecolor": "white",
           "zerolinewidth": 2
          }
         }
        },
        "xaxis": {
         "anchor": "y",
         "domain": [
          0,
          1
         ],
         "title": {
          "text": "ProductName"
         }
        },
        "yaxis": {
         "anchor": "x",
         "domain": [
          0,
          1
         ],
         "title": {
          "text": "total"
         }
        }
       }
      }
     },
     "metadata": {},
     "output_type": "display_data"
    }
   ],
   "source": [
    "# precio_producto = p_o_details_agg.to_pandas()\n",
    "\n",
    "fig = px.bar(precio_producto, x='ProductName', y='total', color='CategoryName') \n",
    "fig.show() # EL GRAFICO MUESTRA CUANDO SE GASTA POR PRODUCTO Y LO COLOREA SEGUN CUAL SEA SU CATEGORIA "
   ]
  },
  {
   "cell_type": "code",
   "execution_count": null,
   "metadata": {},
   "outputs": [],
   "source": []
  },
  {
   "cell_type": "markdown",
   "metadata": {},
   "source": [
    "### **3. Análisis de Rentabilidad de Clientes**\n",
    "Analiza la rentabilidad de los clientes de la empresa. Examina los ingresos generados por cada cliente, así como los costos asociados con el servicio o producto proporcionado. \n",
    "\n",
    "Pista: Utiliza gráficos de dispersión y tablas dinámicas para identificar los clientes más rentables y aquellos que requieren mayor atención."
   ]
  },
  {
   "cell_type": "code",
   "execution_count": 71,
   "metadata": {},
   "outputs": [
    {
     "name": "stdout",
     "output_type": "stream",
     "text": [
      "ibis.Schema {\n",
      "  ShippedDate   string\n",
      "  OrderID       int64\n",
      "  Subtotal      float64\n",
      "  CustomerID    string\n",
      "  CompanyName   string\n",
      "  ContactName   string\n",
      "  ContactTitle  string\n",
      "  Address       string\n",
      "  City          string\n",
      "  Region        string\n",
      "  PostalCode    string\n",
      "  Country       string\n",
      "  Phone         string\n",
      "  Fax           string\n",
      "}\n"
     ]
    }
   ],
   "source": [
    "# 'Summary of Sales by Quarter' es una vista que ya venía hecha con los datos, revizar programa 'Dbeaver'  \n",
    "summary_per_quarter = con.sql(\"SELECT CAST(ShippedDate as Text) as ShippedDate, OrderID, Subtotal FROM [Summary of Sales by Quarter]\")\n",
    "\n",
    "# Las siguientes líneas de código\n",
    "orders = con.sql(\"SELECT CustomerID, OrderID FROM Orders\")\n",
    "customers = con.table(\"Customers\")\n",
    "\n",
    "# Unir los datos\n",
    "joined_data = summary_per_quarter.join(orders, \"OrderID\").join(customers, \"CustomerID\")\n",
    "\n",
    "# Mostrar el esquema de los datos unidos\n",
    "print(joined_data.schema()) \n",
    "\n",
    "# SELECT CAST convierte el formato de un campo en otro formato \n",
    "\n",
    "# Consulta summary_per_quarter: Selecciona ShippedDate, OrderID, y Subtotal de la tabla o vista [Summary of Sales by Quarter], que debe ser una vista o tabla en tu base de datos.\n",
    "\n",
    "# Consulta orders: Selecciona CustomerID y OrderID de la tabla Orders.\n",
    "\n",
    "# Tabla customers: Se conecta a la tabla Customers.\n",
    "\n",
    "# Unir los datos: Une los datos de summary_per_quarter y orders en la columna OrderID, luego une el resultado con customers en la columna CustomerID.\n",
    "\n",
    "# Mostrar el esquema: Imprime el esquema de los datos unidos para verificar la estructura resultante."
   ]
  },
  {
   "cell_type": "code",
   "execution_count": 74,
   "metadata": {},
   "outputs": [
    {
     "data": {
      "text/html": [
       "<div>\n",
       "<style scoped>\n",
       "    .dataframe tbody tr th:only-of-type {\n",
       "        vertical-align: middle;\n",
       "    }\n",
       "\n",
       "    .dataframe tbody tr th {\n",
       "        vertical-align: top;\n",
       "    }\n",
       "\n",
       "    .dataframe thead th {\n",
       "        text-align: right;\n",
       "    }\n",
       "</style>\n",
       "<table border=\"1\" class=\"dataframe\">\n",
       "  <thead>\n",
       "    <tr style=\"text-align: right;\">\n",
       "      <th></th>\n",
       "      <th>CompanyName</th>\n",
       "      <th>total</th>\n",
       "      <th>dev</th>\n",
       "    </tr>\n",
       "  </thead>\n",
       "  <tbody>\n",
       "    <tr>\n",
       "      <th>0</th>\n",
       "      <td>IT</td>\n",
       "      <td>9.745371e+06</td>\n",
       "      <td>17911.792434</td>\n",
       "    </tr>\n",
       "    <tr>\n",
       "      <th>1</th>\n",
       "      <td>B's Beverages</td>\n",
       "      <td>6.154115e+06</td>\n",
       "      <td>17822.000552</td>\n",
       "    </tr>\n",
       "    <tr>\n",
       "      <th>2</th>\n",
       "      <td>Hungry Coyote Import Store</td>\n",
       "      <td>5.698024e+06</td>\n",
       "      <td>17304.451978</td>\n",
       "    </tr>\n",
       "    <tr>\n",
       "      <th>3</th>\n",
       "      <td>Rancho grande</td>\n",
       "      <td>5.559034e+06</td>\n",
       "      <td>17799.147451</td>\n",
       "    </tr>\n",
       "    <tr>\n",
       "      <th>4</th>\n",
       "      <td>Gourmet Lanchonetes</td>\n",
       "      <td>5.552310e+06</td>\n",
       "      <td>17403.553505</td>\n",
       "    </tr>\n",
       "    <tr>\n",
       "      <th>...</th>\n",
       "      <td>...</td>\n",
       "      <td>...</td>\n",
       "      <td>...</td>\n",
       "    </tr>\n",
       "    <tr>\n",
       "      <th>87</th>\n",
       "      <td>Reggiani Caseifici</td>\n",
       "      <td>4.222835e+06</td>\n",
       "      <td>18400.755160</td>\n",
       "    </tr>\n",
       "    <tr>\n",
       "      <th>88</th>\n",
       "      <td>Lehmanns Marktstand</td>\n",
       "      <td>4.182514e+06</td>\n",
       "      <td>18467.964511</td>\n",
       "    </tr>\n",
       "    <tr>\n",
       "      <th>89</th>\n",
       "      <td>Furia Bacalhau e Frutos do Mar</td>\n",
       "      <td>4.098648e+06</td>\n",
       "      <td>17470.622273</td>\n",
       "    </tr>\n",
       "    <tr>\n",
       "      <th>90</th>\n",
       "      <td>Océano Atlántico Ltda.</td>\n",
       "      <td>4.059079e+06</td>\n",
       "      <td>17213.546773</td>\n",
       "    </tr>\n",
       "    <tr>\n",
       "      <th>91</th>\n",
       "      <td>Alfreds Futterkiste</td>\n",
       "      <td>3.965465e+06</td>\n",
       "      <td>16803.770499</td>\n",
       "    </tr>\n",
       "  </tbody>\n",
       "</table>\n",
       "<p>92 rows × 3 columns</p>\n",
       "</div>"
      ],
      "text/plain": [
       "                       CompanyName         total           dev\n",
       "0                               IT  9.745371e+06  17911.792434\n",
       "1                    B's Beverages  6.154115e+06  17822.000552\n",
       "2       Hungry Coyote Import Store  5.698024e+06  17304.451978\n",
       "3                    Rancho grande  5.559034e+06  17799.147451\n",
       "4              Gourmet Lanchonetes  5.552310e+06  17403.553505\n",
       "..                             ...           ...           ...\n",
       "87              Reggiani Caseifici  4.222835e+06  18400.755160\n",
       "88             Lehmanns Marktstand  4.182514e+06  18467.964511\n",
       "89  Furia Bacalhau e Frutos do Mar  4.098648e+06  17470.622273\n",
       "90          Océano Atlántico Ltda.  4.059079e+06  17213.546773\n",
       "91             Alfreds Futterkiste  3.965465e+06  16803.770499\n",
       "\n",
       "[92 rows x 3 columns]"
      ]
     },
     "execution_count": 74,
     "metadata": {},
     "output_type": "execute_result"
    }
   ],
   "source": [
    "per_customer = joined_data.aggregate(\n",
    "        by=\"CompanyName\",\n",
    "        total=joined_data[\"Subtotal\"].sum(), \n",
    "        dev=joined_data[\"Subtotal\"].std()\n",
    "    ).order_by(ibis.desc(\"total\")).to_pandas() \n",
    "\n",
    "per_customer"
   ]
  },
  {
   "cell_type": "code",
   "execution_count": 75,
   "metadata": {},
   "outputs": [
    {
     "data": {
      "application/vnd.plotly.v1+json": {
       "config": {
        "plotlyServerURL": "https://plot.ly"
       },
       "data": [
        {
         "alignmentgroup": "True",
         "error_y": {
          "array": [
           17911.792434376726,
           17822.00055227003,
           17304.45197759058,
           17799.14745056314,
           17403.553505052972,
           17050.555929328395,
           17042.73665219944,
           16676.71330332239,
           17730.850517213763,
           17666.476669552794,
           18490.30636046237,
           17193.67283690701,
           16839.114892530135,
           17724.322260580095,
           17998.27852914955,
           18055.65934901205,
           18784.570454499655,
           18587.827717239776,
           18048.46379752142,
           18021.364105126548,
           17757.805686680837,
           17810.48638508827,
           18508.267164629364,
           17963.407825192535,
           17289.852663082936,
           17134.57849327319,
           17817.040122843653,
           17814.770455933543,
           16735.92736685038,
           18255.912384502586,
           19140.737806781664,
           18466.615231250802,
           17594.355121888202,
           17812.1638787491,
           16502.98497712307,
           18560.759985362794,
           17022.279028263387,
           18051.31924877956,
           17893.172609144618,
           17595.581719043817,
           16868.527031254725,
           19045.7740628209,
           18285.244687542105,
           17629.328794974026,
           16792.038189576437,
           17089.015126799368,
           16803.821587147642,
           16607.85337486539,
           17526.799955409402,
           17718.187493273297,
           17592.2532382909,
           17967.013572044056,
           18262.933585457362,
           18140.620217333777,
           15517.893260401113,
           18861.604220056764,
           18333.80632630824,
           18128.83874129676,
           17147.00396779218,
           17318.14032404993,
           17226.296034395855,
           18378.762517227726,
           16887.33012126305,
           17420.246937985336,
           17945.323426429175,
           18733.01122690746,
           16478.745279936153,
           17578.374498628014,
           17399.894160343,
           18236.1479007837,
           17966.7919943863,
           18090.365704678316,
           18277.88372875483,
           18108.03016598811,
           17659.077631535532,
           17587.6593064157,
           18224.1485098007,
           17838.666880640158,
           17363.557278138578,
           17084.659003743076,
           17502.64197420395,
           18402.314406747162,
           16695.98175089647,
           18070.953970055278,
           16847.71142980014,
           18076.374288561798,
           17422.345987346132,
           18400.755160265744,
           18467.96451114226,
           17470.622272762525,
           17213.546773488906,
           16803.770498502865
          ]
         },
         "hovertemplate": "CompanyName=%{x}<br>total=%{y}<extra></extra>",
         "legendgroup": "",
         "marker": {
          "color": "#636efa",
          "pattern": {
           "shape": ""
          }
         },
         "name": "",
         "offsetgroup": "",
         "orientation": "v",
         "showlegend": false,
         "textposition": "auto",
         "type": "bar",
         "x": [
          "IT",
          "B's Beverages",
          "Hungry Coyote Import Store",
          "Rancho grande",
          "Gourmet Lanchonetes",
          "Ana Trujillo Emparedados y helados",
          "Ricardo Adocicados",
          "Folies gourmandes",
          "Let's Stop N Shop",
          "Princesa Isabel Vinhos",
          "LILA-Supermercado",
          "Bólido Comidas preparadas",
          "Piccolo und mehr",
          "Morgenstern Gesundkost",
          "Wellington Importadora",
          "Spécialités du monde",
          "Tortuga Restaurante",
          "Victuailles en stock",
          "France restauration",
          "Hanari Carnes",
          "Tradição Hipermercados",
          "Pericles Comidas clásicas",
          "Bottom-Dollar Markets",
          "Queen Cozinha",
          "The Cracker Box",
          "Comércio Mineiro",
          "Chop-suey Chinese",
          "Franchi S.p.A.",
          "Lazy K Kountry Store",
          "Vaffeljernet",
          "QUICK-Stop",
          "Consolidated Holdings",
          "Ottilies Käseladen",
          "Great Lakes Food Market",
          "Familia Arquibaldo",
          "Island Trading",
          "Mère Paillarde",
          "Die Wandernde Kuh",
          "HILARION-Abastos",
          "Magazzini Alimentari Riuniti",
          "Richter Supermarkt",
          "Berglunds snabbköp",
          "The Big Cheese",
          "Maison Dewey",
          "Old World Delicatessen",
          "Paris spécialités",
          "Romero y tomillo",
          "Drachenblut Delikatessen",
          "Simons bistro",
          "Seven Seas Imports",
          "Toms Spezialitäten",
          "Wolski  Zajazd",
          "Hungry Owl All-Night Grocers",
          "Bon app'",
          "FISSA Fabrica Inter. Salchichas S.A.",
          "Blondesddsl père et fils",
          "Santé Gourmet",
          "Rattlesnake Canyon Grocery",
          "La maison d'Asie",
          "White Clover Markets",
          "GROSELLA-Restaurante",
          "Wilman Kala",
          "Godos Cocina Típica",
          "Königlich Essen",
          "Cactus Comidas para llevar",
          "Suprêmes délices",
          "Centro comercial Moctezuma",
          "La corne d'abondance",
          "Eastern Connection",
          "Wartian Herkku",
          "Ernst Handel",
          "Save-a-lot Markets",
          "Galería del gastrónomo",
          "Split Rail Beer & Ale",
          "LINO-Delicateses",
          "Folk och fä HB",
          "Frankenversand",
          "Blauer See Delikatessen",
          "North/South",
          "Vins et alcools Chevalier",
          "Antonio Moreno Taquería",
          "Lonesome Pine Restaurant",
          "Trail's Head Gourmet Provisioners",
          "Laughing Bacchus Wine Cellars",
          "Que Delícia",
          "Around the Horn",
          "Du monde entier",
          "Reggiani Caseifici",
          "Lehmanns Marktstand",
          "Furia Bacalhau e Frutos do Mar",
          "Océano Atlántico Ltda.",
          "Alfreds Futterkiste"
         ],
         "xaxis": "x",
         "y": [
          9745371.290000005,
          6154115.34,
          5698023.669999999,
          5559034.079999999,
          5552309.805000001,
          5534356.65,
          5522679.3100000005,
          5505502.8500000015,
          5462198.022499999,
          5436770.55,
          5436764.42,
          5398064.440000001,
          5366426.269999998,
          5349089.590000001,
          5333907.69,
          5298269.650000001,
          5278083.969999999,
          5276686.06,
          5180799.400000002,
          5097941.559999998,
          5087091.414000002,
          5071522.5299999975,
          5062892.839999999,
          5057514.777499998,
          4997732.41,
          4992489.53,
          4989158.99,
          4943582.11,
          4942067.56,
          4940880.785,
          4938975.485,
          4931207.19,
          4911223.399999999,
          4900100.009999999,
          4895780.419999996,
          4885549.179999997,
          4877478.780000003,
          4854775.624999997,
          4841324.414000003,
          4833909.455000003,
          4833731.449000002,
          4833398.527500002,
          4830860.9799999995,
          4815829.325,
          4809258.5125,
          4805987.6499999985,
          4782770.28,
          4779289.010000002,
          4767261.852499997,
          4749839.215000001,
          4745078.1000000015,
          4738465.220000001,
          4732282.284999998,
          4724892.452500002,
          4719540.200000001,
          4705978.1400000015,
          4691250.639999999,
          4686559.289999999,
          4675656.490000004,
          4662707.935000001,
          4649039.289999999,
          4635588.030000001,
          4622798.430000001,
          4621173.903999998,
          4615072.630000001,
          4609931.109999998,
          4606245.250000001,
          4580281.869999998,
          4577978.395000001,
          4574418.762499998,
          4531958.968499999,
          4520065.250000001,
          4500324.899999999,
          4499350.87,
          4494019.925,
          4466300.6225000005,
          4434934.5595,
          4410759.750000001,
          4408743.860000001,
          4332214.280000002,
          4311774.037499998,
          4298854.649999999,
          4291819.959999996,
          4259986.339999998,
          4258199.69,
          4251821.619999999,
          4236208.170000001,
          4222835.2700000005,
          4182514.475000001,
          4098647.792500001,
          4059079.049999999,
          3965464.95
         ],
         "yaxis": "y"
        }
       ],
       "layout": {
        "barmode": "relative",
        "legend": {
         "tracegroupgap": 0
        },
        "margin": {
         "t": 60
        },
        "template": {
         "data": {
          "bar": [
           {
            "error_x": {
             "color": "#2a3f5f"
            },
            "error_y": {
             "color": "#2a3f5f"
            },
            "marker": {
             "line": {
              "color": "#E5ECF6",
              "width": 0.5
             },
             "pattern": {
              "fillmode": "overlay",
              "size": 10,
              "solidity": 0.2
             }
            },
            "type": "bar"
           }
          ],
          "barpolar": [
           {
            "marker": {
             "line": {
              "color": "#E5ECF6",
              "width": 0.5
             },
             "pattern": {
              "fillmode": "overlay",
              "size": 10,
              "solidity": 0.2
             }
            },
            "type": "barpolar"
           }
          ],
          "carpet": [
           {
            "aaxis": {
             "endlinecolor": "#2a3f5f",
             "gridcolor": "white",
             "linecolor": "white",
             "minorgridcolor": "white",
             "startlinecolor": "#2a3f5f"
            },
            "baxis": {
             "endlinecolor": "#2a3f5f",
             "gridcolor": "white",
             "linecolor": "white",
             "minorgridcolor": "white",
             "startlinecolor": "#2a3f5f"
            },
            "type": "carpet"
           }
          ],
          "choropleth": [
           {
            "colorbar": {
             "outlinewidth": 0,
             "ticks": ""
            },
            "type": "choropleth"
           }
          ],
          "contour": [
           {
            "colorbar": {
             "outlinewidth": 0,
             "ticks": ""
            },
            "colorscale": [
             [
              0,
              "#0d0887"
             ],
             [
              0.1111111111111111,
              "#46039f"
             ],
             [
              0.2222222222222222,
              "#7201a8"
             ],
             [
              0.3333333333333333,
              "#9c179e"
             ],
             [
              0.4444444444444444,
              "#bd3786"
             ],
             [
              0.5555555555555556,
              "#d8576b"
             ],
             [
              0.6666666666666666,
              "#ed7953"
             ],
             [
              0.7777777777777778,
              "#fb9f3a"
             ],
             [
              0.8888888888888888,
              "#fdca26"
             ],
             [
              1,
              "#f0f921"
             ]
            ],
            "type": "contour"
           }
          ],
          "contourcarpet": [
           {
            "colorbar": {
             "outlinewidth": 0,
             "ticks": ""
            },
            "type": "contourcarpet"
           }
          ],
          "heatmap": [
           {
            "colorbar": {
             "outlinewidth": 0,
             "ticks": ""
            },
            "colorscale": [
             [
              0,
              "#0d0887"
             ],
             [
              0.1111111111111111,
              "#46039f"
             ],
             [
              0.2222222222222222,
              "#7201a8"
             ],
             [
              0.3333333333333333,
              "#9c179e"
             ],
             [
              0.4444444444444444,
              "#bd3786"
             ],
             [
              0.5555555555555556,
              "#d8576b"
             ],
             [
              0.6666666666666666,
              "#ed7953"
             ],
             [
              0.7777777777777778,
              "#fb9f3a"
             ],
             [
              0.8888888888888888,
              "#fdca26"
             ],
             [
              1,
              "#f0f921"
             ]
            ],
            "type": "heatmap"
           }
          ],
          "heatmapgl": [
           {
            "colorbar": {
             "outlinewidth": 0,
             "ticks": ""
            },
            "colorscale": [
             [
              0,
              "#0d0887"
             ],
             [
              0.1111111111111111,
              "#46039f"
             ],
             [
              0.2222222222222222,
              "#7201a8"
             ],
             [
              0.3333333333333333,
              "#9c179e"
             ],
             [
              0.4444444444444444,
              "#bd3786"
             ],
             [
              0.5555555555555556,
              "#d8576b"
             ],
             [
              0.6666666666666666,
              "#ed7953"
             ],
             [
              0.7777777777777778,
              "#fb9f3a"
             ],
             [
              0.8888888888888888,
              "#fdca26"
             ],
             [
              1,
              "#f0f921"
             ]
            ],
            "type": "heatmapgl"
           }
          ],
          "histogram": [
           {
            "marker": {
             "pattern": {
              "fillmode": "overlay",
              "size": 10,
              "solidity": 0.2
             }
            },
            "type": "histogram"
           }
          ],
          "histogram2d": [
           {
            "colorbar": {
             "outlinewidth": 0,
             "ticks": ""
            },
            "colorscale": [
             [
              0,
              "#0d0887"
             ],
             [
              0.1111111111111111,
              "#46039f"
             ],
             [
              0.2222222222222222,
              "#7201a8"
             ],
             [
              0.3333333333333333,
              "#9c179e"
             ],
             [
              0.4444444444444444,
              "#bd3786"
             ],
             [
              0.5555555555555556,
              "#d8576b"
             ],
             [
              0.6666666666666666,
              "#ed7953"
             ],
             [
              0.7777777777777778,
              "#fb9f3a"
             ],
             [
              0.8888888888888888,
              "#fdca26"
             ],
             [
              1,
              "#f0f921"
             ]
            ],
            "type": "histogram2d"
           }
          ],
          "histogram2dcontour": [
           {
            "colorbar": {
             "outlinewidth": 0,
             "ticks": ""
            },
            "colorscale": [
             [
              0,
              "#0d0887"
             ],
             [
              0.1111111111111111,
              "#46039f"
             ],
             [
              0.2222222222222222,
              "#7201a8"
             ],
             [
              0.3333333333333333,
              "#9c179e"
             ],
             [
              0.4444444444444444,
              "#bd3786"
             ],
             [
              0.5555555555555556,
              "#d8576b"
             ],
             [
              0.6666666666666666,
              "#ed7953"
             ],
             [
              0.7777777777777778,
              "#fb9f3a"
             ],
             [
              0.8888888888888888,
              "#fdca26"
             ],
             [
              1,
              "#f0f921"
             ]
            ],
            "type": "histogram2dcontour"
           }
          ],
          "mesh3d": [
           {
            "colorbar": {
             "outlinewidth": 0,
             "ticks": ""
            },
            "type": "mesh3d"
           }
          ],
          "parcoords": [
           {
            "line": {
             "colorbar": {
              "outlinewidth": 0,
              "ticks": ""
             }
            },
            "type": "parcoords"
           }
          ],
          "pie": [
           {
            "automargin": true,
            "type": "pie"
           }
          ],
          "scatter": [
           {
            "fillpattern": {
             "fillmode": "overlay",
             "size": 10,
             "solidity": 0.2
            },
            "type": "scatter"
           }
          ],
          "scatter3d": [
           {
            "line": {
             "colorbar": {
              "outlinewidth": 0,
              "ticks": ""
             }
            },
            "marker": {
             "colorbar": {
              "outlinewidth": 0,
              "ticks": ""
             }
            },
            "type": "scatter3d"
           }
          ],
          "scattercarpet": [
           {
            "marker": {
             "colorbar": {
              "outlinewidth": 0,
              "ticks": ""
             }
            },
            "type": "scattercarpet"
           }
          ],
          "scattergeo": [
           {
            "marker": {
             "colorbar": {
              "outlinewidth": 0,
              "ticks": ""
             }
            },
            "type": "scattergeo"
           }
          ],
          "scattergl": [
           {
            "marker": {
             "colorbar": {
              "outlinewidth": 0,
              "ticks": ""
             }
            },
            "type": "scattergl"
           }
          ],
          "scattermapbox": [
           {
            "marker": {
             "colorbar": {
              "outlinewidth": 0,
              "ticks": ""
             }
            },
            "type": "scattermapbox"
           }
          ],
          "scatterpolar": [
           {
            "marker": {
             "colorbar": {
              "outlinewidth": 0,
              "ticks": ""
             }
            },
            "type": "scatterpolar"
           }
          ],
          "scatterpolargl": [
           {
            "marker": {
             "colorbar": {
              "outlinewidth": 0,
              "ticks": ""
             }
            },
            "type": "scatterpolargl"
           }
          ],
          "scatterternary": [
           {
            "marker": {
             "colorbar": {
              "outlinewidth": 0,
              "ticks": ""
             }
            },
            "type": "scatterternary"
           }
          ],
          "surface": [
           {
            "colorbar": {
             "outlinewidth": 0,
             "ticks": ""
            },
            "colorscale": [
             [
              0,
              "#0d0887"
             ],
             [
              0.1111111111111111,
              "#46039f"
             ],
             [
              0.2222222222222222,
              "#7201a8"
             ],
             [
              0.3333333333333333,
              "#9c179e"
             ],
             [
              0.4444444444444444,
              "#bd3786"
             ],
             [
              0.5555555555555556,
              "#d8576b"
             ],
             [
              0.6666666666666666,
              "#ed7953"
             ],
             [
              0.7777777777777778,
              "#fb9f3a"
             ],
             [
              0.8888888888888888,
              "#fdca26"
             ],
             [
              1,
              "#f0f921"
             ]
            ],
            "type": "surface"
           }
          ],
          "table": [
           {
            "cells": {
             "fill": {
              "color": "#EBF0F8"
             },
             "line": {
              "color": "white"
             }
            },
            "header": {
             "fill": {
              "color": "#C8D4E3"
             },
             "line": {
              "color": "white"
             }
            },
            "type": "table"
           }
          ]
         },
         "layout": {
          "annotationdefaults": {
           "arrowcolor": "#2a3f5f",
           "arrowhead": 0,
           "arrowwidth": 1
          },
          "autotypenumbers": "strict",
          "coloraxis": {
           "colorbar": {
            "outlinewidth": 0,
            "ticks": ""
           }
          },
          "colorscale": {
           "diverging": [
            [
             0,
             "#8e0152"
            ],
            [
             0.1,
             "#c51b7d"
            ],
            [
             0.2,
             "#de77ae"
            ],
            [
             0.3,
             "#f1b6da"
            ],
            [
             0.4,
             "#fde0ef"
            ],
            [
             0.5,
             "#f7f7f7"
            ],
            [
             0.6,
             "#e6f5d0"
            ],
            [
             0.7,
             "#b8e186"
            ],
            [
             0.8,
             "#7fbc41"
            ],
            [
             0.9,
             "#4d9221"
            ],
            [
             1,
             "#276419"
            ]
           ],
           "sequential": [
            [
             0,
             "#0d0887"
            ],
            [
             0.1111111111111111,
             "#46039f"
            ],
            [
             0.2222222222222222,
             "#7201a8"
            ],
            [
             0.3333333333333333,
             "#9c179e"
            ],
            [
             0.4444444444444444,
             "#bd3786"
            ],
            [
             0.5555555555555556,
             "#d8576b"
            ],
            [
             0.6666666666666666,
             "#ed7953"
            ],
            [
             0.7777777777777778,
             "#fb9f3a"
            ],
            [
             0.8888888888888888,
             "#fdca26"
            ],
            [
             1,
             "#f0f921"
            ]
           ],
           "sequentialminus": [
            [
             0,
             "#0d0887"
            ],
            [
             0.1111111111111111,
             "#46039f"
            ],
            [
             0.2222222222222222,
             "#7201a8"
            ],
            [
             0.3333333333333333,
             "#9c179e"
            ],
            [
             0.4444444444444444,
             "#bd3786"
            ],
            [
             0.5555555555555556,
             "#d8576b"
            ],
            [
             0.6666666666666666,
             "#ed7953"
            ],
            [
             0.7777777777777778,
             "#fb9f3a"
            ],
            [
             0.8888888888888888,
             "#fdca26"
            ],
            [
             1,
             "#f0f921"
            ]
           ]
          },
          "colorway": [
           "#636efa",
           "#EF553B",
           "#00cc96",
           "#ab63fa",
           "#FFA15A",
           "#19d3f3",
           "#FF6692",
           "#B6E880",
           "#FF97FF",
           "#FECB52"
          ],
          "font": {
           "color": "#2a3f5f"
          },
          "geo": {
           "bgcolor": "white",
           "lakecolor": "white",
           "landcolor": "#E5ECF6",
           "showlakes": true,
           "showland": true,
           "subunitcolor": "white"
          },
          "hoverlabel": {
           "align": "left"
          },
          "hovermode": "closest",
          "mapbox": {
           "style": "light"
          },
          "paper_bgcolor": "white",
          "plot_bgcolor": "#E5ECF6",
          "polar": {
           "angularaxis": {
            "gridcolor": "white",
            "linecolor": "white",
            "ticks": ""
           },
           "bgcolor": "#E5ECF6",
           "radialaxis": {
            "gridcolor": "white",
            "linecolor": "white",
            "ticks": ""
           }
          },
          "scene": {
           "xaxis": {
            "backgroundcolor": "#E5ECF6",
            "gridcolor": "white",
            "gridwidth": 2,
            "linecolor": "white",
            "showbackground": true,
            "ticks": "",
            "zerolinecolor": "white"
           },
           "yaxis": {
            "backgroundcolor": "#E5ECF6",
            "gridcolor": "white",
            "gridwidth": 2,
            "linecolor": "white",
            "showbackground": true,
            "ticks": "",
            "zerolinecolor": "white"
           },
           "zaxis": {
            "backgroundcolor": "#E5ECF6",
            "gridcolor": "white",
            "gridwidth": 2,
            "linecolor": "white",
            "showbackground": true,
            "ticks": "",
            "zerolinecolor": "white"
           }
          },
          "shapedefaults": {
           "line": {
            "color": "#2a3f5f"
           }
          },
          "ternary": {
           "aaxis": {
            "gridcolor": "white",
            "linecolor": "white",
            "ticks": ""
           },
           "baxis": {
            "gridcolor": "white",
            "linecolor": "white",
            "ticks": ""
           },
           "bgcolor": "#E5ECF6",
           "caxis": {
            "gridcolor": "white",
            "linecolor": "white",
            "ticks": ""
           }
          },
          "title": {
           "x": 0.05
          },
          "xaxis": {
           "automargin": true,
           "gridcolor": "white",
           "linecolor": "white",
           "ticks": "",
           "title": {
            "standoff": 15
           },
           "zerolinecolor": "white",
           "zerolinewidth": 2
          },
          "yaxis": {
           "automargin": true,
           "gridcolor": "white",
           "linecolor": "white",
           "ticks": "",
           "title": {
            "standoff": 15
           },
           "zerolinecolor": "white",
           "zerolinewidth": 2
          }
         }
        },
        "xaxis": {
         "anchor": "y",
         "domain": [
          0,
          1
         ],
         "title": {
          "text": "CompanyName"
         }
        },
        "yaxis": {
         "anchor": "x",
         "domain": [
          0,
          1
         ],
         "title": {
          "text": "total"
         }
        }
       }
      }
     },
     "metadata": {},
     "output_type": "display_data"
    }
   ],
   "source": [
    "fig = px.bar(per_customer, x='CompanyName', y='total', error_y='dev') \n",
    "fig.show() "
   ]
  },
  {
   "cell_type": "code",
   "execution_count": 81,
   "metadata": {},
   "outputs": [],
   "source": [
    "# Definir joined_data\n",
    "joined_data = summary_per_quarter.join(orders, \"OrderID\").join(customers, \"CustomerID\")\n",
    "\n",
    "# Definir IT_condition. Define IT_condition para especificar el filtro que necesitas aplicar.\n",
    "IT_condition = joined_data['Region'] == 'IT'  # Ajusta esta condición según tu necesidad\n",
    "\n",
    "# Filtrado y conversión a Pandas Dataframe \n",
    "df_IT_data = joined_data[IT_condition].to_pandas() \n",
    "\n",
    "# Conversión de la columna 'ShippedDate' a tipo datetime \n",
    "df_IT_data[\"ShippedDate\"] = pd.to_datetime(df_IT_data[\"ShippedDate\"])\n",
    "\n",
    "# Extración y configuración del índice \n",
    "extract = df_IT_data[[\"ShippedDate\", \"Subtotal\"]].set_index(\"ShippedDate\")\n",
    "\n",
    "extract_subsampled = extract.resample(\"BY\").mean(\"Subtotal\") "
   ]
  },
  {
   "cell_type": "code",
   "execution_count": 83,
   "metadata": {},
   "outputs": [
    {
     "ename": "ValueError",
     "evalue": "Value of 'x' is not the name of a column in 'data_frame'. Expected one of ['Subtotal'] but received: extract_subsampled.index",
     "output_type": "error",
     "traceback": [
      "\u001b[1;31m---------------------------------------------------------------------------\u001b[0m",
      "\u001b[1;31mValueError\u001b[0m                                Traceback (most recent call last)",
      "Cell \u001b[1;32mIn[83], line 1\u001b[0m\n\u001b[1;32m----> 1\u001b[0m fig \u001b[38;5;241m=\u001b[39m px\u001b[38;5;241m.\u001b[39marea(extract_subsampled, x\u001b[38;5;241m=\u001b[39m\u001b[38;5;124m\"\u001b[39m\u001b[38;5;124mextract_subsampled.index\u001b[39m\u001b[38;5;124m\"\u001b[39m, y\u001b[38;5;241m=\u001b[39m\u001b[38;5;124m\"\u001b[39m\u001b[38;5;124mSubtotal\u001b[39m\u001b[38;5;124m\"\u001b[39m) \n\u001b[0;32m      2\u001b[0m fig\u001b[38;5;241m.\u001b[39mshow()\n",
      "File \u001b[1;32mc:\\Users\\rodri\\anaconda3\\Lib\\site-packages\\plotly\\express\\_chart_types.py:315\u001b[0m, in \u001b[0;36marea\u001b[1;34m(data_frame, x, y, line_group, color, pattern_shape, symbol, hover_name, hover_data, custom_data, text, facet_row, facet_col, facet_col_wrap, facet_row_spacing, facet_col_spacing, animation_frame, animation_group, category_orders, labels, color_discrete_sequence, color_discrete_map, pattern_shape_sequence, pattern_shape_map, symbol_sequence, symbol_map, markers, orientation, groupnorm, log_x, log_y, range_x, range_y, line_shape, title, template, width, height)\u001b[0m\n\u001b[0;32m    270\u001b[0m \u001b[38;5;28;01mdef\u001b[39;00m \u001b[38;5;21marea\u001b[39m(\n\u001b[0;32m    271\u001b[0m     data_frame\u001b[38;5;241m=\u001b[39m\u001b[38;5;28;01mNone\u001b[39;00m,\n\u001b[0;32m    272\u001b[0m     x\u001b[38;5;241m=\u001b[39m\u001b[38;5;28;01mNone\u001b[39;00m,\n\u001b[1;32m   (...)\u001b[0m\n\u001b[0;32m    308\u001b[0m     height\u001b[38;5;241m=\u001b[39m\u001b[38;5;28;01mNone\u001b[39;00m,\n\u001b[0;32m    309\u001b[0m ) \u001b[38;5;241m-\u001b[39m\u001b[38;5;241m>\u001b[39m go\u001b[38;5;241m.\u001b[39mFigure:\n\u001b[0;32m    310\u001b[0m \u001b[38;5;250m    \u001b[39m\u001b[38;5;124;03m\"\"\"\u001b[39;00m\n\u001b[0;32m    311\u001b[0m \u001b[38;5;124;03m    In a stacked area plot, each row of `data_frame` is represented as\u001b[39;00m\n\u001b[0;32m    312\u001b[0m \u001b[38;5;124;03m    vertex of a polyline mark in 2D space. The area between successive\u001b[39;00m\n\u001b[0;32m    313\u001b[0m \u001b[38;5;124;03m    polylines is filled.\u001b[39;00m\n\u001b[0;32m    314\u001b[0m \u001b[38;5;124;03m    \"\"\"\u001b[39;00m\n\u001b[1;32m--> 315\u001b[0m     \u001b[38;5;28;01mreturn\u001b[39;00m make_figure(\n\u001b[0;32m    316\u001b[0m         args\u001b[38;5;241m=\u001b[39m\u001b[38;5;28mlocals\u001b[39m(),\n\u001b[0;32m    317\u001b[0m         constructor\u001b[38;5;241m=\u001b[39mgo\u001b[38;5;241m.\u001b[39mScatter,\n\u001b[0;32m    318\u001b[0m         trace_patch\u001b[38;5;241m=\u001b[39m\u001b[38;5;28mdict\u001b[39m(stackgroup\u001b[38;5;241m=\u001b[39m\u001b[38;5;241m1\u001b[39m, mode\u001b[38;5;241m=\u001b[39m\u001b[38;5;124m\"\u001b[39m\u001b[38;5;124mlines\u001b[39m\u001b[38;5;124m\"\u001b[39m, groupnorm\u001b[38;5;241m=\u001b[39mgroupnorm),\n\u001b[0;32m    319\u001b[0m     )\n",
      "File \u001b[1;32mc:\\Users\\rodri\\anaconda3\\Lib\\site-packages\\plotly\\express\\_core.py:1990\u001b[0m, in \u001b[0;36mmake_figure\u001b[1;34m(args, constructor, trace_patch, layout_patch)\u001b[0m\n\u001b[0;32m   1987\u001b[0m layout_patch \u001b[38;5;241m=\u001b[39m layout_patch \u001b[38;5;129;01mor\u001b[39;00m {}\n\u001b[0;32m   1988\u001b[0m apply_default_cascade(args)\n\u001b[1;32m-> 1990\u001b[0m args \u001b[38;5;241m=\u001b[39m build_dataframe(args, constructor)\n\u001b[0;32m   1991\u001b[0m \u001b[38;5;28;01mif\u001b[39;00m constructor \u001b[38;5;129;01min\u001b[39;00m [go\u001b[38;5;241m.\u001b[39mTreemap, go\u001b[38;5;241m.\u001b[39mSunburst, go\u001b[38;5;241m.\u001b[39mIcicle] \u001b[38;5;129;01mand\u001b[39;00m args[\u001b[38;5;124m\"\u001b[39m\u001b[38;5;124mpath\u001b[39m\u001b[38;5;124m\"\u001b[39m] \u001b[38;5;129;01mis\u001b[39;00m \u001b[38;5;129;01mnot\u001b[39;00m \u001b[38;5;28;01mNone\u001b[39;00m:\n\u001b[0;32m   1992\u001b[0m     args \u001b[38;5;241m=\u001b[39m process_dataframe_hierarchy(args)\n",
      "File \u001b[1;32mc:\\Users\\rodri\\anaconda3\\Lib\\site-packages\\plotly\\express\\_core.py:1405\u001b[0m, in \u001b[0;36mbuild_dataframe\u001b[1;34m(args, constructor)\u001b[0m\n\u001b[0;32m   1402\u001b[0m     args[\u001b[38;5;124m\"\u001b[39m\u001b[38;5;124mcolor\u001b[39m\u001b[38;5;124m\"\u001b[39m] \u001b[38;5;241m=\u001b[39m \u001b[38;5;28;01mNone\u001b[39;00m\n\u001b[0;32m   1403\u001b[0m \u001b[38;5;66;03m# now that things have been prepped, we do the systematic rewriting of `args`\u001b[39;00m\n\u001b[1;32m-> 1405\u001b[0m df_output, wide_id_vars \u001b[38;5;241m=\u001b[39m process_args_into_dataframe(\n\u001b[0;32m   1406\u001b[0m     args, wide_mode, var_name, value_name\n\u001b[0;32m   1407\u001b[0m )\n\u001b[0;32m   1409\u001b[0m \u001b[38;5;66;03m# now that `df_output` exists and `args` contains only references, we complete\u001b[39;00m\n\u001b[0;32m   1410\u001b[0m \u001b[38;5;66;03m# the special-case and wide-mode handling by further rewriting args and/or mutating\u001b[39;00m\n\u001b[0;32m   1411\u001b[0m \u001b[38;5;66;03m# df_output\u001b[39;00m\n\u001b[0;32m   1413\u001b[0m count_name \u001b[38;5;241m=\u001b[39m _escape_col_name(df_output, \u001b[38;5;124m\"\u001b[39m\u001b[38;5;124mcount\u001b[39m\u001b[38;5;124m\"\u001b[39m, [var_name, value_name])\n",
      "File \u001b[1;32mc:\\Users\\rodri\\anaconda3\\Lib\\site-packages\\plotly\\express\\_core.py:1207\u001b[0m, in \u001b[0;36mprocess_args_into_dataframe\u001b[1;34m(args, wide_mode, var_name, value_name)\u001b[0m\n\u001b[0;32m   1205\u001b[0m         \u001b[38;5;28;01mif\u001b[39;00m argument \u001b[38;5;241m==\u001b[39m \u001b[38;5;124m\"\u001b[39m\u001b[38;5;124mindex\u001b[39m\u001b[38;5;124m\"\u001b[39m:\n\u001b[0;32m   1206\u001b[0m             err_msg \u001b[38;5;241m+\u001b[39m\u001b[38;5;241m=\u001b[39m \u001b[38;5;124m\"\u001b[39m\u001b[38;5;130;01m\\n\u001b[39;00m\u001b[38;5;124m To use the index, pass it in directly as `df.index`.\u001b[39m\u001b[38;5;124m\"\u001b[39m\n\u001b[1;32m-> 1207\u001b[0m         \u001b[38;5;28;01mraise\u001b[39;00m \u001b[38;5;167;01mValueError\u001b[39;00m(err_msg)\n\u001b[0;32m   1208\u001b[0m \u001b[38;5;28;01melif\u001b[39;00m length \u001b[38;5;129;01mand\u001b[39;00m \u001b[38;5;28mlen\u001b[39m(df_input[argument]) \u001b[38;5;241m!=\u001b[39m length:\n\u001b[0;32m   1209\u001b[0m     \u001b[38;5;28;01mraise\u001b[39;00m \u001b[38;5;167;01mValueError\u001b[39;00m(\n\u001b[0;32m   1210\u001b[0m         \u001b[38;5;124m\"\u001b[39m\u001b[38;5;124mAll arguments should have the same length. \u001b[39m\u001b[38;5;124m\"\u001b[39m\n\u001b[0;32m   1211\u001b[0m         \u001b[38;5;124m\"\u001b[39m\u001b[38;5;124mThe length of column argument `df[\u001b[39m\u001b[38;5;132;01m%s\u001b[39;00m\u001b[38;5;124m]` is \u001b[39m\u001b[38;5;132;01m%d\u001b[39;00m\u001b[38;5;124m, whereas the \u001b[39m\u001b[38;5;124m\"\u001b[39m\n\u001b[1;32m   (...)\u001b[0m\n\u001b[0;32m   1218\u001b[0m         )\n\u001b[0;32m   1219\u001b[0m     )\n",
      "\u001b[1;31mValueError\u001b[0m: Value of 'x' is not the name of a column in 'data_frame'. Expected one of ['Subtotal'] but received: extract_subsampled.index"
     ]
    }
   ],
   "source": [
    "fig = px.area(extract_subsampled, x=\"extract_subsampled.index\", y=\"Subtotal\") \n",
    "fig.show()  "
   ]
  },
  {
   "cell_type": "markdown",
   "metadata": {},
   "source": [
    "### **4. Análisis de Inventarios y Proveedores**\n",
    "Analiza los niveles de inventario y la gestión de proveedores de la empresa. Examina el inventario disponible por categoría de productos, así como el rendimiento de los proveedores en términos de puntualidad de entrega y calidad de los productos. \n",
    "\n",
    "Pista: Utiliza gráficos de líneas y tablas dinámicas para mostrar tendencias y comparar el desempeño de los proveedores."
   ]
  },
  {
   "cell_type": "code",
   "execution_count": null,
   "metadata": {},
   "outputs": [],
   "source": []
  },
  {
   "cell_type": "markdown",
   "metadata": {},
   "source": [
    "### **5. Análisis de Comportamiento de Empleados**\n",
    "Analiza el comportamiento de los empleados de la empresa. Examina las ventas realizadas por cada empleado, así como su eficiencia en el manejo de pedidos y su puntualidad en la entrega de productos. \n",
    "\n",
    "Pista: Utiliza gráficos de barra y de dispersión para comparar el desempeño de los empleados y identificar áreas de mejora. "
   ]
  },
  {
   "cell_type": "code",
   "execution_count": 109,
   "metadata": {},
   "outputs": [
    {
     "data": {
      "text/html": [
       "<div>\n",
       "<style scoped>\n",
       "    .dataframe tbody tr th:only-of-type {\n",
       "        vertical-align: middle;\n",
       "    }\n",
       "\n",
       "    .dataframe tbody tr th {\n",
       "        vertical-align: top;\n",
       "    }\n",
       "\n",
       "    .dataframe thead th {\n",
       "        text-align: right;\n",
       "    }\n",
       "</style>\n",
       "<table border=\"1\" class=\"dataframe\">\n",
       "  <thead>\n",
       "    <tr style=\"text-align: right;\">\n",
       "      <th></th>\n",
       "      <th>Salesperson</th>\n",
       "      <th>ExtendedPrice</th>\n",
       "    </tr>\n",
       "  </thead>\n",
       "  <tbody>\n",
       "    <tr>\n",
       "      <th>0</th>\n",
       "      <td>Steven</td>\n",
       "      <td>168.0</td>\n",
       "    </tr>\n",
       "    <tr>\n",
       "      <th>1</th>\n",
       "      <td>Steven</td>\n",
       "      <td>98.0</td>\n",
       "    </tr>\n",
       "    <tr>\n",
       "      <th>2</th>\n",
       "      <td>Steven</td>\n",
       "      <td>174.0</td>\n",
       "    </tr>\n",
       "    <tr>\n",
       "      <th>3</th>\n",
       "      <td>Michael</td>\n",
       "      <td>167.4</td>\n",
       "    </tr>\n",
       "    <tr>\n",
       "      <th>4</th>\n",
       "      <td>Michael</td>\n",
       "      <td>1696.0</td>\n",
       "    </tr>\n",
       "  </tbody>\n",
       "</table>\n",
       "</div>"
      ],
      "text/plain": [
       "  Salesperson  ExtendedPrice\n",
       "0      Steven          168.0\n",
       "1      Steven           98.0\n",
       "2      Steven          174.0\n",
       "3     Michael          167.4\n",
       "4     Michael         1696.0"
      ]
     },
     "execution_count": 109,
     "metadata": {},
     "output_type": "execute_result"
    }
   ],
   "source": [
    "# ESTE CÓDIGO ESTÁ HECHO UTILIZANDO LAS VISTAS QUE SE ENCUENTRAN EN EL PROGRAMA 'DBEAVER' \n",
    "\n",
    "empleados_rentables = con.sql(\"SELECT Salesperson, ExtendedPrice FROM Invoices\") \n",
    "empleados_rentables.head(5).to_pandas() "
   ]
  },
  {
   "cell_type": "code",
   "execution_count": 110,
   "metadata": {},
   "outputs": [
    {
     "data": {
      "text/html": [
       "<div>\n",
       "<style scoped>\n",
       "    .dataframe tbody tr th:only-of-type {\n",
       "        vertical-align: middle;\n",
       "    }\n",
       "\n",
       "    .dataframe tbody tr th {\n",
       "        vertical-align: top;\n",
       "    }\n",
       "\n",
       "    .dataframe thead th {\n",
       "        text-align: right;\n",
       "    }\n",
       "</style>\n",
       "<table border=\"1\" class=\"dataframe\">\n",
       "  <thead>\n",
       "    <tr style=\"text-align: right;\">\n",
       "      <th></th>\n",
       "      <th>Salesperson</th>\n",
       "      <th>rendimiento</th>\n",
       "    </tr>\n",
       "  </thead>\n",
       "  <tbody>\n",
       "    <tr>\n",
       "      <th>0</th>\n",
       "      <td>Margaret</td>\n",
       "      <td>5.148840e+07</td>\n",
       "    </tr>\n",
       "    <tr>\n",
       "      <th>1</th>\n",
       "      <td>Steven</td>\n",
       "      <td>5.138646e+07</td>\n",
       "    </tr>\n",
       "    <tr>\n",
       "      <th>2</th>\n",
       "      <td>Janet</td>\n",
       "      <td>5.044557e+07</td>\n",
       "    </tr>\n",
       "    <tr>\n",
       "      <th>3</th>\n",
       "      <td>Nancy</td>\n",
       "      <td>4.965942e+07</td>\n",
       "    </tr>\n",
       "    <tr>\n",
       "      <th>4</th>\n",
       "      <td>Robert</td>\n",
       "      <td>4.965190e+07</td>\n",
       "    </tr>\n",
       "    <tr>\n",
       "      <th>5</th>\n",
       "      <td>Laura</td>\n",
       "      <td>4.928114e+07</td>\n",
       "    </tr>\n",
       "    <tr>\n",
       "      <th>6</th>\n",
       "      <td>Michael</td>\n",
       "      <td>4.913997e+07</td>\n",
       "    </tr>\n",
       "    <tr>\n",
       "      <th>7</th>\n",
       "      <td>Anne</td>\n",
       "      <td>4.901968e+07</td>\n",
       "    </tr>\n",
       "    <tr>\n",
       "      <th>8</th>\n",
       "      <td>Andrew</td>\n",
       "      <td>4.831410e+07</td>\n",
       "    </tr>\n",
       "  </tbody>\n",
       "</table>\n",
       "</div>"
      ],
      "text/plain": [
       "  Salesperson   rendimiento\n",
       "0    Margaret  5.148840e+07\n",
       "1      Steven  5.138646e+07\n",
       "2       Janet  5.044557e+07\n",
       "3       Nancy  4.965942e+07\n",
       "4      Robert  4.965190e+07\n",
       "5       Laura  4.928114e+07\n",
       "6     Michael  4.913997e+07\n",
       "7        Anne  4.901968e+07\n",
       "8      Andrew  4.831410e+07"
      ]
     },
     "execution_count": 110,
     "metadata": {},
     "output_type": "execute_result"
    }
   ],
   "source": [
    "# ESTO ESTÁ HECHO CON 'IBIS' SIN ESTAR CONECTADO Y EL RESULTADO SE ENVIA A 'PANDAS' PARA SER MOSTRADO \n",
    "\n",
    "empleados_rentables = ventas.aggregate(by=\"Salesperson\", rendimiento=ventas[\"ExtendedPrice\"].sum()).order_by(ibis.desc(\"rendimiento\")).to_pandas()\n",
    "empleados_rentables"
   ]
  },
  {
   "cell_type": "code",
   "execution_count": 111,
   "metadata": {},
   "outputs": [
    {
     "data": {
      "text/html": [
       "<pre style=\"white-space:pre;overflow-x:auto;line-height:normal;font-family:Menlo,'DejaVu Sans Mono',consolas,'Courier New',monospace\">r0 := SQLQueryResult\n",
       "  query:\n",
       "    SELECT Salesperson, ExtendedPrice FROM Invoices\n",
       "  schema:\n",
       "    Salesperson   string\n",
       "    ExtendedPrice float64\n",
       "\n",
       "r1 := Aggregate[r0]\n",
       "  groups:\n",
       "    Salesperson: r0.Salesperson\n",
       "  metrics:\n",
       "    rendimiento: Sum(r0.ExtendedPrice)\n",
       "\n",
       "Sort[r1]\n",
       "  desc r1.rendimiento\n",
       "</pre>\n"
      ],
      "text/plain": [
       "r0 := SQLQueryResult\n",
       "  query:\n",
       "    SELECT Salesperson, ExtendedPrice FROM Invoices\n",
       "  schema:\n",
       "    Salesperson   string\n",
       "    ExtendedPrice float64\n",
       "\n",
       "r1 := Aggregate[r0]\n",
       "  groups:\n",
       "    Salesperson: r0.Salesperson\n",
       "  metrics:\n",
       "    rendimiento: Sum(r0.ExtendedPrice)\n",
       "\n",
       "Sort[r1]\n",
       "  desc r1.rendimiento"
      ]
     },
     "execution_count": 111,
     "metadata": {},
     "output_type": "execute_result"
    }
   ],
   "source": [
    "# EL PROGRAMA ESTÁ HECHO CON IBIS, PERO EL RESULTADO NO SE ENVIA A 'PANDAS' POR LO CUAL EL CÓDIGO MUESTRA EL TIPO DE DATO QUE\n",
    "#  TIENE PARA UNO DE SUS ELEMENTOS \n",
    "\n",
    "empleados_rentables = ventas.aggregate(by=\"Salesperson\", rendimiento=ventas[\"ExtendedPrice\"].sum()).order_by(ibis.desc(\"rendimiento\"))\n",
    "empleados_rentables"
   ]
  },
  {
   "cell_type": "code",
   "execution_count": 112,
   "metadata": {},
   "outputs": [
    {
     "data": {
      "text/markdown": [
       "```sql\n",
       "SELECT\n",
       "  *\n",
       "FROM (\n",
       "  SELECT\n",
       "    \"t0\".\"Salesperson\",\n",
       "    SUM(\"t0\".\"ExtendedPrice\") AS \"rendimiento\"\n",
       "  FROM (\n",
       "    SELECT\n",
       "      Salesperson,\n",
       "      ExtendedPrice\n",
       "    FROM Invoices\n",
       "  ) AS \"t0\"\n",
       "  GROUP BY\n",
       "    1\n",
       ") AS \"t1\"\n",
       "ORDER BY\n",
       "  \"t1\".\"rendimiento\" DESC\n",
       "```"
      ],
      "text/plain": [
       "\u001b[34mSELECT\u001b[39;49;00m\u001b[37m\u001b[39;49;00m\n",
       "\u001b[37m  \u001b[39;49;00m*\u001b[37m\u001b[39;49;00m\n",
       "\u001b[34mFROM\u001b[39;49;00m\u001b[37m \u001b[39;49;00m(\u001b[37m\u001b[39;49;00m\n",
       "\u001b[37m  \u001b[39;49;00m\u001b[34mSELECT\u001b[39;49;00m\u001b[37m\u001b[39;49;00m\n",
       "\u001b[37m    \u001b[39;49;00m\u001b[33m\"t0\"\u001b[39;49;00m.\u001b[33m\"Salesperson\"\u001b[39;49;00m,\u001b[37m\u001b[39;49;00m\n",
       "\u001b[37m    \u001b[39;49;00m\u001b[34mSUM\u001b[39;49;00m(\u001b[33m\"t0\"\u001b[39;49;00m.\u001b[33m\"ExtendedPrice\"\u001b[39;49;00m)\u001b[37m \u001b[39;49;00m\u001b[34mAS\u001b[39;49;00m\u001b[37m \u001b[39;49;00m\u001b[33m\"rendimiento\"\u001b[39;49;00m\u001b[37m\u001b[39;49;00m\n",
       "\u001b[37m  \u001b[39;49;00m\u001b[34mFROM\u001b[39;49;00m\u001b[37m \u001b[39;49;00m(\u001b[37m\u001b[39;49;00m\n",
       "\u001b[37m    \u001b[39;49;00m\u001b[34mSELECT\u001b[39;49;00m\u001b[37m\u001b[39;49;00m\n",
       "\u001b[37m      \u001b[39;49;00mSalesperson,\u001b[37m\u001b[39;49;00m\n",
       "\u001b[37m      \u001b[39;49;00mExtendedPrice\u001b[37m\u001b[39;49;00m\n",
       "\u001b[37m    \u001b[39;49;00m\u001b[34mFROM\u001b[39;49;00m\u001b[37m \u001b[39;49;00mInvoices\u001b[37m\u001b[39;49;00m\n",
       "\u001b[37m  \u001b[39;49;00m)\u001b[37m \u001b[39;49;00m\u001b[34mAS\u001b[39;49;00m\u001b[37m \u001b[39;49;00m\u001b[33m\"t0\"\u001b[39;49;00m\u001b[37m\u001b[39;49;00m\n",
       "\u001b[37m  \u001b[39;49;00m\u001b[34mGROUP\u001b[39;49;00m\u001b[37m \u001b[39;49;00m\u001b[34mBY\u001b[39;49;00m\u001b[37m\u001b[39;49;00m\n",
       "\u001b[37m    \u001b[39;49;00m\u001b[34m1\u001b[39;49;00m\u001b[37m\u001b[39;49;00m\n",
       ")\u001b[37m \u001b[39;49;00m\u001b[34mAS\u001b[39;49;00m\u001b[37m \u001b[39;49;00m\u001b[33m\"t1\"\u001b[39;49;00m\u001b[37m\u001b[39;49;00m\n",
       "\u001b[34mORDER\u001b[39;49;00m\u001b[37m \u001b[39;49;00m\u001b[34mBY\u001b[39;49;00m\u001b[37m\u001b[39;49;00m\n",
       "\u001b[37m  \u001b[39;49;00m\u001b[33m\"t1\"\u001b[39;49;00m.\u001b[33m\"rendimiento\"\u001b[39;49;00m\u001b[37m \u001b[39;49;00m\u001b[34mDESC\u001b[39;49;00m\u001b[37m\u001b[39;49;00m"
      ]
     },
     "execution_count": 112,
     "metadata": {},
     "output_type": "execute_result"
    }
   ],
   "source": [
    "# LA VARIABLE DE RETORNO DEL CÓDIGO ES INGRESADA COMO PARAMETRO DE ENTRADA A LA FUNCION 'ibis.to_sql()', LA CUAL RETORNA LA \n",
    "# CONSULTA SQL QUE PERMITE REALIZAR ESTE MISMO CÓDIGO \n",
    "\n",
    "ibis.to_sql(empleados_rentables) "
   ]
  },
  {
   "cell_type": "code",
   "execution_count": 114,
   "metadata": {},
   "outputs": [
    {
     "data": {
      "text/html": [
       "<div>\n",
       "<style scoped>\n",
       "    .dataframe tbody tr th:only-of-type {\n",
       "        vertical-align: middle;\n",
       "    }\n",
       "\n",
       "    .dataframe tbody tr th {\n",
       "        vertical-align: top;\n",
       "    }\n",
       "\n",
       "    .dataframe thead th {\n",
       "        text-align: right;\n",
       "    }\n",
       "</style>\n",
       "<table border=\"1\" class=\"dataframe\">\n",
       "  <thead>\n",
       "    <tr style=\"text-align: right;\">\n",
       "      <th></th>\n",
       "      <th>Salesperson</th>\n",
       "      <th>rendimiento</th>\n",
       "    </tr>\n",
       "  </thead>\n",
       "  <tbody>\n",
       "    <tr>\n",
       "      <th>0</th>\n",
       "      <td>Margaret</td>\n",
       "      <td>5.148840e+07</td>\n",
       "    </tr>\n",
       "    <tr>\n",
       "      <th>1</th>\n",
       "      <td>Steven</td>\n",
       "      <td>5.138646e+07</td>\n",
       "    </tr>\n",
       "    <tr>\n",
       "      <th>2</th>\n",
       "      <td>Janet</td>\n",
       "      <td>5.044557e+07</td>\n",
       "    </tr>\n",
       "    <tr>\n",
       "      <th>3</th>\n",
       "      <td>Nancy</td>\n",
       "      <td>4.965942e+07</td>\n",
       "    </tr>\n",
       "    <tr>\n",
       "      <th>4</th>\n",
       "      <td>Robert</td>\n",
       "      <td>4.965190e+07</td>\n",
       "    </tr>\n",
       "    <tr>\n",
       "      <th>5</th>\n",
       "      <td>Laura</td>\n",
       "      <td>4.928114e+07</td>\n",
       "    </tr>\n",
       "    <tr>\n",
       "      <th>6</th>\n",
       "      <td>Michael</td>\n",
       "      <td>4.913997e+07</td>\n",
       "    </tr>\n",
       "    <tr>\n",
       "      <th>7</th>\n",
       "      <td>Anne</td>\n",
       "      <td>4.901968e+07</td>\n",
       "    </tr>\n",
       "    <tr>\n",
       "      <th>8</th>\n",
       "      <td>Andrew</td>\n",
       "      <td>4.831410e+07</td>\n",
       "    </tr>\n",
       "  </tbody>\n",
       "</table>\n",
       "</div>"
      ],
      "text/plain": [
       "  Salesperson   rendimiento\n",
       "0    Margaret  5.148840e+07\n",
       "1      Steven  5.138646e+07\n",
       "2       Janet  5.044557e+07\n",
       "3       Nancy  4.965942e+07\n",
       "4      Robert  4.965190e+07\n",
       "5       Laura  4.928114e+07\n",
       "6     Michael  4.913997e+07\n",
       "7        Anne  4.901968e+07\n",
       "8      Andrew  4.831410e+07"
      ]
     },
     "execution_count": 114,
     "metadata": {},
     "output_type": "execute_result"
    }
   ],
   "source": [
    "empleados_rentables.to_pandas()"
   ]
  }
 ],
 "metadata": {
  "kernelspec": {
   "display_name": "base",
   "language": "python",
   "name": "python3"
  },
  "language_info": {
   "codemirror_mode": {
    "name": "ipython",
    "version": 3
   },
   "file_extension": ".py",
   "mimetype": "text/x-python",
   "name": "python",
   "nbconvert_exporter": "python",
   "pygments_lexer": "ipython3",
   "version": "3.11.7"
  }
 },
 "nbformat": 4,
 "nbformat_minor": 2
}
