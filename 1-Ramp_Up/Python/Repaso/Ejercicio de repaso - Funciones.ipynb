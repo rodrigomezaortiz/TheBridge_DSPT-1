{
 "cells": [
  {
   "attachments": {},
   "cell_type": "markdown",
   "metadata": {},
   "source": [
    "### Ejercicio 1 \n",
    "Desarrolla una función que reciba dos palabras cualesquiera y devuelva el número de letras que tienen en común."
   ]
  },
  {
   "cell_type": "code",
   "execution_count": null,
   "metadata": {},
   "outputs": [],
   "source": []
  },
  {
   "attachments": {},
   "cell_type": "markdown",
   "metadata": {},
   "source": [
    "### Ejercicio 2\n",
    "Un número primo es aquel número que solo es divisible por 1 y por si mismo (2,3,5,7,11,13,...). Define una función que pida al usuario un número natural mayor que 2 y devuelva si se trata de un número primo o no."
   ]
  },
  {
   "cell_type": "code",
   "execution_count": null,
   "metadata": {},
   "outputs": [],
   "source": []
  },
  {
   "attachments": {},
   "cell_type": "markdown",
   "metadata": {},
   "source": [
    "### Ejercicio 3\n",
    "Desarrollar una función en la que se vaya pidiendo números reales al usuario (uno por uno) y una vez el usuario ingrese la palabra ***terminar***, la función devuelva el valor máximo y mínimo de los números ingresados por el usuario.\n"
   ]
  },
  {
   "cell_type": "code",
   "execution_count": null,
   "metadata": {},
   "outputs": [],
   "source": []
  },
  {
   "attachments": {},
   "cell_type": "markdown",
   "metadata": {},
   "source": [
    "### Ejercicio 4\n",
    "Desarrollar una función que reciba como entrada una lista de palabras y devuelva la longitud de la palabra más corta y la palabra más larga."
   ]
  },
  {
   "cell_type": "code",
   "execution_count": null,
   "metadata": {},
   "outputs": [],
   "source": []
  },
  {
   "attachments": {},
   "cell_type": "markdown",
   "metadata": {},
   "source": [
    "### Ejercicio 5 \n",
    "Definir una función que reciba una cadena de caracteres y devuelva un diccionario cuyas claves sean las cinco vocales y sus valores sean sus frecuencias dentro de la cadena respectivamente."
   ]
  },
  {
   "cell_type": "code",
   "execution_count": null,
   "metadata": {},
   "outputs": [],
   "source": []
  },
  {
   "attachments": {},
   "cell_type": "markdown",
   "metadata": {},
   "source": [
    "### Ejercicio 6\n",
    "Definir un programa que pida al usuario dos palabras y devuelva ***True*** si las palabras riman y ***False*** si las palabras no riman."
   ]
  },
  {
   "cell_type": "code",
   "execution_count": null,
   "metadata": {},
   "outputs": [],
   "source": []
  },
  {
   "attachments": {},
   "cell_type": "markdown",
   "metadata": {},
   "source": [
    "### Ejercicio 7\n",
    "Desarrollar una función que reciba una lista de números y devuelva una lista de listas (lista = [$\\text{sublista}_{1}$,$\\text{sublista}_{2}$,$\\text{sublista}_{3}$]), en la que cada sublista contendrá determinados números.\n",
    "\n",
    "* sublista1: los números que tengan de 1-6 cifras.\n",
    "* sublista2: los números que tengan de 7-12 cifras.\n",
    "* sublista3: los números que tengan m´as de 12 cifras.\n",
    "\n",
    "**Nota**: cuidado cuando tengamos un número negativo o con decimales.\n"
   ]
  },
  {
   "cell_type": "code",
   "execution_count": null,
   "metadata": {},
   "outputs": [],
   "source": []
  }
 ],
 "metadata": {
  "kernelspec": {
   "display_name": "Python 3",
   "language": "python",
   "name": "python3"
  },
  "language_info": {
   "codemirror_mode": {
    "name": "ipython",
    "version": 3
   },
   "file_extension": ".py",
   "mimetype": "text/x-python",
   "name": "python",
   "nbconvert_exporter": "python",
   "pygments_lexer": "ipython3",
   "version": "3.7.4"
  },
  "vscode": {
   "interpreter": {
    "hash": "abc9fc88bc0e5c548c5da0f33af674c000293e7a58ee42428ace4cfa52bc0e99"
   }
  }
 },
 "nbformat": 4,
 "nbformat_minor": 2
}
